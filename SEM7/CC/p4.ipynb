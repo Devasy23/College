{
 "cells": [
  {
   "cell_type": "code",
   "execution_count": 42,
   "metadata": {},
   "outputs": [],
   "source": [
    "import re\n",
    "from collections import defaultdict"
   ]
  },
  {
   "cell_type": "markdown",
   "metadata": {},
   "source": [
    "S->aBDh\n",
    "\n",
    "B->cC\n",
    "\n",
    "C->bC|$\n",
    "\n",
    "D->EF\n",
    "\n",
    "E->g|$\n",
    "\n",
    "F->f|$"
   ]
  },
  {
   "cell_type": "markdown",
   "metadata": {},
   "source": [
    "# Devasy Patel\n",
    "## 20BCE057\n",
    "\n",
    "## Practical 4"
   ]
  },
  {
   "cell_type": "code",
   "execution_count": 43,
   "metadata": {},
   "outputs": [],
   "source": [
    "Grammar = {\"S\": [\"aBDh\"],\"B\":[\"cC\"],\"C\":[\"bC\",\"#\"],\"D\":[\"EF\"],\"E\":[\"g\",\"#\"],\"F\":[\"f\",\"#\"]}"
   ]
  },
  {
   "cell_type": "code",
   "execution_count": 44,
   "metadata": {},
   "outputs": [
    {
     "data": {
      "text/plain": [
       "{'#', 'f', 'g'}"
      ]
     },
     "execution_count": 44,
     "metadata": {},
     "output_type": "execute_result"
    }
   ],
   "source": [
    "Follow = {}\n",
    "First = {}\n",
    "\n",
    "def find_first(key):\n",
    "    # if key in First.keys():\n",
    "    #     return First[key]\n",
    "    # else:\n",
    "        for rule in Grammar[key]:\n",
    "            if rule == \"#\":\n",
    "                First[key].add(\"#\")\n",
    "            elif rule[0].isupper():\n",
    "                First[key] = First[key].union(find_first(rule[0]))\n",
    "                if \"#\" in First[key]:\n",
    "                    First[key] = First[key].union(find_first(rule[1:]))\n",
    "            else:\n",
    "                First[key].add(rule[0])\n",
    "        return First[key]\n",
    "for key in Grammar.keys():\n",
    "    Follow[key] = set()\n",
    "    First[key] = set()\n",
    "    # First[key] = find_first(key)\n",
    "\n",
    "for key in Grammar.keys():\n",
    "    First[key] = find_first(key)\n",
    "find_first(\"D\")"
   ]
  },
  {
   "cell_type": "code",
   "execution_count": 45,
   "metadata": {},
   "outputs": [
    {
     "data": {
      "text/plain": [
       "{'S': {'a'},\n",
       " 'B': {'c'},\n",
       " 'C': {'#', 'b'},\n",
       " 'D': {'#', 'f', 'g'},\n",
       " 'E': {'#', 'g'},\n",
       " 'F': {'#', 'f'}}"
      ]
     },
     "execution_count": 45,
     "metadata": {},
     "output_type": "execute_result"
    }
   ],
   "source": [
    "First\n"
   ]
  },
  {
   "cell_type": "markdown",
   "metadata": {},
   "source": [
    "true follow \n",
    "- s -> $ \n",
    "- b -> g, f, h\n",
    "- c -> g, f, h\n",
    "- d -> h\n",
    "- e -> f, h\n",
    "- f -> h"
   ]
  },
  {
   "cell_type": "code",
   "execution_count": 46,
   "metadata": {},
   "outputs": [
    {
     "name": "stdout",
     "output_type": "stream",
     "text": [
      "follow of :  S  is  {'$'}\n",
      "follow of :  B  is  {'g', 'f', 'h'}\n",
      "follow of :  C  is  {'g', 'f', 'h'}\n",
      "follow of :  D  is  {'h'}\n",
      "follow of :  E  is  {'f', 'h'}\n",
      "follow of :  F  is  {'h'}\n"
     ]
    }
   ],
   "source": [
    "def find_follow(key, start=\"S\"):\n",
    "    for k in Grammar.keys():\n",
    "        if k == start:\n",
    "            Follow[k].add(\"$\")\n",
    "        for rule in Grammar[k]:\n",
    "            if key in rule:\n",
    "                index = rule.find(key)\n",
    "                if index == len(rule) - 1: #last symbol\n",
    "                    if k != key:\n",
    "                        Follow[key] = Follow[key].union(find_follow(k))\n",
    "                else:\n",
    "                    if rule[index + 1].isupper():#next symbol is non-terminal\n",
    "                        temp = First[rule[index + 1]]\n",
    "                        idx=1\n",
    "                        # print(\"here\",temp)\n",
    "                        while \"#\" in temp:\n",
    "                            # print(\"here\",temp)\n",
    "                            temp.remove(\"#\")\n",
    "                            Follow[key] = Follow[key].union(temp)\n",
    "                            if index + 1+idx < len(rule):\n",
    "                                if rule[index + 1+idx].isupper():\n",
    "                                # print(k, rule[index + 1+idx], temp, Follow[key])\n",
    "                                    temp = First[rule[index + idx+1]]\n",
    "                                    idx+=1\n",
    "                                else: \n",
    "                                    temp.add(rule[index + 1+idx])\n",
    "                                    break\n",
    "                            else:\n",
    "                                temp = temp.union(find_follow(k))\n",
    "                        Follow[key] = Follow[key].union(temp)\n",
    "                        # else:\n",
    "                        #     Follow[key] = Follow[key].union(temp)\n",
    "                    else:\n",
    "                        Follow[key].add(rule[index + 1])\n",
    "    return Follow[key]\n",
    "# find_follow(\"E\")\n",
    "\n",
    "\n",
    "for i in Grammar.keys():\n",
    "    print(\"follow of : \", i, \" is \", find_follow(i))"
   ]
  }
 ],
 "metadata": {
  "kernelspec": {
   "display_name": "Python 3",
   "language": "python",
   "name": "python3"
  },
  "language_info": {
   "codemirror_mode": {
    "name": "ipython",
    "version": 3
   },
   "file_extension": ".py",
   "mimetype": "text/x-python",
   "name": "python",
   "nbconvert_exporter": "python",
   "pygments_lexer": "ipython3",
   "version": "3.10.5"
  },
  "orig_nbformat": 4
 },
 "nbformat": 4,
 "nbformat_minor": 2
}
