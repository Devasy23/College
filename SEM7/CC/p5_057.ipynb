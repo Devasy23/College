{
 "cells": [
  {
   "cell_type": "markdown",
   "metadata": {},
   "source": [
    "# LL(1) Parser"
   ]
  },
  {
   "cell_type": "code",
   "execution_count": 2,
   "metadata": {},
   "outputs": [],
   "source": [
    "Grammar = {\"S\": [\"aBDh\"],\"B\":[\"cC\"],\"C\":[\"bC\",\"#\"],\"D\":[\"EF\"],\"E\":[\"g\",\"#\"],\"F\":[\"f\",\"#\"]}"
   ]
  },
  {
   "cell_type": "code",
   "execution_count": 3,
   "metadata": {},
   "outputs": [
    {
     "data": {
      "text/plain": [
       "{'#', 'f', 'g'}"
      ]
     },
     "execution_count": 3,
     "metadata": {},
     "output_type": "execute_result"
    }
   ],
   "source": [
    "Follow = {}\n",
    "First = {}\n",
    "\n",
    "def find_first(key):\n",
    "    # if key in First.keys():\n",
    "    #     return First[key]\n",
    "    # else:\n",
    "        for rule in Grammar[key]:\n",
    "            if rule == \"#\":\n",
    "                First[key].add(\"#\")\n",
    "            elif rule[0].isupper():\n",
    "                First[key] = First[key].union(find_first(rule[0]))\n",
    "                if \"#\" in First[key]:\n",
    "                    First[key] = First[key].union(find_first(rule[1:]))\n",
    "            else:\n",
    "                First[key].add(rule[0])\n",
    "        return First[key]\n",
    "for key in Grammar.keys():\n",
    "    Follow[key] = set()\n",
    "    First[key] = set()\n",
    "    # First[key] = find_first(key)\n",
    "\n",
    "for key in Grammar.keys():\n",
    "    First[key] = find_first(key)\n",
    "find_first(\"D\")"
   ]
  },
  {
   "cell_type": "code",
   "execution_count": 4,
   "metadata": {},
   "outputs": [
    {
     "name": "stdout",
     "output_type": "stream",
     "text": [
      "follow of :  S  is  {'$'}\n",
      "follow of :  B  is  {'g', 'f', 'h'}\n",
      "follow of :  C  is  {'g', 'f', 'h'}\n",
      "follow of :  D  is  {'h'}\n",
      "follow of :  E  is  {'f', 'h'}\n",
      "follow of :  F  is  {'h'}\n"
     ]
    }
   ],
   "source": [
    "def find_follow(key, start=\"S\"):\n",
    "    for k in Grammar.keys():\n",
    "        if k == start:\n",
    "            Follow[k].add(\"$\")\n",
    "        for rule in Grammar[k]:\n",
    "            if key in rule:\n",
    "                index = rule.find(key)\n",
    "                if index == len(rule) - 1: #last symbol\n",
    "                    if k != key:\n",
    "                        Follow[key] = Follow[key].union(find_follow(k))\n",
    "                else:\n",
    "                    if rule[index + 1].isupper():#next symbol is non-terminal\n",
    "                        temp = First[rule[index + 1]]\n",
    "                        idx=1\n",
    "                        # print(\"here\",temp)\n",
    "                        while \"#\" in temp:\n",
    "                            # print(\"here\",temp)\n",
    "                            temp.remove(\"#\")\n",
    "                            Follow[key] = Follow[key].union(temp)\n",
    "                            if index + 1+idx < len(rule):\n",
    "                                if rule[index + 1+idx].isupper():\n",
    "                                # print(k, rule[index + 1+idx], temp, Follow[key])\n",
    "                                    temp = First[rule[index + idx+1]]\n",
    "                                    idx+=1\n",
    "                                else: \n",
    "                                    temp.add(rule[index + 1+idx])\n",
    "                                    break\n",
    "                            else:\n",
    "                                temp = temp.union(find_follow(k))\n",
    "                        Follow[key] = Follow[key].union(temp)\n",
    "                        # else:\n",
    "                        #     Follow[key] = Follow[key].union(temp)\n",
    "                    else:\n",
    "                        Follow[key].add(rule[index + 1])\n",
    "    return Follow[key]\n",
    "# find_follow(\"E\")\n",
    "\n",
    "\n",
    "for i in Grammar.keys():\n",
    "    print(\"follow of : \", i, \" is \", find_follow(i))"
   ]
  },
  {
   "cell_type": "code",
   "execution_count": 5,
   "metadata": {},
   "outputs": [
    {
     "data": {
      "text/plain": [
       "['$', 'a', 'b', 'c', 'f', 'g', 'h']"
      ]
     },
     "execution_count": 5,
     "metadata": {},
     "output_type": "execute_result"
    }
   ],
   "source": [
    "# for creating parsing table\n",
    "import pandas as pd\n",
    "# fill the columns head with terminals and $\n",
    "col_head = set()\n",
    "for i in Grammar.keys():\n",
    "    col_head = col_head.union(First[i])\n",
    "    col_head = col_head.union(Follow[i])\n",
    "col_head = list(col_head)\n",
    "col_head.remove(\"#\")\n",
    "# col_head.append(\"$\")\n",
    "col_head.sort()\n",
    "# print(col_head)\n",
    "col_head"
   ]
  },
  {
   "cell_type": "code",
   "execution_count": 6,
   "metadata": {},
   "outputs": [
    {
     "data": {
      "text/plain": [
       "['B', 'C', 'D', 'E', 'F', 'S']"
      ]
     },
     "execution_count": 6,
     "metadata": {},
     "output_type": "execute_result"
    }
   ],
   "source": [
    "# row index with non-terminals\n",
    "row_index = list(Grammar.keys())\n",
    "row_index.sort()\n",
    " \n",
    "row_index"
   ]
  },
  {
   "cell_type": "code",
   "execution_count": 7,
   "metadata": {},
   "outputs": [
    {
     "data": {
      "text/html": [
       "<div>\n",
       "<style scoped>\n",
       "    .dataframe tbody tr th:only-of-type {\n",
       "        vertical-align: middle;\n",
       "    }\n",
       "\n",
       "    .dataframe tbody tr th {\n",
       "        vertical-align: top;\n",
       "    }\n",
       "\n",
       "    .dataframe thead th {\n",
       "        text-align: right;\n",
       "    }\n",
       "</style>\n",
       "<table border=\"1\" class=\"dataframe\">\n",
       "  <thead>\n",
       "    <tr style=\"text-align: right;\">\n",
       "      <th></th>\n",
       "      <th>$</th>\n",
       "      <th>a</th>\n",
       "      <th>b</th>\n",
       "      <th>c</th>\n",
       "      <th>f</th>\n",
       "      <th>g</th>\n",
       "      <th>h</th>\n",
       "    </tr>\n",
       "  </thead>\n",
       "  <tbody>\n",
       "    <tr>\n",
       "      <th>B</th>\n",
       "      <td>NaN</td>\n",
       "      <td>NaN</td>\n",
       "      <td>NaN</td>\n",
       "      <td>NaN</td>\n",
       "      <td>NaN</td>\n",
       "      <td>NaN</td>\n",
       "      <td>NaN</td>\n",
       "    </tr>\n",
       "    <tr>\n",
       "      <th>C</th>\n",
       "      <td>NaN</td>\n",
       "      <td>NaN</td>\n",
       "      <td>NaN</td>\n",
       "      <td>NaN</td>\n",
       "      <td>NaN</td>\n",
       "      <td>NaN</td>\n",
       "      <td>NaN</td>\n",
       "    </tr>\n",
       "    <tr>\n",
       "      <th>D</th>\n",
       "      <td>NaN</td>\n",
       "      <td>NaN</td>\n",
       "      <td>NaN</td>\n",
       "      <td>NaN</td>\n",
       "      <td>NaN</td>\n",
       "      <td>NaN</td>\n",
       "      <td>NaN</td>\n",
       "    </tr>\n",
       "    <tr>\n",
       "      <th>E</th>\n",
       "      <td>NaN</td>\n",
       "      <td>NaN</td>\n",
       "      <td>NaN</td>\n",
       "      <td>NaN</td>\n",
       "      <td>NaN</td>\n",
       "      <td>NaN</td>\n",
       "      <td>NaN</td>\n",
       "    </tr>\n",
       "    <tr>\n",
       "      <th>F</th>\n",
       "      <td>NaN</td>\n",
       "      <td>NaN</td>\n",
       "      <td>NaN</td>\n",
       "      <td>NaN</td>\n",
       "      <td>NaN</td>\n",
       "      <td>NaN</td>\n",
       "      <td>NaN</td>\n",
       "    </tr>\n",
       "    <tr>\n",
       "      <th>S</th>\n",
       "      <td>NaN</td>\n",
       "      <td>NaN</td>\n",
       "      <td>NaN</td>\n",
       "      <td>NaN</td>\n",
       "      <td>NaN</td>\n",
       "      <td>NaN</td>\n",
       "      <td>NaN</td>\n",
       "    </tr>\n",
       "  </tbody>\n",
       "</table>\n",
       "</div>"
      ],
      "text/plain": [
       "     $    a    b    c    f    g    h\n",
       "B  NaN  NaN  NaN  NaN  NaN  NaN  NaN\n",
       "C  NaN  NaN  NaN  NaN  NaN  NaN  NaN\n",
       "D  NaN  NaN  NaN  NaN  NaN  NaN  NaN\n",
       "E  NaN  NaN  NaN  NaN  NaN  NaN  NaN\n",
       "F  NaN  NaN  NaN  NaN  NaN  NaN  NaN\n",
       "S  NaN  NaN  NaN  NaN  NaN  NaN  NaN"
      ]
     },
     "execution_count": 7,
     "metadata": {},
     "output_type": "execute_result"
    }
   ],
   "source": [
    "# create a dataframe with row and column\n",
    "table = pd.DataFrame(index=row_index, columns=col_head)\n",
    "table"
   ]
  },
  {
   "cell_type": "code",
   "execution_count": 8,
   "metadata": {},
   "outputs": [
    {
     "data": {
      "text/html": [
       "<div>\n",
       "<style scoped>\n",
       "    .dataframe tbody tr th:only-of-type {\n",
       "        vertical-align: middle;\n",
       "    }\n",
       "\n",
       "    .dataframe tbody tr th {\n",
       "        vertical-align: top;\n",
       "    }\n",
       "\n",
       "    .dataframe thead th {\n",
       "        text-align: right;\n",
       "    }\n",
       "</style>\n",
       "<table border=\"1\" class=\"dataframe\">\n",
       "  <thead>\n",
       "    <tr style=\"text-align: right;\">\n",
       "      <th></th>\n",
       "      <th>$</th>\n",
       "      <th>a</th>\n",
       "      <th>b</th>\n",
       "      <th>c</th>\n",
       "      <th>f</th>\n",
       "      <th>g</th>\n",
       "      <th>h</th>\n",
       "      <th>#</th>\n",
       "    </tr>\n",
       "  </thead>\n",
       "  <tbody>\n",
       "    <tr>\n",
       "      <th>B</th>\n",
       "      <td>NaN</td>\n",
       "      <td>NaN</td>\n",
       "      <td>NaN</td>\n",
       "      <td>cC</td>\n",
       "      <td>NaN</td>\n",
       "      <td>NaN</td>\n",
       "      <td>NaN</td>\n",
       "      <td>NaN</td>\n",
       "    </tr>\n",
       "    <tr>\n",
       "      <th>C</th>\n",
       "      <td>NaN</td>\n",
       "      <td>NaN</td>\n",
       "      <td>bC</td>\n",
       "      <td>NaN</td>\n",
       "      <td>#</td>\n",
       "      <td>#</td>\n",
       "      <td>#</td>\n",
       "      <td>bC</td>\n",
       "    </tr>\n",
       "    <tr>\n",
       "      <th>D</th>\n",
       "      <td>NaN</td>\n",
       "      <td>NaN</td>\n",
       "      <td>NaN</td>\n",
       "      <td>NaN</td>\n",
       "      <td>EF</td>\n",
       "      <td>EF</td>\n",
       "      <td>EF</td>\n",
       "      <td>NaN</td>\n",
       "    </tr>\n",
       "    <tr>\n",
       "      <th>E</th>\n",
       "      <td>NaN</td>\n",
       "      <td>NaN</td>\n",
       "      <td>NaN</td>\n",
       "      <td>NaN</td>\n",
       "      <td>#</td>\n",
       "      <td>g</td>\n",
       "      <td>#</td>\n",
       "      <td>g</td>\n",
       "    </tr>\n",
       "    <tr>\n",
       "      <th>F</th>\n",
       "      <td>NaN</td>\n",
       "      <td>NaN</td>\n",
       "      <td>NaN</td>\n",
       "      <td>NaN</td>\n",
       "      <td>f</td>\n",
       "      <td>NaN</td>\n",
       "      <td>#</td>\n",
       "      <td>NaN</td>\n",
       "    </tr>\n",
       "    <tr>\n",
       "      <th>S</th>\n",
       "      <td>NaN</td>\n",
       "      <td>aBDh</td>\n",
       "      <td>NaN</td>\n",
       "      <td>NaN</td>\n",
       "      <td>NaN</td>\n",
       "      <td>NaN</td>\n",
       "      <td>NaN</td>\n",
       "      <td>NaN</td>\n",
       "    </tr>\n",
       "  </tbody>\n",
       "</table>\n",
       "</div>"
      ],
      "text/plain": [
       "     $     a    b    c    f    g    h    #\n",
       "B  NaN   NaN  NaN   cC  NaN  NaN  NaN  NaN\n",
       "C  NaN   NaN   bC  NaN    #    #    #   bC\n",
       "D  NaN   NaN  NaN  NaN   EF   EF   EF  NaN\n",
       "E  NaN   NaN  NaN  NaN    #    g    #    g\n",
       "F  NaN   NaN  NaN  NaN    f  NaN    #  NaN\n",
       "S  NaN  aBDh  NaN  NaN  NaN  NaN  NaN  NaN"
      ]
     },
     "execution_count": 8,
     "metadata": {},
     "output_type": "execute_result"
    }
   ],
   "source": [
    "# fill the table with rules\n",
    "for i in Grammar.keys():\n",
    "    for rule in Grammar[i]:\n",
    "        if rule == \"#\":\n",
    "            for j in Follow[i]:\n",
    "                table.loc[i,j] = rule\n",
    "        else:\n",
    "            for j in First[i]:\n",
    "                table.loc[i,j] = rule\n",
    "table\n"
   ]
  },
  {
   "cell_type": "code",
   "execution_count": 5,
   "metadata": {},
   "outputs": [],
   "source": [
    "# initialize the predictive parsing table\n",
    "table = {}\n",
    "\n",
    "\n",
    "\n",
    "# fill the table with rules\n",
    "for non_terminal in Grammar:\n",
    "    for symbol in First[non_terminal]:\n",
    "        if symbol != '#':\n",
    "            table[(non_terminal, symbol)] = Grammar[non_terminal][0]\n",
    "    if '#' in First[non_terminal]:\n",
    "        for symbol in Follow[non_terminal]:\n",
    "            table[(non_terminal, symbol)] = '#'"
   ]
  },
  {
   "cell_type": "code",
   "execution_count": 7,
   "metadata": {},
   "outputs": [
    {
     "name": "stdout",
     "output_type": "stream",
     "text": [
      "   Non-Terminal Terminal Production Rule\n",
      "0             S        a            aBDh\n",
      "1             B        c              cC\n",
      "2             C        b              bC\n",
      "3             C        g               #\n",
      "4             C        f               #\n",
      "5             C        h               #\n",
      "6             D        g              EF\n",
      "7             D        f              EF\n",
      "8             D        h              EF\n",
      "9             E        g               g\n",
      "10            E        f               #\n",
      "11            E        h               #\n",
      "12            F        f               f\n"
     ]
    }
   ],
   "source": [
    "import pandas as pd\n",
    "\n",
    "# create a list of tuples from the table dictionary\n",
    "table_list = [(str(key[0]), str(key[1]), str(value)) for key, value in table.items()]\n",
    "\n",
    "# create a pandas DataFrame from the list of tuples\n",
    "df = pd.DataFrame(table_list, columns=['Non-Terminal', 'Terminal', 'Production Rule'])\n",
    "\n",
    "# display the DataFrame\n",
    "print(df)"
   ]
  },
  {
   "cell_type": "code",
   "execution_count": 8,
   "metadata": {},
   "outputs": [
    {
     "name": "stdout",
     "output_type": "stream",
     "text": [
      "      a    b    c    f    g    h\n",
      "B   NaN  NaN   cC  NaN  NaN  NaN\n",
      "C   NaN   bC  NaN    #    #    #\n",
      "D   NaN  NaN  NaN   EF   EF   EF\n",
      "E   NaN  NaN  NaN    #    g    #\n",
      "F   NaN  NaN  NaN    f  NaN  NaN\n",
      "S  aBDh  NaN  NaN  NaN  NaN  NaN\n"
     ]
    }
   ],
   "source": [
    "import pandas as pd\n",
    "\n",
    "# create a list of non-terminal symbols and terminal symbols\n",
    "non_terminals = sorted(set([key[0] for key in table.keys()]))\n",
    "terminals = sorted(set([key[1] for key in table.keys()]))\n",
    "\n",
    "# create an empty DataFrame with non-terminals as row headers and terminals as column headers\n",
    "df = pd.DataFrame(index=non_terminals, columns=terminals)\n",
    "\n",
    "# fill the DataFrame with production rules\n",
    "for key, value in table.items():\n",
    "    df.loc[key[0], key[1]] = value\n",
    "\n",
    "# display the DataFrame\n",
    "print(df)"
   ]
  }
 ],
 "metadata": {
  "kernelspec": {
   "display_name": "Python 3",
   "language": "python",
   "name": "python3"
  },
  "language_info": {
   "codemirror_mode": {
    "name": "ipython",
    "version": 3
   },
   "file_extension": ".py",
   "mimetype": "text/x-python",
   "name": "python",
   "nbconvert_exporter": "python",
   "pygments_lexer": "ipython3",
   "version": "3.10.5"
  },
  "orig_nbformat": 4
 },
 "nbformat": 4,
 "nbformat_minor": 2
}
