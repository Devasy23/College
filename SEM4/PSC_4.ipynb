{
  "cells": [
    {
      "cell_type": "markdown",
      "metadata": {
        "id": "HPdrpZ9T1KJv"
      },
      "source": [
        "# **Practical 4:**\n",
        "# Devasy Patel\n",
        "# 20BCE057"
      ]
    },
    {
      "cell_type": "markdown",
      "metadata": {
        "id": "RUcUwkxz1Pr4"
      },
      "source": [
        "## **Practical 4a**\n",
        "Write a python program that reads the contents of the file poem.txt and\n",
        "count the number of alphabets blank spaces lowercase letters and\n",
        "uppercase letters the number of words starting from vowel and the\n",
        "number of occurrences of each word in the file."
      ]
    },
    {
      "cell_type": "code",
      "execution_count": null,
      "metadata": {
        "id": "6NOPh5E_09Yk"
      },
      "outputs": [],
      "source": [
        "f = 'poem.txt'\n",
        "with open(f) as file_object:\n",
        "  lines = file_object.readlines()\n",
        "value = ''\n",
        "for line in lines:\n",
        " value += line.rstrip()\n",
        "print(value)\n",
        "space = 0\n",
        "upcase = 0\n",
        "lowcase = 0\n",
        "symbols = 0\n",
        "for x in value:\n",
        " if x.isspace():\n",
        "  space += 1\n",
        " elif x.isupper():\n",
        "  upcase += 1\n",
        " elif x.islower():\n",
        "  lowcase += 1\n",
        " else:\n",
        "  symbols += 1\n",
        "sym = ['.' , ',' , '?' , '!' , '-' '%' ]\n",
        "print(f\"\\nspaces:{space} uppercase:{upcase} lowercase:{lowcase} symbols:{symbols}\\n\")\n",
        "for x in value:\n",
        " if x in sym:\n",
        "  value = value.replace(x,' ')\n",
        "words = value.split()"
      ]
    },
    {
      "cell_type": "markdown",
      "metadata": {
        "id": "SDyz9biztfNW"
      },
      "source": [
        "**Practical 4b**\n",
        "b. An organization wants to compute monthly wages to be paid to an\n",
        "employee in an organization. The input data is provided in two different\n",
        "files. File1 contains permanent employee data about employees (i.e.\n",
        "Empid, name, hourly wages), and File2 contains working hours\n",
        "information of each employee in the current month (i.e., empid and\n",
        "hours). Individual elements of data are separated by commas. Design a\n",
        "python program that reads both the files, computes the monthly wages\n",
        "of each employee and store in another file. Take both file names as\n",
        "command line arguments and check the respected exceptions for the\n",
        "same."
      ]
    },
    {
      "cell_type": "code",
      "execution_count": 5,
      "metadata": {
        "id": "n8IPl_wgu5QS"
      },
      "outputs": [
        {
          "name": "stdout",
          "output_type": "stream",
          "text": [
            "f1 \n",
            "\n",
            "1001, Vinay kumar, 40\n",
            "\n",
            "1002, Rohit sen, 35\n",
            "\n",
            "1003, Vinita sharma, 28\n",
            "\n",
            "\n",
            "\n",
            "f2\n",
            "\n",
            "1001, 250\n",
            "\n",
            "1002, 0\n",
            "\n",
            "1003, 125\n",
            "\n",
            "\n",
            "\n",
            "\n",
            "\n",
            "\n",
            "Emp-ID \t\teName \t\tWorking Hours \t\tSalary per hr \t\tTotal-Salary\n",
            "1001\t\t Vinay kumar\t\t 40\t\t 250\t\t10000\n",
            "\n",
            "1002\t\t Rohit sen\t\t 35\t\t 0\t\t0\n",
            "\n",
            "1003\t\t Vinita sharma\t\t 28\t\t 125\t\t3500\n",
            "\n"
          ]
        }
      ],
      "source": [
        "fname1=input(\"Enter the name of File1: \")\n",
        "fname2=input(\"Enter the name of File2: \")\n",
        "try:\n",
        "    f1 =open(fname1,\"r+\")\n",
        "    f2 =open(fname2,\"r+\")\n",
        "except:\n",
        "    print(\"File not found! Please try Again!\")\n",
        "\n",
        "print(\"f1 \\n\")\n",
        "emp_details=[]\n",
        "for x in f1.readlines():\n",
        "    print(x)\n",
        "    temp = x.replace('\\n', '')\n",
        "    emp_details.append(temp.split(','))\n",
        "print(\"\\n\\n\")\n",
        "\n",
        "\n",
        "print(\"f2\\n\")\n",
        "\n",
        "emp_hours=[]\n",
        "for x in f2.readlines():\n",
        "    print(x)\n",
        "    temp = x.replace('\\n', '')\n",
        "    emp_hours.append(temp.split(','))\n",
        "print(\"\\n\\n\")\n",
        "print(\"\\n\\n\")\n",
        "\n",
        "Salary=[]\n",
        "\n",
        "for x, y in zip(emp_details, range(len(emp_hours))):\n",
        "    Salary.append(int(x[2]) * int(emp_hours[y][1]))\n",
        "   \n",
        "\n",
        "f3=open(\"File3.txt\",\"w+\")\n",
        "print(\"Emp-ID \\t\\teName \\t\\tWorking Hours \\t\\tSalary per hr \\t\\tTotal-Salary\")\n",
        "for i in range(len(emp_details)):\n",
        "    s = str(emp_details[i][0]) + \"\\t\\t\" + str(emp_details[i][1]) + \"\\t\\t\" + str(emp_details[i][2]) + \"\\t\\t\" +str(emp_hours[i][1]) + \"\\t\\t\" + str(Salary[i]) + \"\\n\"\n",
        "    print(s)\n",
        "    f3.write(s)\n",
        "\n",
        "for x in f3.readlines():\n",
        "    print(x)\n",
        "f1.close()\n",
        "f2.close()\n",
        "f3.close()"
      ]
    },
    {
      "cell_type": "markdown",
      "metadata": {
        "id": "W-KfyfkMvYKp"
      },
      "source": [
        "**c.** Consider the following formula and evaluate the y value for the range\n",
        "of t values found in a file with format\n",
        "𝑦(𝑡) = 𝑣0𝑡 − 0.5𝑔𝑡^2\n"
      ]
    },
    {
      "cell_type": "code",
      "execution_count": 19,
      "metadata": {
        "id": "XmB8wE5svY5b"
      },
      "outputs": [],
      "source": [
        "def testfile():\n",
        "    try:\n",
        "        f1 = open('4c.txt', \"r+\")\n",
        "    except:\n",
        "        print(\"file not present\")\n",
        "\n",
        "def func1():\n",
        "    testfile()\n",
        "    f1 = open('4c.txt', \"r+\")\n",
        "    vo = f1.readline()\n",
        "    x = vo.split(' ')\n",
        "    vo_var = float(x[1].replace('\\n', ''))\n",
        "    f1.readline()\n",
        "    t_val = []\n",
        "    for x in f1.readlines():\n",
        "        # print(x)\n",
        "        t_val += x.split(' ')\n",
        "    # print(t_val)\n",
        "    tval = []\n",
        "    for x in t_val:\n",
        "        tval.append(float(x.replace('\\n', '')))\n",
        "    tval.sort()\n",
        "    return vo_var, tval\n",
        "vo_var, tval = func1()\n",
        "tndy = []\n",
        "for x in tval:\n",
        "    y = vo_var*x - (0.5*9.8*(x**2))\n",
        "    tndy.append(y)\n",
        "def f_write(tndy, tval):\n",
        "    f2 = open('FIles_4c.txt', \"w+\")\n",
        "    for y,t in zip(tndy, tval):\n",
        "        s = str(t) + \"\\t\" + str(y)\n",
        "        f2.write(s)\n",
        "    f2.close()\n",
        "f_write(tndy, tval)"
      ]
    },
    {
      "cell_type": "markdown",
      "metadata": {},
      "source": [
        "**d.** "
      ]
    },
    {
      "cell_type": "code",
      "execution_count": null,
      "metadata": {},
      "outputs": [],
      "source": []
    }
  ],
  "metadata": {
    "colab": {
      "name": "PSC_4.ipynb",
      "provenance": []
    },
    "kernelspec": {
      "display_name": "Python 3",
      "name": "python3"
    },
    "language_info": {
      "codemirror_mode": {
        "name": "ipython",
        "version": 3
      },
      "file_extension": ".py",
      "mimetype": "text/x-python",
      "name": "python",
      "nbconvert_exporter": "python",
      "pygments_lexer": "ipython3",
      "version": "3.9.6"
    }
  },
  "nbformat": 4,
  "nbformat_minor": 0
}
