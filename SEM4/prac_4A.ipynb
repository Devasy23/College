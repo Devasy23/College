{
  "cells": [
    {
      "cell_type": "code",
      "execution_count": null,
      "metadata": {
        "id": "N9w_5qgfBjtM"
      },
      "outputs": [],
      "source": [
        "class bank:\n",
        "    def __init__(self,name,acc_no,acc_type,amount,interest):\n",
        "        self.name=name\n",
        "        self.acc_no=acc_no\n",
        "        self.acc_type=acc_type\n",
        "        self.amount=amount\n",
        "        self.interest=interest\n",
        "    def deposit(self):\n",
        "        print(\"\")\n",
        "        print(\"--deposition method--\")\n",
        "        amt=-1\n",
        "        while amt<0:\n",
        "            amt=float(input(\"enter amount of money to be deposited:\"))\n",
        "        self.amount=self.amount+amt\n",
        "        print(\"-->final balance in account:\",self.amount)\n",
        "    def withdrawal(self):\n",
        "        print(\"\")\n",
        "        print(\"--withdrawal method--\")\n",
        "        amt=-1\n",
        "        while amt<0 or amt>self.amount:\n",
        "            amt=float(input(\"enter amount of money required for withdrawal:\"))\n",
        "        self.amount=self.amount-amt\n",
        "        print(\"-->final balance in account:\",self.amount)\n",
        "    def cal_interest(self):\n",
        "        print(\"\")\n",
        "        print(\"--interest method--\")\n",
        "        int_amt=(self.interest*self.amount)/100\n",
        "        amount_with_interest=self.amount+int_amt\n",
        "        print(\"rate of interest:\",self.interest)\n",
        "        print(\"amount with interest:\",amount_with_interest)\n",
        "    def display(self):\n",
        "        print(\"\")\n",
        "        print(\"------>Final details<-------\")\n",
        "        print(\"-->name of account holder:\",self.name)\n",
        "        print(\"-->account number:\",self.acc_no)\n",
        "        print(\"-->account type:\",self.acc_type)\n",
        "        print(\"-->standing amount:\",self.amount)\n",
        "        print(\"-->interest percentage:\",self.interest)"
      ]
    },
    {
      "cell_type": "code",
      "execution_count": null,
      "metadata": {
        "id": "3cWCLolgBjtR",
        "outputId": "07f2441a-b4ad-4b13-9501-29f3c92a2c46"
      },
      "outputs": [
        {
          "name": "stdout",
          "output_type": "stream",
          "text": [
            "enter customer name:dhruva\n",
            "enter account number12345\n",
            "enter account type:savings\n",
            "enter amount:600400\n",
            "\n",
            "--deposition method--\n",
            "enter amount of money to be deposited:50123865\n",
            "-->final balance in account: 50724265.0\n",
            "\n",
            "--withdrawal method--\n",
            "enter amount of money required for withdrawal:2453\n",
            "-->final balance in account: 50721812.0\n",
            "\n",
            "--interest method--\n",
            "rate of interest: 8\n",
            "amount with interest: 54779556.96\n",
            "\n",
            "------>Final details<-------\n",
            "-->name of account holder: dhruva\n",
            "-->account number: 12345\n",
            "-->account type: savings\n",
            "-->amount standing amount: 50721812.0\n",
            "-->interest percentage: 8\n"
          ]
        }
      ],
      "source": [
        "name=str(input(\"enter customer name:\"))\n",
        "acc_no=int(input(\"enter account number\"))\n",
        "acc_type=str(input(\"enter account type:\"))\n",
        "amount=float(input(\"enter amount:\"))\n",
        "interest=0\n",
        "if amount<100000:\n",
        "    interest=3\n",
        "elif amount<300000 and amount>=100000:\n",
        "    interest=5\n",
        "elif amount<500000 and amount>=300000:\n",
        "    interest=7\n",
        "elif amount>=500000:\n",
        "    interest=8\n",
        "c1=bank(name,acc_no,acc_type,amount,interest)\n",
        "c1.deposit()\n",
        "c1.withdrawal()\n",
        "c1.cal_interest()\n",
        "c1.display()"
      ]
    },
    {
      "cell_type": "code",
      "execution_count": null,
      "metadata": {
        "id": "KaF9iZpJBjtU"
      },
      "outputs": [],
      "source": [
        ""
      ]
    }
  ],
  "metadata": {
    "kernelspec": {
      "display_name": "Python 3",
      "language": "python",
      "name": "python3"
    },
    "language_info": {
      "codemirror_mode": {
        "name": "ipython",
        "version": 3
      },
      "file_extension": ".py",
      "mimetype": "text/x-python",
      "name": "python",
      "nbconvert_exporter": "python",
      "pygments_lexer": "ipython3",
      "version": "3.8.5"
    },
    "colab": {
      "name": "prac 4A.ipynb",
      "provenance": []
    }
  },
  "nbformat": 4,
  "nbformat_minor": 0
}