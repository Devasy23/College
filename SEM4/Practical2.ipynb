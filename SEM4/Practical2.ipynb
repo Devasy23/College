{
  "nbformat": 4,
  "nbformat_minor": 0,
  "metadata": {
    "colab": {
      "name": "Practical2.ipynb",
      "provenance": []
    },
    "kernelspec": {
      "name": "python3",
      "display_name": "Python 3"
    },
    "language_info": {
      "name": "python"
    }
  },
  "cells": [
    {
      "cell_type": "markdown",
      "source": [
        "ROLL NO: 20BCE057\n",
        "\n",
        "NAME : DEVASY PATEL\n",
        "\n",
        "PRACTICAL NO : 2\n",
        "\n",
        "**p2a.** Write a function areaTriangle that takes the lengths of three\n",
        "sides of the triangle as input parameters and returns the area of\n",
        "the triangle as an output. Also, assert that the sum of the length\n",
        "of any two sides is lesser than the third side. Write a main\n",
        "function that accepts as command-line arguments and\n",
        "computes the area of a triangle using the function areaTriangle.\n"
      ],
      "metadata": {
        "id": "0FIpGspdiu10"
      }
    },
    {
      "cell_type": "code",
      "execution_count": null,
      "metadata": {
        "colab": {
          "base_uri": "https://localhost:8080/"
        },
        "id": "IO4H_hoIirso",
        "outputId": "c62ac1d8-c6c3-4589-d66f-2faca4a0e229"
      },
      "outputs": [
        {
          "output_type": "stream",
          "name": "stdout",
          "text": [
            "enter side1 : 3\n",
            "enter side2 : 4\n",
            "enter side3 : 5\n",
            "6.0\n"
          ]
        }
      ],
      "source": [
        "def check(a,b,c):\n",
        "  if(a<0 or b<0 or c<0):\n",
        "    print(\"Invalid input\")\n",
        "    return False\n",
        "  elif(a>b+c or b>a+c or c>a+b):\n",
        "    print(\"Invalid input\")\n",
        "    return False\n",
        "  else:\n",
        "    return True\n",
        "def triarea(a,b,c):\n",
        "  bool = check(a,b,c)\n",
        "  if(bool):\n",
        "    s = (a + b + c) / 2  \n",
        "    Area = (s*(s-a)*(s-b)*(s-c)) ** 0.5  \n",
        "    return Area\n",
        "a=int(input(\"enter side1 : \"))\n",
        "b=int(input(\"enter side2 : \"))\n",
        "c=int(input(\"enter side3 : \"))\n",
        "print(triarea(a,b,c))"
      ]
    },
    {
      "cell_type": "markdown",
      "source": [
        "**p2b.** Write a function that takes two numbers as input parameters\n",
        "and returns True or False depending on whether they are coprimes. Two numbers are said to be co-prime if they do not\n",
        "have any common divisor other than one."
      ],
      "metadata": {
        "id": "scR3mSXpro33"
      }
    },
    {
      "cell_type": "code",
      "source": [
        "def hcf(a,b):\n",
        "  while(b!=0):\n",
        "    rem = a%b\n",
        "    a=b\n",
        "    b=rem\n",
        "  return a\n",
        "def coprimes(a, b):\n",
        "  if(a>b):\n",
        "    x=hcf(a,b)\n",
        "  else:\n",
        "    x=hcf(b,a)\n",
        "  if(x==1):\n",
        "    return True\n",
        "  else:\n",
        "    return False\n",
        "a=int(input(\"enter 1st num :\"))\n",
        "b = int(input(\"enter second num :\"))\n",
        "checker = coprimes(a,b)\n",
        "if(checker):\n",
        "  print(\"are %d & %d coprimes\", a, b)\n",
        "else:\n",
        "  print(\"they aren't coprimes\")\n",
        "# print(coprimes(a,b))"
      ],
      "metadata": {
        "colab": {
          "base_uri": "https://localhost:8080/"
        },
        "id": "aLWjF9-Zrmfq",
        "outputId": "4c6f0e2e-9737-4980-9557-7d2bea15856b"
      },
      "execution_count": null,
      "outputs": [
        {
          "output_type": "stream",
          "name": "stdout",
          "text": [
            "enter 1st num :4\n",
            "enter second num :5\n",
            "are %d & %d coprimes 4 5\n"
          ]
        }
      ]
    },
    {
      "cell_type": "markdown",
      "source": [
        "**p2c.** Write a function that takes a string as a parameter and returns\n",
        "a string with every successive repetitive character replaced\n",
        "with a star(*). For Example, ‘balloon’ is returned as\n",
        "‘bal*o*n’."
      ],
      "metadata": {
        "id": "V0zvkK7OuWzL"
      }
    },
    {
      "cell_type": "code",
      "source": [
        "def listToString(s): \n",
        "    \n",
        "    # initialize an empty string\n",
        "    str1 = \"\" \n",
        "    \n",
        "    # traverse in the string  \n",
        "    for ele in s: \n",
        "        str1 += ele  \n",
        "    \n",
        "    # return string  \n",
        "    return str1 \n",
        "def strcutter(a):\n",
        "  print()\n",
        "  list = []\n",
        "  for x in a:\n",
        "    if x not in list:\n",
        "      list.append(x)\n",
        "    else:\n",
        "      list.append('*')\n",
        "  return listToString(list)\n",
        "\n",
        "\n",
        "\n",
        "a = input(\"enter string\")\n",
        "print(strcutter(a))"
      ],
      "metadata": {
        "colab": {
          "base_uri": "https://localhost:8080/"
        },
        "id": "ERHXgN-ouceo",
        "outputId": "5c305555-caec-41f6-fd36-d14e1999060a"
      },
      "execution_count": null,
      "outputs": [
        {
          "output_type": "stream",
          "name": "stdout",
          "text": [
            "enter stringhello\n",
            "\n",
            "hel*o\n"
          ]
        }
      ]
    },
    {
      "cell_type": "markdown",
      "source": [
        "**p2d.** Write a function that takes a number as n input parameter and\n",
        "returns the corresponding text in words; for example, on input\n",
        "452, the function should return ‘Four Five Two’. Use a\n",
        "dictionary for mapping to digits to their string representation."
      ],
      "metadata": {
        "id": "Mflowaq6wjEm"
      }
    },
    {
      "cell_type": "code",
      "source": [
        "dict = {1 : 'one', 2 : 'two', 3 : 'three', 4 : 'four', 5: 'five', 6 : 'six', 7: 'seven', 8 : 'eight', 9:'nine', 0: 'zero'}\n",
        "def numprinter(n):\n",
        "  list = []\n",
        "  rem = n\n",
        "  while(rem>0):\n",
        "    list.append(rem%10) \n",
        "    rem //= 10\n",
        "    # print(rem%10)\n",
        "  list.reverse()\n",
        "  # print(list)\n",
        "  for x in list:\n",
        "    print(dict.setdefault(x), end=' ')\n",
        "a = int(input(\"enter number : \"))\n",
        "numprinter(a)"
      ],
      "metadata": {
        "colab": {
          "base_uri": "https://localhost:8080/"
        },
        "id": "FOjohBnTw2za",
        "outputId": "c5e51aa9-0644-45b5-d169-0a22556e4812"
      },
      "execution_count": null,
      "outputs": [
        {
          "output_type": "stream",
          "name": "stdout",
          "text": [
            "enter number : 4567789455\n",
            "four five six seven seven eight nine four five five "
          ]
        }
      ]
    },
    {
      "cell_type": "markdown",
      "source": [
        "**p2e.** Write the function that check whether number is KAPREKAR\n",
        "NUMBER or not.\n",
        "KAPREKAR NUMBER: Consider an n-digit number k.\n",
        "Square it and add the right n digits to the left n or n-1 digits. If\n",
        "the resultant sum is k, then k is called a Kaprekar number. For\n",
        "example, 9 is a Kaprekar number since\n",
        "\n",
        " 9\n",
        "\n",
        "2 = 81, and 8 + 1 = 9\n",
        "\n",
        "and 297 is a Kaprekar number since\n",
        "\n",
        "\n",
        " 2972 = 88209 and 88 + 209 = 297.\n",
        " \n",
        " 452 = 2025 and 20 + 25 = 45.\n"
      ],
      "metadata": {
        "id": "umJ7gIDq0KRI"
      }
    },
    {
      "cell_type": "code",
      "source": [
        "def kaprekar(n):\n",
        "  p1, p2 = 0, 0\n",
        "  list = []\n",
        "  rem = n*n\n",
        "  cnt = 0\n",
        "  while(rem>0):\n",
        "    list.append(rem%10) \n",
        "    rem //= 10\n",
        "    cnt +=1\n",
        "\n",
        "  list.reverse() # 8 8 2 0 9\n",
        "  \n",
        "  if(cnt%2==0):#5 not even\n",
        "    x = cnt/2\n",
        "    for i in list:\n",
        "      if(x>0):\n",
        "        p1 = p1*10 + i\n",
        "        x-=1\n",
        "      else:\n",
        "        p2 = p2*10 + i\n",
        "  else:# 5 is odd\n",
        "    x = (cnt-1)/2 # 2 nd 3\n",
        "    for i in list:\n",
        "      if(x>0):\n",
        "        p1 = p1*10 + i #8 8 \n",
        "        x -=1\n",
        "      else:\n",
        "        p2 = p2*10 + i #2 0 9\n",
        "  \n",
        "  if(p1 + p2 == n): #88 + 209 == 297\n",
        "    print( n, \"Is a kaprekar number\")\n",
        "\n",
        "  \n",
        "\n",
        "k = int(input(\"enter number to be checked : \"))\n",
        "kaprekar(k)\n",
        "kaprekar(9)\n",
        "kaprekar(452)\n"
      ],
      "metadata": {
        "colab": {
          "base_uri": "https://localhost:8080/"
        },
        "id": "jvYJ6s400YCZ",
        "outputId": "d699e23b-4297-4064-c528-ebda1d5436f3"
      },
      "execution_count": null,
      "outputs": [
        {
          "output_type": "stream",
          "name": "stdout",
          "text": [
            "enter number to be checked : 297\n",
            "297 Is a kaprekar number\n",
            "9 Is a kaprekar number\n"
          ]
        }
      ]
    }
  ]
}