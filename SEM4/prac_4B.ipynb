{
  "cells": [
    {
      "cell_type": "code",
      "execution_count": null,
      "metadata": {
        "id": "KLfgls09CJT2",
        "outputId": "b20df895-c349-4c02-96e2-b378203629ed"
      },
      "outputs": [
        {
          "name": "stdout",
          "output_type": "stream",
          "text": [
            "enter marks scored by student:300\n",
            "\n",
            "-----from grad class----\n",
            "name: abx\n",
            "birthday: 17-3-21\n",
            "city: ahmedabad\n",
            "roll number: 19bce163\n",
            "branch: computer\n",
            "year: 2\n",
            "percenatge scored: 50.0 %\n",
            "enter marks scored by student:300\n",
            "\n",
            "-----from postgrad class-----\n",
            "name: abx\n",
            "birthday: 17-3-21\n",
            "city: ahmedabad\n",
            "roll number: 19bce163\n",
            "branch: computer\n",
            "year: 2\n",
            "percenatge scored: 75.0 %\n"
          ]
        }
      ],
      "source": [
        "class person():\n",
        "    def __init__(self,name,bday,city):\n",
        "        self.name=name\n",
        "        self.bday=bday\n",
        "        self.city=city\n",
        "    def percentage(self):\n",
        "        pass\n",
        "class student(person):\n",
        "    def __init__(self,name,bday,city,roll_no,branch,total_marks,year):\n",
        "        super().__init__(name,bday,city)\n",
        "        self.roll_no=roll_no\n",
        "        self.branch=branch\n",
        "        self.total_marks=total_marks\n",
        "        self.year=year\n",
        "    def percentage(self):\n",
        "        pass\n",
        "class grad(student):\n",
        "    def __init__(self,name,bday,city,roll_no,branch,year):\n",
        "        total_marks=-1\n",
        "        while total_marks<0 or total_marks>600:\n",
        "            total_marks=int(input(\"enter marks scored by student:\"))\n",
        "        super(). __init__(name,bday,city,roll_no,branch,total_marks,year)\n",
        "    def percentage(self):\n",
        "        self.per=self.total_marks/6\n",
        "        print(\"\\n-----from grad class----\")\n",
        "        print(\"name:\",self.name)\n",
        "        print(\"birthday:\",self.bday)\n",
        "        print(\"city:\",self.city)\n",
        "        print(\"roll number:\",self.roll_no)\n",
        "        print(\"branch:\",self.branch)\n",
        "        print(\"year:\",self.year)\n",
        "        print(\"percenatge scored:\",self.per,\"%\")\n",
        "class postgrad(student):\n",
        "    def __init__(self,name,bday,city,roll_no,branch,year):\n",
        "        total_marks=-1\n",
        "        while total_marks<0 or total_marks>400:\n",
        "            total_marks=int(input(\"enter marks scored by student:\"))\n",
        "        super(). __init__(name,bday,city,roll_no,branch,total_marks,year)\n",
        "    def percentage(self):\n",
        "        self.per=self.total_marks/4\n",
        "        print(\"\\n-----from postgrad class-----\")\n",
        "        print(\"name:\",self.name)\n",
        "        print(\"birthday:\",self.bday)\n",
        "        print(\"city:\",self.city)\n",
        "        print(\"roll number:\",self.roll_no)\n",
        "        print(\"branch:\",self.branch)\n",
        "        print(\"year:\",self.year)\n",
        "        print(\"percenatge scored:\",self.per,\"%\")\n",
        "\n",
        "st1=grad(\"abx\",\"17-3-21\",\"ahmedabad\",\"19bce163\",\"computer\",2)\n",
        "st1.percentage()\n",
        "st2=postgrad(\"abx\",\"17-3-21\",\"ahmedabad\",\"19bce163\",\"computer\",2)\n",
        "st2.percentage()"
      ]
    },
    {
      "cell_type": "code",
      "execution_count": null,
      "metadata": {
        "id": "qRSwcRz_CJT9"
      },
      "outputs": [],
      "source": [
        ""
      ]
    }
  ],
  "metadata": {
    "kernelspec": {
      "display_name": "Python 3",
      "language": "python",
      "name": "python3"
    },
    "language_info": {
      "codemirror_mode": {
        "name": "ipython",
        "version": 3
      },
      "file_extension": ".py",
      "mimetype": "text/x-python",
      "name": "python",
      "nbconvert_exporter": "python",
      "pygments_lexer": "ipython3",
      "version": "3.8.5"
    },
    "colab": {
      "name": "prac 4B.ipynb",
      "provenance": []
    }
  },
  "nbformat": 4,
  "nbformat_minor": 0
}