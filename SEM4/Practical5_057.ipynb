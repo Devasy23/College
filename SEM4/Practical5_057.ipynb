{
 "cells": [
  {
   "cell_type": "code",
   "execution_count": 1,
   "metadata": {},
   "outputs": [],
   "source": [
    "import sys"
   ]
  },
  {
   "cell_type": "code",
   "execution_count": 2,
   "metadata": {},
   "outputs": [],
   "source": [
    "class Bank:\n",
    "    def __init__(self):\n",
    "        self.name = input(\"Enter your Name\")\n",
    "        self.account_num = int(input(\"Enter a/c no. : \"))\n",
    "        self.ACC_type =input(\"Enter acc type : \")\n",
    "        self.amount =int(input(\"Enter your joining deposit amount \"))\n",
    "        self.interst = 0.0\n",
    "\n",
    "    \n",
    "    def withdrawal(self, amt):\n",
    "        if(amt > self.amount):\n",
    "            print(\"Insufficient Funds in your A/C to Withdraw the amt you entered : \")\n",
    "            return False\n",
    "        else:\n",
    "            self.amount -= amt\n",
    "            print(\"Amount Withdrawed !!\")\n",
    "            print(\"Your updated balance is : \", self.amount)\n",
    "            return True\n",
    "    def deposit(self, amt):\n",
    "        self.amount += amt\n",
    "        print(\"Amount Deposited\\n\\n\")\n",
    "        print(\"Your updated balance is : \", self.amount)\n",
    "        return self.amount\n",
    "    def Find_interset(self):\n",
    "        def findroi(amt):\n",
    "            if(amt>=500000):\n",
    "                return 0.08\n",
    "            elif(amt>=300000):\n",
    "                return 0.07\n",
    "            elif(amt>=100000):\n",
    "                return 0.05\n",
    "            else:\n",
    "                return 0.03\n",
    "        time_period = int(input(\"Enter the number of months of interest u want : \"))\n",
    "        roi = findroi(self.amount)\n",
    "        self.amount+= self.amount*roi*time_period*(1/12)\n",
    "    def display(self):\n",
    "        print(\"Customer Name :\\t\", self.name)\n",
    "        print(\"Customer Acc type :\\t\",self.ACC_type)\n",
    "        print(\"Customer ACC number :\\t\",self.account_num)\n",
    "        print(\"Customer Amount :\\t\",self.amount)\n"
   ]
  },
  {
   "cell_type": "code",
   "execution_count": 3,
   "metadata": {},
   "outputs": [],
   "source": [
    "l=[]\n",
    "m = Bank()\n",
    "l.append(m)"
   ]
  },
  {
   "cell_type": "code",
   "execution_count": 4,
   "metadata": {},
   "outputs": [
    {
     "name": "stdout",
     "output_type": "stream",
     "text": [
      "Amount Withdrawed !!\n",
      "Your updated balance is :  300.0\n"
     ]
    },
    {
     "data": {
      "text/plain": [
       "True"
      ]
     },
     "execution_count": 4,
     "metadata": {},
     "output_type": "execute_result"
    }
   ],
   "source": [
    "m.Find_interset()\n",
    "m.withdrawal(5000)"
   ]
  },
  {
   "cell_type": "code",
   "execution_count": 5,
   "metadata": {},
   "outputs": [
    {
     "name": "stdout",
     "output_type": "stream",
     "text": [
      "Amount Deposited\n",
      "\n",
      "\n",
      "Your updated balance is :  5300.0\n"
     ]
    },
    {
     "data": {
      "text/plain": [
       "5300.0"
      ]
     },
     "execution_count": 5,
     "metadata": {},
     "output_type": "execute_result"
    }
   ],
   "source": [
    "m.deposit(5000)"
   ]
  },
  {
   "cell_type": "code",
   "execution_count": null,
   "metadata": {},
   "outputs": [],
   "source": [
    "l=[]\n",
    "while True:\n",
    "    print(\"1) New Customer\")\n",
    "    print(\"2) Withdraw money\")\n",
    "    print(\"3) Display Customers\")\n",
    "    print(\"4) Deposit money\")\n",
    "    print(\"5) Exit\")\n",
    "    x = input(\"Input\")\n",
    "    if(x==1):\n",
    "        m = Bank()\n",
    "        l.append(m)\n",
    "    elif(x==2):\n",
    "        acno = int(input(\"Enter your acc no.\"))\n",
    "        num = int(input(\"Enter your amount\"))\n",
    "        for x in l:\n",
    "            if(acno == m.account_num):\n",
    "                if(x.withdrawal(num)):\n",
    "                    print(\"Transaction successful\")\n",
    "                else:\n",
    "                    print(\"Transcation unsucessful\")\n",
    "    elif(x==3):\n",
    "        for x in l:\n",
    "            x.display()\n",
    "    elif(x==4):\n",
    "        acno = int(input(\"Enter your acc no.\"))\n",
    "        num = int(input(\"Enter your amount\"))\n",
    "        for x in l:\n",
    "            if(acno == m.account_num):\n",
    "                x.deposit(num)\n",
    "    elif(x==5):\n",
    "        break\n",
    "\n",
    "\n",
    "    \n",
    "\n",
    "    \n",
    "    "
   ]
  },
  {
   "cell_type": "markdown",
   "metadata": {},
   "source": [
    "**Practical 5b** Define a base class Person, having attributes name, birthdate and city. Define the class Student that derives from Person class which is having attributes like rollno, branch, totalMarks and year as data member. The class should contain the instance method __init__ and the percentage with pass statement. Define two classes Grad and PostGrad which inherit from the base class Student. Both the classes should define their __init__ method which asks user to enter totalMarks value and should override the method percentage of the superclass. Note that totalMarks obtained are out of 600 and 400 for Grad and PostGrad classes respectively."
   ]
  },
  {
   "cell_type": "code",
   "execution_count": 5,
   "metadata": {},
   "outputs": [],
   "source": [
    "class Person:\n",
    "    def __init__(self,n,birth_date,c):\n",
    "        self.name=n\n",
    "        self.birthdate=birth_date\n",
    "        self.city=c\n",
    "        \n",
    "class Student(Person):\n",
    "    def __init__(self,n,birth_date,c,r,b,y):\n",
    "        super().__init__(n,birth_date,c)\n",
    "        self.rollno=r\n",
    "        self.branch=b\n",
    "        self.year=y\n",
    "    def percentage(self):\n",
    "        pass\n",
    "    \n",
    "class Grad(Student):\n",
    "    def __init__(self,n,birth_date,c,r,b,y):\n",
    "        super().__init__(n,birth_date,c,r,b,y)\n",
    "        self.totalMarks=int(input(\"Enter Total Marks out of 600:\"))\n",
    "        while True:\n",
    "            if self.totalMarks>600 and self.totalMarks<0:\n",
    "                print(\"Invalid Marks!!!\")\n",
    "            else:\n",
    "                break\n",
    "            \n",
    "    def percentage(self):\n",
    "        self.g=self.totalMarks/6\n",
    "\n",
    "    def display(self):\n",
    "        print(\"Name:\",self.name)\n",
    "        print(\"Birthdate:\",self.birthdate)\n",
    "        print(\"City:\",self.city)\n",
    "        print(\"Rollno:\",self.rollno)\n",
    "        print(\"Branch:\",self.branch)\n",
    "        print(\"Graduation Year:\",self.year)\n",
    "        print(\"Percentage Obtained in Graduation:%.3f\"%(self.g))\n",
    "    \n",
    "\n",
    "class PostGrad(Student):\n",
    "    def __init__(self,n,birth_date,c,r,b,y):\n",
    "        super().__init__(n,birth_date,c,r,b,y)\n",
    "        self.totalMarks=int(input(\"Enter Total Marks out of 400:\"))\n",
    "        while True:\n",
    "            if self.totalMarks>400 and self.totalMarks<0:\n",
    "                print(\"Invalid Marks!!!\")\n",
    "            else:\n",
    "                break\n",
    "    def percentage(self):\n",
    "        self.pg=self.totalMarks/4\n",
    "        \n",
    "    def display(self):\n",
    "        print(\"Name:\",self.name)\n",
    "        print(\"Birthdate:\",self.birthdate)\n",
    "        print(\"City:\",self.city)\n",
    "        print(\"Rollno:\",self.rollno)\n",
    "        print(\"Branch:\",self.branch)\n",
    "        print(\"Graduation Year:\",self.year)\n",
    "        print(\"Percentage Obtained in Post Graduation:%.3f\" %(self.pg))\n"
   ]
  },
  {
   "cell_type": "code",
   "execution_count": 4,
   "metadata": {},
   "outputs": [
    {
     "name": "stdout",
     "output_type": "stream",
     "text": [
      "\t\tMENU\n",
      "1)Graduation.\n",
      "2)Post Graduation.\n",
      "3)Exit.\n",
      "Enter Total Marks out of 600:\n",
      "Name: Devasy\n",
      "Birthdate: 23-06\n",
      "City: Abad\n",
      "Rollno: 057\n",
      "Branch: CSE\n",
      "Graduation Year: 2024\n",
      "Percentage Obtained in Graduation:337.000\n",
      "\t\tMENU\n",
      "1)Graduation.\n",
      "2)Post Graduation.\n",
      "3)Exit.\n",
      "Enter Valid Choice!!!!\n",
      "\t\tMENU\n",
      "1)Graduation.\n",
      "2)Post Graduation.\n",
      "3)Exit.\n"
     ]
    },
    {
     "ename": "ValueError",
     "evalue": "invalid literal for int() with base 10: ''",
     "output_type": "error",
     "traceback": [
      "\u001b[1;31m---------------------------------------------------------------------------\u001b[0m",
      "\u001b[1;31mValueError\u001b[0m                                Traceback (most recent call last)",
      "\u001b[1;32m~\\AppData\\Local\\Temp/ipykernel_13296/3231690119.py\u001b[0m in \u001b[0;36m<module>\u001b[1;34m\u001b[0m\n\u001b[0;32m      5\u001b[0m     \u001b[0mprint\u001b[0m\u001b[1;33m(\u001b[0m\u001b[1;34m\"2)Post Graduation.\"\u001b[0m\u001b[1;33m)\u001b[0m\u001b[1;33m\u001b[0m\u001b[1;33m\u001b[0m\u001b[0m\n\u001b[0;32m      6\u001b[0m     \u001b[0mprint\u001b[0m\u001b[1;33m(\u001b[0m\u001b[1;34m\"3)Exit.\"\u001b[0m\u001b[1;33m)\u001b[0m\u001b[1;33m\u001b[0m\u001b[1;33m\u001b[0m\u001b[0m\n\u001b[1;32m----> 7\u001b[1;33m     \u001b[0mch\u001b[0m\u001b[1;33m=\u001b[0m\u001b[0mint\u001b[0m\u001b[1;33m(\u001b[0m\u001b[0minput\u001b[0m\u001b[1;33m(\u001b[0m\u001b[1;34m\"Enter your choice:\"\u001b[0m\u001b[1;33m)\u001b[0m\u001b[1;33m)\u001b[0m\u001b[1;33m\u001b[0m\u001b[1;33m\u001b[0m\u001b[0m\n\u001b[0m\u001b[0;32m      8\u001b[0m     \u001b[1;32mif\u001b[0m \u001b[0mch\u001b[0m\u001b[1;33m==\u001b[0m\u001b[1;36m1\u001b[0m\u001b[1;33m:\u001b[0m\u001b[1;33m\u001b[0m\u001b[1;33m\u001b[0m\u001b[0m\n\u001b[0;32m      9\u001b[0m         \u001b[0mn\u001b[0m\u001b[1;33m=\u001b[0m\u001b[0mstr\u001b[0m\u001b[1;33m(\u001b[0m\u001b[0minput\u001b[0m\u001b[1;33m(\u001b[0m\u001b[1;34m\"Enter Name:\"\u001b[0m\u001b[1;33m)\u001b[0m\u001b[1;33m)\u001b[0m\u001b[1;33m\u001b[0m\u001b[1;33m\u001b[0m\u001b[0m\n",
      "\u001b[1;31mValueError\u001b[0m: invalid literal for int() with base 10: ''"
     ]
    }
   ],
   "source": [
    "ch=0\n",
    "while True:\n",
    "    print(\"------------\\tMENU------------\")\n",
    "    print(\"1)Graduation.\")\n",
    "    print(\"2)Post Graduation.\")\n",
    "    print(\"3)Exit.\")\n",
    "    ch=int(input(\"Enter your choice:\"))\n",
    "    if ch==1:\n",
    "        n=str(input(\"Enter Name:\"))\n",
    "        bod=str(input(\"Enter Birthday:\"))\n",
    "        cty=str(input(\"Enter city:\"))\n",
    "        r=str(input(\"Enter Rollno:\"))\n",
    "        br=str(input(\"Enter Branch:\"))\n",
    "        y=int(input(\"Enter Graduation Year:\"))\n",
    "        g=Grad(n,bod,cty,r,br,y)\n",
    "        g.percentage()\n",
    "        g.display()\n",
    "    elif ch==2:\n",
    "        n=str(input(\"Enter Name:\"))\n",
    "        bod=str(input(\"Enter Birthday:\"))\n",
    "        cty=str(input(\"Enter city:\"))\n",
    "        r=str(input(\"Enter Rollno:\"))\n",
    "        br=str(input(\"Enter Branch:\"))\n",
    "        y=int(input(\"Enter Graduation Year:\"))\n",
    "        pg=PostGrad(n,bod,cty,r,br,y)\n",
    "        pg.percentage()\n",
    "        pg.display()\n",
    "    elif ch==3:\n",
    "        break\n",
    "    else:\n",
    "        print(\"Enter Valid Choice!!!!\")\n",
    "    \n"
   ]
  }
 ],
 "metadata": {
  "interpreter": {
   "hash": "247ab06e135bb35fa78c5eff31b2a9a0050dcb5fb773c2631d2a29ac689eeccb"
  },
  "kernelspec": {
   "display_name": "Python 3.9.6 64-bit",
   "language": "python",
   "name": "python3"
  },
  "language_info": {
   "codemirror_mode": {
    "name": "ipython",
    "version": 3
   },
   "file_extension": ".py",
   "mimetype": "text/x-python",
   "name": "python",
   "nbconvert_exporter": "python",
   "pygments_lexer": "ipython3",
   "version": "3.9.6"
  },
  "orig_nbformat": 4
 },
 "nbformat": 4,
 "nbformat_minor": 2
}
