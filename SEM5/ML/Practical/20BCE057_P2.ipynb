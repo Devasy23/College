{
 "cells": [
  {
   "cell_type": "markdown",
   "id": "ebfccc75",
   "metadata": {},
   "source": [
    "## Name - Devansh Shah\n",
    "## Roll Number - 20BCE055\n",
    "## Practical-2"
   ]
  },
  {
   "cell_type": "markdown",
   "id": "96675e53",
   "metadata": {},
   "source": [
    "## TABULA Library"
   ]
  },
  {
   "cell_type": "code",
   "execution_count": 8,
   "id": "2a635a23",
   "metadata": {},
   "outputs": [],
   "source": [
    "import tabula"
   ]
  },
  {
   "cell_type": "code",
   "execution_count": 9,
   "id": "b628703f",
   "metadata": {},
   "outputs": [],
   "source": [
    "fname=input(\"Please enter the file name: \")"
   ]
  },
  {
   "cell_type": "code",
   "execution_count": 10,
   "id": "6aa731b1",
   "metadata": {},
   "outputs": [
    {
     "name": "stdout",
     "output_type": "stream",
     "text": [
      "1\n"
     ]
    }
   ],
   "source": [
    "tables=tabula.read_pdf(fname,pages=\"all\",lattice=True,stream=\"True\",multiple_tables=True) \n",
    "#Lattice makes text come in 1 line - It recognizes each cells based on borders of each cell.\n",
    "print(len(tables))"
   ]
  },
  {
   "cell_type": "code",
   "execution_count": 11,
   "id": "0b308d2c",
   "metadata": {},
   "outputs": [],
   "source": [
    "import zipfile\n",
    "from zipfile import ZipFile"
   ]
  },
  {
   "cell_type": "code",
   "execution_count": 12,
   "id": "88713f35",
   "metadata": {},
   "outputs": [],
   "source": [
    "z = ZipFile(\"D:\\\\Devansh - Nirma\\\\5th Semester\\\\ML\\\\Lab\\\\P1.zip\",\"w\")"
   ]
  },
  {
   "cell_type": "code",
   "execution_count": 13,
   "id": "a16a5b29",
   "metadata": {},
   "outputs": [
    {
     "name": "stdout",
     "output_type": "stream",
     "text": [
      "Table- 1\n",
      "  Cycle\\rName  KI\\r(1/km)  Distance\\r(mi) Percent Fuel Savings  \\\n",
      "0         NaN         NaN             NaN      Improved\\rSpeed   \n",
      "1      2012_2        3.30             1.3                 5.9%   \n",
      "2      2145_1        0.68            11.2                 2.4%   \n",
      "3      4234_1        0.59            58.7                 8.5%   \n",
      "4      2032_2        0.17            57.8                21.7%   \n",
      "5      4171_1        0.07           173.9                58.1%   \n",
      "\n",
      "         Unnamed: 0        Unnamed: 1       Unnamed: 2  \n",
      "0  Decreased\\rAccel  Eliminate\\rStops  Decreased\\rIdle  \n",
      "1              9.5%             29.2%            17.4%  \n",
      "2              0.1%              9.5%             2.7%  \n",
      "3              1.3%              8.5%             3.3%  \n",
      "4              0.3%              2.7%             1.2%  \n",
      "5              1.6%              2.1%             0.5%  \n",
      "\n",
      "\n",
      "\n",
      "\n",
      "Table created successfully\n",
      "\n",
      "File stored successfully!\n"
     ]
    }
   ],
   "source": [
    "for i in range(len(tables)):\n",
    "    print(\"Table-\",i+1)\n",
    "    print(tables[i])\n",
    "    print(\"\\n\\n\")\n",
    "    foutput=\"Table(\"\n",
    "    foutput=foutput+str(i+1)+\").csv\"\n",
    "    tables[i].to_csv(foutput)\n",
    "    z.write(foutput)\n",
    "z.close()\n",
    "print(\"\\nTable created successfully\\n\\nFile stored successfully!\")"
   ]
  },
  {
   "cell_type": "markdown",
   "id": "7adef738",
   "metadata": {},
   "source": [
    "## CAMELOT Library"
   ]
  },
  {
   "cell_type": "code",
   "execution_count": 14,
   "id": "b515744a",
   "metadata": {},
   "outputs": [
    {
     "name": "stdout",
     "output_type": "stream",
     "text": [
      "Requirement already satisfied: tk in c:\\users\\devansh\\anaconda3\\envs\\env1\\lib\\site-packages (0.1.0)\n",
      "Note: you may need to restart the kernel to use updated packages.\n"
     ]
    }
   ],
   "source": [
    "pip install tk"
   ]
  },
  {
   "cell_type": "code",
   "execution_count": 15,
   "id": "25cf552e",
   "metadata": {},
   "outputs": [
    {
     "name": "stdout",
     "output_type": "stream",
     "text": [
      "Requirement already satisfied: ghostscript in c:\\users\\devansh\\anaconda3\\envs\\env1\\lib\\site-packages (0.7)\n",
      "Requirement already satisfied: setuptools>=38.6.0 in c:\\users\\devansh\\anaconda3\\envs\\env1\\lib\\site-packages (from ghostscript) (58.0.4)\n",
      "Note: you may need to restart the kernel to use updated packages.\n"
     ]
    }
   ],
   "source": [
    "pip install ghostscript"
   ]
  },
  {
   "cell_type": "code",
   "execution_count": 16,
   "id": "823f3147",
   "metadata": {},
   "outputs": [
    {
     "name": "stdout",
     "output_type": "stream",
     "text": [
      "Requirement already satisfied: camelot in c:\\users\\devansh\\anaconda3\\envs\\env1\\lib\\site-packages (12.6.29)\n",
      "Requirement already satisfied: Elixir>=0.7.1 in c:\\users\\devansh\\anaconda3\\envs\\env1\\lib\\site-packages (from camelot) (0.7.1)\n",
      "Requirement already satisfied: xlwt==0.7.2 in c:\\users\\devansh\\anaconda3\\envs\\env1\\lib\\site-packages (from camelot) (0.7.2)\n",
      "Requirement already satisfied: xlrd==0.7.1 in c:\\users\\devansh\\anaconda3\\envs\\env1\\lib\\site-packages (from camelot) (0.7.1)\n",
      "Requirement already satisfied: Jinja2>=2.5.5 in c:\\users\\devansh\\anaconda3\\envs\\env1\\lib\\site-packages (from camelot) (2.11.3)\n",
      "Requirement already satisfied: SQLAlchemy<0.8.0,>=0.7.7 in c:\\users\\devansh\\anaconda3\\envs\\env1\\lib\\site-packages (from camelot) (0.7.10)\n",
      "Requirement already satisfied: chardet>=1.0.1 in c:\\users\\devansh\\anaconda3\\envs\\env1\\lib\\site-packages (from camelot) (4.0.0)\n",
      "Requirement already satisfied: sqlalchemy-migrate>=0.7.1 in c:\\users\\devansh\\anaconda3\\envs\\env1\\lib\\site-packages (from camelot) (0.11.0)\n",
      "Requirement already satisfied: MarkupSafe>=0.23 in c:\\users\\devansh\\anaconda3\\envs\\env1\\lib\\site-packages (from Jinja2>=2.5.5->camelot) (1.1.1)\n",
      "Requirement already satisfied: decorator in c:\\users\\devansh\\anaconda3\\envs\\env1\\lib\\site-packages (from sqlalchemy-migrate>=0.7.1->camelot) (5.1.0)\n",
      "Requirement already satisfied: Tempita>=0.4 in c:\\users\\devansh\\anaconda3\\envs\\env1\\lib\\site-packages (from sqlalchemy-migrate>=0.7.1->camelot) (0.5.2)\n",
      "Requirement already satisfied: sqlparse in c:\\users\\devansh\\anaconda3\\envs\\env1\\lib\\site-packages (from sqlalchemy-migrate>=0.7.1->camelot) (0.4.2)\n",
      "Requirement already satisfied: pbr>=1.8 in c:\\users\\devansh\\anaconda3\\envs\\env1\\lib\\site-packages (from sqlalchemy-migrate>=0.7.1->camelot) (5.10.0)\n",
      "Requirement already satisfied: six>=1.7.0 in c:\\users\\devansh\\anaconda3\\envs\\env1\\lib\\site-packages (from sqlalchemy-migrate>=0.7.1->camelot) (1.16.0)\n",
      "Note: you may need to restart the kernel to use updated packages.\n"
     ]
    }
   ],
   "source": [
    "pip install camelot"
   ]
  },
  {
   "cell_type": "code",
   "execution_count": 17,
   "id": "ae2a9072",
   "metadata": {},
   "outputs": [
    {
     "ename": "ImportError",
     "evalue": "cannot import name 'TableList' from 'camelot.core' (c:\\Users\\DEVANSH\\anaconda3\\envs\\ENV1\\lib\\site-packages\\camelot\\core\\__init__.py)",
     "output_type": "error",
     "traceback": [
      "\u001b[1;31m---------------------------------------------------------------------------\u001b[0m",
      "\u001b[1;31mImportError\u001b[0m                               Traceback (most recent call last)",
      "\u001b[1;32m~\\AppData\\Local\\Temp/ipykernel_13632/2287779741.py\u001b[0m in \u001b[0;36m<module>\u001b[1;34m\u001b[0m\n\u001b[1;32m----> 1\u001b[1;33m \u001b[1;32mimport\u001b[0m \u001b[0mcamelot\u001b[0m\u001b[1;33m\u001b[0m\u001b[1;33m\u001b[0m\u001b[0m\n\u001b[0m",
      "\u001b[1;32mc:\\Users\\DEVANSH\\anaconda3\\envs\\ENV1\\lib\\site-packages\\camelot\\__init__.py\u001b[0m in \u001b[0;36m<module>\u001b[1;34m\u001b[0m\n\u001b[0;32m      4\u001b[0m \u001b[1;33m\u001b[0m\u001b[0m\n\u001b[0;32m      5\u001b[0m \u001b[1;32mfrom\u001b[0m \u001b[1;33m.\u001b[0m\u001b[0m__version__\u001b[0m \u001b[1;32mimport\u001b[0m \u001b[0m__version__\u001b[0m\u001b[1;33m\u001b[0m\u001b[1;33m\u001b[0m\u001b[0m\n\u001b[1;32m----> 6\u001b[1;33m \u001b[1;32mfrom\u001b[0m \u001b[1;33m.\u001b[0m\u001b[0mio\u001b[0m \u001b[1;32mimport\u001b[0m \u001b[0mread_pdf\u001b[0m\u001b[1;33m\u001b[0m\u001b[1;33m\u001b[0m\u001b[0m\n\u001b[0m\u001b[0;32m      7\u001b[0m \u001b[1;32mfrom\u001b[0m \u001b[1;33m.\u001b[0m\u001b[0mplotting\u001b[0m \u001b[1;32mimport\u001b[0m \u001b[0mPlotMethods\u001b[0m\u001b[1;33m\u001b[0m\u001b[1;33m\u001b[0m\u001b[0m\n\u001b[0;32m      8\u001b[0m \u001b[1;33m\u001b[0m\u001b[0m\n",
      "\u001b[1;32mc:\\Users\\DEVANSH\\anaconda3\\envs\\ENV1\\lib\\site-packages\\camelot\\io.py\u001b[0m in \u001b[0;36m<module>\u001b[1;34m\u001b[0m\n\u001b[0;32m      3\u001b[0m \u001b[1;32mimport\u001b[0m \u001b[0mwarnings\u001b[0m\u001b[1;33m\u001b[0m\u001b[1;33m\u001b[0m\u001b[0m\n\u001b[0;32m      4\u001b[0m \u001b[1;33m\u001b[0m\u001b[0m\n\u001b[1;32m----> 5\u001b[1;33m \u001b[1;32mfrom\u001b[0m \u001b[1;33m.\u001b[0m\u001b[0mhandlers\u001b[0m \u001b[1;32mimport\u001b[0m \u001b[0mPDFHandler\u001b[0m\u001b[1;33m\u001b[0m\u001b[1;33m\u001b[0m\u001b[0m\n\u001b[0m\u001b[0;32m      6\u001b[0m \u001b[1;32mfrom\u001b[0m \u001b[1;33m.\u001b[0m\u001b[0mutils\u001b[0m \u001b[1;32mimport\u001b[0m \u001b[0mvalidate_input\u001b[0m\u001b[1;33m,\u001b[0m \u001b[0mremove_extra\u001b[0m\u001b[1;33m\u001b[0m\u001b[1;33m\u001b[0m\u001b[0m\n\u001b[0;32m      7\u001b[0m \u001b[1;33m\u001b[0m\u001b[0m\n",
      "\u001b[1;32mc:\\Users\\DEVANSH\\anaconda3\\envs\\ENV1\\lib\\site-packages\\camelot\\handlers.py\u001b[0m in \u001b[0;36m<module>\u001b[1;34m\u001b[0m\n\u001b[0;32m      6\u001b[0m \u001b[1;32mfrom\u001b[0m \u001b[0mPyPDF2\u001b[0m \u001b[1;32mimport\u001b[0m \u001b[0mPdfFileReader\u001b[0m\u001b[1;33m,\u001b[0m \u001b[0mPdfFileWriter\u001b[0m\u001b[1;33m\u001b[0m\u001b[1;33m\u001b[0m\u001b[0m\n\u001b[0;32m      7\u001b[0m \u001b[1;33m\u001b[0m\u001b[0m\n\u001b[1;32m----> 8\u001b[1;33m \u001b[1;32mfrom\u001b[0m \u001b[1;33m.\u001b[0m\u001b[0mcore\u001b[0m \u001b[1;32mimport\u001b[0m \u001b[0mTableList\u001b[0m\u001b[1;33m\u001b[0m\u001b[1;33m\u001b[0m\u001b[0m\n\u001b[0m\u001b[0;32m      9\u001b[0m \u001b[1;32mfrom\u001b[0m \u001b[1;33m.\u001b[0m\u001b[0mparsers\u001b[0m \u001b[1;32mimport\u001b[0m \u001b[0mStream\u001b[0m\u001b[1;33m,\u001b[0m \u001b[0mLattice\u001b[0m\u001b[1;33m\u001b[0m\u001b[1;33m\u001b[0m\u001b[0m\n\u001b[0;32m     10\u001b[0m from .utils import (\n",
      "\u001b[1;31mImportError\u001b[0m: cannot import name 'TableList' from 'camelot.core' (c:\\Users\\DEVANSH\\anaconda3\\envs\\ENV1\\lib\\site-packages\\camelot\\core\\__init__.py)"
     ]
    }
   ],
   "source": [
    "import camelot"
   ]
  },
  {
   "cell_type": "code",
   "execution_count": null,
   "id": "dcb54619",
   "metadata": {},
   "outputs": [
    {
     "ename": "AttributeError",
     "evalue": "module 'camelot' has no attribute 'read_pdf'",
     "output_type": "error",
     "traceback": [
      "\u001b[1;31m---------------------------------------------------------------------------\u001b[0m",
      "\u001b[1;31mAttributeError\u001b[0m                            Traceback (most recent call last)",
      "\u001b[1;32m~\\AppData\\Local\\Temp/ipykernel_19560/1094314360.py\u001b[0m in \u001b[0;36m<module>\u001b[1;34m\u001b[0m\n\u001b[1;32m----> 1\u001b[1;33m \u001b[0mtables\u001b[0m \u001b[1;33m=\u001b[0m \u001b[0mcamelot\u001b[0m\u001b[1;33m.\u001b[0m\u001b[0mread_pdf\u001b[0m\u001b[1;33m(\u001b[0m\u001b[1;34m'foo.pdf'\u001b[0m\u001b[1;33m)\u001b[0m\u001b[1;33m\u001b[0m\u001b[1;33m\u001b[0m\u001b[0m\n\u001b[0m",
      "\u001b[1;31mAttributeError\u001b[0m: module 'camelot' has no attribute 'read_pdf'"
     ]
    }
   ],
   "source": [
    "tables = camelot.read_pdf('foo.pdf')"
   ]
  },
  {
   "cell_type": "code",
   "execution_count": null,
   "id": "7af3d606",
   "metadata": {},
   "outputs": [],
   "source": []
  }
 ],
 "metadata": {
  "kernelspec": {
   "display_name": "Python 3.7.11 ('ENV1')",
   "language": "python",
   "name": "python3"
  },
  "language_info": {
   "codemirror_mode": {
    "name": "ipython",
    "version": 3
   },
   "file_extension": ".py",
   "mimetype": "text/x-python",
   "name": "python",
   "nbconvert_exporter": "python",
   "pygments_lexer": "ipython3",
   "version": "3.7.11"
  },
  "vscode": {
   "interpreter": {
    "hash": "58fcf0f575f0f587fedc449156833772ff77386521e863f1520ed68694f09ddd"
   }
  }
 },
 "nbformat": 4,
 "nbformat_minor": 5
}
