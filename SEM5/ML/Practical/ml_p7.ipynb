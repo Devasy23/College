{
 "cells": [
  {
   "cell_type": "code",
   "execution_count": 15,
   "metadata": {},
   "outputs": [
    {
     "data": {
      "text/plain": [
       "0.9047619047619048"
      ]
     },
     "execution_count": 15,
     "metadata": {},
     "output_type": "execute_result"
    }
   ],
   "source": [
    "import sklearn\n",
    "import numpy as np\n",
    "# implementing svm from scratch to classify iris dataset\n",
    "from sklearn import datasets\n",
    "from sklearn import svm\n",
    "\n",
    "\n",
    "df=datasets.load_iris()\n",
    "# xt is the training data and yt is the training label\n",
    "# train test split\n",
    "xt=df.data[:129]\n",
    "yt=df.target[:129]\n",
    "xtest=df.data[129:]\n",
    "ytest=df.target[129:]\n",
    "\n",
    "model = svm.SVC(kernel='linear', C = 1.0)\n",
    "\n",
    "model.fit(xt,yt)\n",
    "model.score(xtest,ytest)\n",
    "\n"
   ]
  },
  {
   "cell_type": "code",
   "execution_count": 16,
   "metadata": {},
   "outputs": [
    {
     "name": "stdout",
     "output_type": "stream",
     "text": [
      "Accuracy: 0.9047619047619048\n",
      "confusion matrix: \n",
      " [[ 0  0]\n",
      " [ 2 19]]\n"
     ]
    }
   ],
   "source": [
    "model.predict(xtest)\n",
    "print(\"Accuracy:\",model.score(xtest,ytest))\n",
    "print(\"confusion matrix: \\n\",sklearn.metrics.confusion_matrix(ytest,model.predict(xtest)))\n"
   ]
  },
  {
   "cell_type": "code",
   "execution_count": 19,
   "metadata": {},
   "outputs": [
    {
     "name": "stdout",
     "output_type": "stream",
     "text": [
      "{'mean_fit_time': array([0.        , 0.        , 0.        , 0.        , 0.        ,\n",
      "       0.        , 0.00159674, 0.        , 0.        , 0.        ,\n",
      "       0.00159912, 0.        , 0.        , 0.00160103, 0.        ]), 'std_fit_time': array([0.        , 0.        , 0.        , 0.        , 0.        ,\n",
      "       0.        , 0.00319347, 0.        , 0.        , 0.        ,\n",
      "       0.00319824, 0.        , 0.        , 0.00320206, 0.        ]), 'mean_score_time': array([0.        , 0.0016027 , 0.        , 0.        , 0.        ,\n",
      "       0.00160146, 0.        , 0.        , 0.00160584, 0.        ,\n",
      "       0.        , 0.        , 0.        , 0.        , 0.        ]), 'std_score_time': array([0.        , 0.00320539, 0.        , 0.        , 0.        ,\n",
      "       0.00320292, 0.        , 0.        , 0.00321169, 0.        ,\n",
      "       0.        , 0.        , 0.        , 0.        , 0.        ]), 'param_C': masked_array(data=[1, 1, 1, 3, 3, 3, 5, 5, 5, 7, 7, 7, 2, 2, 2],\n",
      "             mask=[False, False, False, False, False, False, False, False,\n",
      "                   False, False, False, False, False, False, False],\n",
      "       fill_value='?',\n",
      "            dtype=object), 'param_kernel': masked_array(data=['linear', 'rbf', 'poly', 'linear', 'rbf', 'poly',\n",
      "                   'linear', 'rbf', 'poly', 'linear', 'rbf', 'poly',\n",
      "                   'linear', 'rbf', 'poly'],\n",
      "             mask=[False, False, False, False, False, False, False, False,\n",
      "                   False, False, False, False, False, False, False],\n",
      "       fill_value='?',\n",
      "            dtype=object), 'params': [{'C': 1, 'kernel': 'linear'}, {'C': 1, 'kernel': 'rbf'}, {'C': 1, 'kernel': 'poly'}, {'C': 3, 'kernel': 'linear'}, {'C': 3, 'kernel': 'rbf'}, {'C': 3, 'kernel': 'poly'}, {'C': 5, 'kernel': 'linear'}, {'C': 5, 'kernel': 'rbf'}, {'C': 5, 'kernel': 'poly'}, {'C': 7, 'kernel': 'linear'}, {'C': 7, 'kernel': 'rbf'}, {'C': 7, 'kernel': 'poly'}, {'C': 2, 'kernel': 'linear'}, {'C': 2, 'kernel': 'rbf'}, {'C': 2, 'kernel': 'poly'}], 'split0_test_score': array([1., 1., 1., 1., 1., 1., 1., 1., 1., 1., 1., 1., 1., 1., 1.]), 'split1_test_score': array([1.        , 0.96153846, 1.        , 1.        , 0.96153846,\n",
      "       0.96153846, 1.        , 1.        , 1.        , 0.96153846,\n",
      "       1.        , 1.        , 1.        , 0.96153846, 0.96153846]), 'split2_test_score': array([1.        , 1.        , 0.88461538, 0.88461538, 1.        ,\n",
      "       0.96153846, 0.88461538, 1.        , 0.96153846, 0.88461538,\n",
      "       1.        , 0.96153846, 0.88461538, 1.        , 0.88461538]), 'split3_test_score': array([0.96153846, 0.92307692, 0.96153846, 0.96153846, 0.88461538,\n",
      "       0.92307692, 0.92307692, 0.92307692, 0.96153846, 0.92307692,\n",
      "       0.92307692, 0.96153846, 0.96153846, 0.88461538, 0.96153846]), 'split4_test_score': array([0.96, 0.92, 0.92, 0.92, 0.92, 1.  , 0.92, 0.92, 0.96, 0.92, 0.96,\n",
      "       0.96, 0.92, 0.92, 1.  ]), 'mean_test_score': array([0.98430769, 0.96092308, 0.95323077, 0.95323077, 0.95323077,\n",
      "       0.96923077, 0.94553846, 0.96861538, 0.97661538, 0.93784615,\n",
      "       0.97661538, 0.97661538, 0.95323077, 0.95323077, 0.96153846]), 'std_test_score': array([0.01922523, 0.0351039 , 0.04529038, 0.04529038, 0.04529038,\n",
      "       0.02878198, 0.04647682, 0.03845046, 0.01910172, 0.03948305,\n",
      "       0.03092882, 0.01910172, 0.04529038, 0.04529038, 0.0421325 ]), 'rank_test_score': array([ 1,  8,  9,  9,  9,  5, 14,  6,  2, 15,  2,  2,  9,  9,  7])}\n",
      "\n",
      " {'C': 1, 'kernel': 'linear'}\n",
      "0.9047619047619048\n",
      "0.9843076923076923\n",
      "[[ 0  0]\n",
      " [ 2 19]]\n"
     ]
    }
   ],
   "source": [
    "# grid search\n",
    "GS = sklearn.model_selection.GridSearchCV(svm.SVC(),{'C':[1,3, 5, 7,2],'kernel':['linear','rbf', 'poly']},cv=5,return_train_score=False)\n",
    "# print(GS.fit(xt,yt))\n",
    "GS.fit(xt,yt)\n",
    "\n",
    "print(GS.cv_results_)\n",
    "print(\"\\n\", GS.best_params_)\n",
    "# accuracy\n",
    "print(GS.score(xtest,ytest))\n",
    "# best accuracy\n",
    "print(GS.best_score_)\n",
    "# confusion matrix\n",
    "print(sklearn.metrics.confusion_matrix(ytest,GS.predict(xtest)))\n"
   ]
  }
 ],
 "metadata": {
  "kernelspec": {
   "display_name": "Python 3.10.5 64-bit",
   "language": "python",
   "name": "python3"
  },
  "language_info": {
   "codemirror_mode": {
    "name": "ipython",
    "version": 3
   },
   "file_extension": ".py",
   "mimetype": "text/x-python",
   "name": "python",
   "nbconvert_exporter": "python",
   "pygments_lexer": "ipython3",
   "version": "3.10.5"
  },
  "orig_nbformat": 4,
  "vscode": {
   "interpreter": {
    "hash": "c2ed1c1e3dda2d1d09010f3df351d528d97a393444344645f0fddd23da56b409"
   }
  }
 },
 "nbformat": 4,
 "nbformat_minor": 2
}
