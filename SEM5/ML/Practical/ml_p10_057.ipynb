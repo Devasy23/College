{
 "cells": [
  {
   "cell_type": "code",
   "execution_count": 12,
   "metadata": {},
   "outputs": [],
   "source": [
    "import sklearn\n",
    "import pandas as pd\n",
    "import matplotlib.pyplot as plt\n",
    "import numpy as np"
   ]
  },
  {
   "cell_type": "code",
   "execution_count": 13,
   "metadata": {},
   "outputs": [],
   "source": [
    "df=pd.read_csv(\"Income Data.csv\")"
   ]
  },
  {
   "cell_type": "code",
   "execution_count": 14,
   "metadata": {},
   "outputs": [
    {
     "name": "stdout",
     "output_type": "stream",
     "text": [
      "    income    age\n",
      "0  41100.0  48.75\n",
      "1  54100.0  28.10\n",
      "2  47800.0  46.75\n",
      "3  19100.0  40.25\n",
      "4  18200.0  35.80\n"
     ]
    }
   ],
   "source": [
    "print(df.head())"
   ]
  },
  {
   "cell_type": "code",
   "execution_count": 15,
   "metadata": {},
   "outputs": [
    {
     "data": {
      "image/png": "[encoded data removed]",
      "text/plain": [
       "<Figure size 432x288 with 1 Axes>"
      ]
     },
     "metadata": {
      "needs_background": "light"
     },
     "output_type": "display_data"
    }
   ],
   "source": [
    "plt.scatter(df['income'],df['age'])\n",
    "plt.xlabel('Income')\n",
    "plt.ylabel('Age')\n",
    "plt.show()"
   ]
  },
  {
   "cell_type": "code",
   "execution_count": 16,
   "metadata": {},
   "outputs": [
    {
     "name": "stdout",
     "output_type": "stream",
     "text": [
      "KMeans(n_clusters=3)\n"
     ]
    }
   ],
   "source": [
    "from sklearn.cluster import KMeans\n",
    "k = KMeans(3)\n",
    "#(init='k-means++',n_clusters=3,max_iter=100,n_init=10)\n",
    "print(k)\n",
    "#kmeans_cluster = KMeans(init = \"random\", n_clusters = k, n_init = 10, random_state = 0)"
   ]
  },
  {
   "cell_type": "code",
   "execution_count": 17,
   "metadata": {},
   "outputs": [
    {
     "data": {
      "text/html": [
       "<div>\n",
       "<style scoped>\n",
       "    .dataframe tbody tr th:only-of-type {\n",
       "        vertical-align: middle;\n",
       "    }\n",
       "\n",
       "    .dataframe tbody tr th {\n",
       "        vertical-align: top;\n",
       "    }\n",
       "\n",
       "    .dataframe thead th {\n",
       "        text-align: right;\n",
       "    }\n",
       "</style>\n",
       "<table border=\"1\" class=\"dataframe\">\n",
       "  <thead>\n",
       "    <tr style=\"text-align: right;\">\n",
       "      <th></th>\n",
       "      <th>income</th>\n",
       "      <th>age</th>\n",
       "    </tr>\n",
       "  </thead>\n",
       "  <tbody>\n",
       "    <tr>\n",
       "      <th>0</th>\n",
       "      <td>41100.0</td>\n",
       "      <td>48.75</td>\n",
       "    </tr>\n",
       "    <tr>\n",
       "      <th>1</th>\n",
       "      <td>54100.0</td>\n",
       "      <td>28.10</td>\n",
       "    </tr>\n",
       "    <tr>\n",
       "      <th>2</th>\n",
       "      <td>47800.0</td>\n",
       "      <td>46.75</td>\n",
       "    </tr>\n",
       "    <tr>\n",
       "      <th>3</th>\n",
       "      <td>19100.0</td>\n",
       "      <td>40.25</td>\n",
       "    </tr>\n",
       "    <tr>\n",
       "      <th>4</th>\n",
       "      <td>18200.0</td>\n",
       "      <td>35.80</td>\n",
       "    </tr>\n",
       "    <tr>\n",
       "      <th>...</th>\n",
       "      <td>...</td>\n",
       "      <td>...</td>\n",
       "    </tr>\n",
       "    <tr>\n",
       "      <th>295</th>\n",
       "      <td>38300.0</td>\n",
       "      <td>46.10</td>\n",
       "    </tr>\n",
       "    <tr>\n",
       "      <th>296</th>\n",
       "      <td>27400.0</td>\n",
       "      <td>44.15</td>\n",
       "    </tr>\n",
       "    <tr>\n",
       "      <th>297</th>\n",
       "      <td>54200.0</td>\n",
       "      <td>28.25</td>\n",
       "    </tr>\n",
       "    <tr>\n",
       "      <th>298</th>\n",
       "      <td>41800.0</td>\n",
       "      <td>44.85</td>\n",
       "    </tr>\n",
       "    <tr>\n",
       "      <th>299</th>\n",
       "      <td>38600.0</td>\n",
       "      <td>39.35</td>\n",
       "    </tr>\n",
       "  </tbody>\n",
       "</table>\n",
       "<p>300 rows × 2 columns</p>\n",
       "</div>"
      ],
      "text/plain": [
       "      income    age\n",
       "0    41100.0  48.75\n",
       "1    54100.0  28.10\n",
       "2    47800.0  46.75\n",
       "3    19100.0  40.25\n",
       "4    18200.0  35.80\n",
       "..       ...    ...\n",
       "295  38300.0  46.10\n",
       "296  27400.0  44.15\n",
       "297  54200.0  28.25\n",
       "298  41800.0  44.85\n",
       "299  38600.0  39.35\n",
       "\n",
       "[300 rows x 2 columns]"
      ]
     },
     "execution_count": 17,
     "metadata": {},
     "output_type": "execute_result"
    }
   ],
   "source": [
    "df1=df[['income','age']]\n",
    "df1"
   ]
  },
  {
   "cell_type": "code",
   "execution_count": 18,
   "metadata": {},
   "outputs": [
    {
     "name": "stdout",
     "output_type": "stream",
     "text": [
      "[2 1 2 0 0 0 1 2 0 2 1 1 1 2 1 0 2 2 0 1 0 2 1 2 0 0 2 0 1 1 0 2 2 1 1 0 1\n",
      " 0 2 1 0 1 2 1 1 0 1 0 0 1 0 1 0 0 1 2 2 0 0 1 1 1 2 0 1 0 2 1 2 1 0 0 0 0\n",
      " 1 2 1 0 2 2 0 2 1 2 2 1 1 0 2 2 0 1 0 1 1 1 2 1 0 2 1 0 2 1 1 2 0 2 1 1 2\n",
      " 0 1 2 0 0 2 1 1 1 1 0 1 1 1 0 1 1 1 0 0 0 2 0 0 1 0 2 0 0 1 2 1 2 0 0 2 0\n",
      " 0 1 2 0 2 1 0 0 1 1 2 1 2 1 1 2 0 1 2 2 2 0 1 2 0 1 1 1 2 1 2 1 1 0 2 2 2\n",
      " 2 1 0 2 0 2 2 1 1 0 2 1 0 2 0 1 0 1 0 1 0 2 0 2 1 2 2 0 1 1 1 1 2 0 1 2 1\n",
      " 1 1 2 0 0 2 1 2 2 1 1 2 1 0 0 0 2 2 1 0 0 0 0 1 2 0 2 1 1 2 1 1 0 2 1 0 2\n",
      " 1 0 1 0 0 2 0 2 1 1 1 1 2 2 2 2 1 0 0 1 1 2 1 1 1 0 1 0 0 1 1 0 0 0 1 2 2\n",
      " 0 1 2 2]\n"
     ]
    }
   ],
   "source": [
    "#ypred=k.fit_predict(df1)\n",
    "k.fit(df[['income','age']])\n",
    "print(k.labels_)"
   ]
  },
  {
   "cell_type": "code",
   "execution_count": 19,
   "metadata": {},
   "outputs": [
    {
     "name": "stdout",
     "output_type": "stream",
     "text": [
      "      income    age  Cluster\n",
      "0    41100.0  48.75        2\n",
      "1    54100.0  28.10        1\n",
      "2    47800.0  46.75        2\n",
      "3    19100.0  40.25        0\n",
      "4    18200.0  35.80        0\n",
      "..       ...    ...      ...\n",
      "295  38300.0  46.10        2\n",
      "296  27400.0  44.15        0\n",
      "297  54200.0  28.25        1\n",
      "298  41800.0  44.85        2\n",
      "299  38600.0  39.35        2\n",
      "\n",
      "[300 rows x 3 columns]\n"
     ]
    }
   ],
   "source": [
    "df['Cluster']=k.labels_\n",
    "print(df)"
   ]
  },
  {
   "cell_type": "code",
   "execution_count": 20,
   "metadata": {},
   "outputs": [
    {
     "name": "stdout",
     "output_type": "stream",
     "text": [
      "[[1.81447917e+04 3.91744792e+01]\n",
      " [5.46756522e+04 3.17004348e+01]\n",
      " [4.30539326e+04 4.64191011e+01]]\n"
     ]
    }
   ],
   "source": [
    "print(k.cluster_centers_)"
   ]
  },
  {
   "cell_type": "code",
   "execution_count": 21,
   "metadata": {},
   "outputs": [
    {
     "data": {
      "text/plain": [
       "Text(0, 0.5, 'Age')"
      ]
     },
     "execution_count": 21,
     "metadata": {},
     "output_type": "execute_result"
    },
    {
     "data": {
      "image/png": "[encoded data removed]",
      "text/plain": [
       "<Figure size 432x288 with 1 Axes>"
      ]
     },
     "metadata": {
      "needs_background": "light"
     },
     "output_type": "display_data"
    }
   ],
   "source": [
    "df1=df[df.Cluster==0]\n",
    "df2=df[df.Cluster==1]\n",
    "df3=df[df.Cluster==2]\n",
    " \n",
    " \n",
    "plt.scatter(df1.income,df1.age,color='green')\n",
    "plt.scatter(df2.income,df2.age,color='red')\n",
    "plt.scatter(df3.income,df3.age,color='black')\n",
    "plt.scatter(k.cluster_centers_[:,0],k.cluster_centers_[:,1],color='purple',marker='*',label='centroid')\n",
    "plt.xlabel('Income')\n",
    "plt.ylabel('Age')"
   ]
  }
 ],
 "metadata": {
  "kernelspec": {
   "display_name": "Python 3.10.5 64-bit",
   "language": "python",
   "name": "python3"
  },
  "language_info": {
   "codemirror_mode": {
    "name": "ipython",
    "version": 3
   },
   "file_extension": ".py",
   "mimetype": "text/x-python",
   "name": "python",
   "nbconvert_exporter": "python",
   "pygments_lexer": "ipython3",
   "version": "3.10.5"
  },
  "orig_nbformat": 4,
  "vscode": {
   "interpreter": {
    "hash": "c2ed1c1e3dda2d1d09010f3df351d528d97a393444344645f0fddd23da56b409"
   }
  }
 },
 "nbformat": 4,
 "nbformat_minor": 2
}
