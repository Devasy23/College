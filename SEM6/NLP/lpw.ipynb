{
  "cells": [
    {
      "cell_type": "code",
      "execution_count": 1,
      "metadata": {
        "id": "AmdJ3NBpIZUq",
        "outputId": "08a3ae2b-c4ca-4280-cdbc-ccbc965ef226",
        "colab": {
          "base_uri": "https://localhost:8080/"
        }
      },
      "outputs": [
        {
          "output_type": "stream",
          "name": "stdout",
          "text": [
            "Hello Devasy!!\n"
          ]
        }
      ],
      "source": [
        "print(\"Hello Devasy!!\")"
      ]
    },
    {
      "cell_type": "code",
      "source": [
        "f = open('corpus.txt','r')\n",
        "corpus = f.read()"
      ],
      "metadata": {
        "id": "AnGb7EcFNRT7"
      },
      "execution_count": 7,
      "outputs": []
    },
    {
      "cell_type": "code",
      "source": [
        "# code for lpw practice\n",
        "!pip install gensim nltk\n",
        "from gensim.models import Word2Vec\n",
        "import nltk"
      ],
      "metadata": {
        "id": "M_XrbZCiIkLH",
        "outputId": "be4ef58d-70f0-4ff4-c953-c7485679264c",
        "colab": {
          "base_uri": "https://localhost:8080/"
        }
      },
      "execution_count": 2,
      "outputs": [
        {
          "output_type": "stream",
          "name": "stdout",
          "text": [
            "Looking in indexes: https://pypi.org/simple, https://us-python.pkg.dev/colab-wheels/public/simple/\n",
            "Requirement already satisfied: gensim in /usr/local/lib/python3.10/dist-packages (4.3.1)\n",
            "Requirement already satisfied: nltk in /usr/local/lib/python3.10/dist-packages (3.8.1)\n",
            "Requirement already satisfied: numpy>=1.18.5 in /usr/local/lib/python3.10/dist-packages (from gensim) (1.22.4)\n",
            "Requirement already satisfied: scipy>=1.7.0 in /usr/local/lib/python3.10/dist-packages (from gensim) (1.10.1)\n",
            "Requirement already satisfied: smart-open>=1.8.1 in /usr/local/lib/python3.10/dist-packages (from gensim) (6.3.0)\n",
            "Requirement already satisfied: click in /usr/local/lib/python3.10/dist-packages (from nltk) (8.1.3)\n",
            "Requirement already satisfied: joblib in /usr/local/lib/python3.10/dist-packages (from nltk) (1.2.0)\n",
            "Requirement already satisfied: regex>=2021.8.3 in /usr/local/lib/python3.10/dist-packages (from nltk) (2022.10.31)\n",
            "Requirement already satisfied: tqdm in /usr/local/lib/python3.10/dist-packages (from nltk) (4.65.0)\n"
          ]
        }
      ]
    },
    {
      "cell_type": "code",
      "source": [
        "nltk.download('punkt')"
      ],
      "metadata": {
        "id": "unbt-vzLJMkg",
        "outputId": "183ac25f-dc03-4626-f0b4-ea459f72055e",
        "colab": {
          "base_uri": "https://localhost:8080/"
        }
      },
      "execution_count": 16,
      "outputs": [
        {
          "output_type": "stream",
          "name": "stderr",
          "text": [
            "[nltk_data] Downloading package punkt to /root/nltk_data...\n",
            "[nltk_data]   Package punkt is already up-to-date!\n"
          ]
        },
        {
          "output_type": "execute_result",
          "data": {
            "text/plain": [
              "True"
            ]
          },
          "metadata": {},
          "execution_count": 16
        }
      ]
    },
    {
      "cell_type": "code",
      "source": [
        "from gensim.utils import simple_preprocess\n",
        "from nltk import sent_tokenize\n"
      ],
      "metadata": {
        "id": "5coMvsuZJUVr"
      },
      "execution_count": 17,
      "outputs": []
    },
    {
      "cell_type": "code",
      "source": [
        "sentences = sent_tokenize(corpus)"
      ],
      "metadata": {
        "id": "PbgOTY-4NXru"
      },
      "execution_count": 18,
      "outputs": []
    },
    {
      "cell_type": "code",
      "source": [
        "listi = []\n",
        "for xyz in sentences:\n",
        "  listi.append(simple_preprocess(xyz))"
      ],
      "metadata": {
        "id": "vmOZ8GvrJgHq"
      },
      "execution_count": 19,
      "outputs": []
    },
    {
      "cell_type": "code",
      "source": [
        "listi"
      ],
      "metadata": {
        "id": "8gIkJXOINsqb",
        "outputId": "bad4044b-2190-49f7-acaf-d311294923fd",
        "colab": {
          "base_uri": "https://localhost:8080/"
        }
      },
      "execution_count": 20,
      "outputs": [
        {
          "output_type": "execute_result",
          "data": {
            "text/plain": [
              "[['the', 'quick', 'brown', 'fox', 'jumps', 'over', 'the', 'lazy', 'dog'],\n",
              " ['the', 'cat', 'sat', 'on', 'the', 'mat'],\n",
              " ['the', 'dog', 'chased', 'the', 'cat'],\n",
              " ['the', 'man', 'ran', 'away', 'from', 'the', 'bear'],\n",
              " ['the', 'woman', 'cooked', 'dinner'],\n",
              " ['the', 'children', 'played', 'in', 'the', 'park'],\n",
              " ['the', 'sun', 'is', 'shining'],\n",
              " ['the', 'birds', 'are', 'singing'],\n",
              " ['the', 'flowers', 'are', 'blooming'],\n",
              " ['the', 'car', 'drove', 'down', 'the', 'street'],\n",
              " ['the', 'train', 'sped', 'through', 'the', 'tunnel'],\n",
              " ['the', 'plane', 'flew', 'overhead'],\n",
              " ['the', 'boat', 'sailed', 'across', 'the', 'ocean'],\n",
              " ['the', 'ship', 'docked', 'at', 'the', 'pier'],\n",
              " ['the', 'bus', 'stopped', 'at', 'the', 'curb'],\n",
              " ['the', 'taxi', 'pulled', 'up', 'to', 'the', 'curb'],\n",
              " ['the', 'bicycle', 'rode', 'down', 'the', 'street'],\n",
              " ['the', 'motorcycle', 'sped', 'down', 'the', 'street'],\n",
              " ['the', 'house', 'was', 'made', 'of', 'bricks'],\n",
              " ['the', 'building', 'was', 'made', 'of', 'concrete'],\n",
              " ['the', 'bridge', 'was', 'made', 'of', 'steel'],\n",
              " ['the', 'road', 'was', 'made', 'of', 'asphalt'],\n",
              " ['the', 'sidewalk', 'was', 'made', 'of', 'concrete'],\n",
              " ['the', 'fence', 'was', 'made', 'of', 'wood'],\n",
              " ['the', 'gate', 'was', 'made', 'of', 'metal'],\n",
              " ['the', 'door', 'was', 'made', 'of', 'wood'],\n",
              " ['the', 'window', 'was', 'made', 'of', 'glass'],\n",
              " ['the', 'man', 'was', 'tall', 'and', 'handsome'],\n",
              " ['the', 'woman', 'was', 'beautiful', 'and', 'elegant'],\n",
              " ['the', 'child', 'was', 'young', 'and', 'innocent'],\n",
              " ['the', 'baby', 'was', 'cute', 'and', 'cuddly'],\n",
              " ['the', 'dog', 'was', 'friendly', 'and', 'playful'],\n",
              " ['the', 'cat', 'was', 'independent', 'and', 'curious'],\n",
              " ['the', 'bird', 'was', 'chirpy', 'and', 'cheerful'],\n",
              " ['the', 'fish', 'was', 'colorful', 'and', 'graceful'],\n",
              " ['the', 'frog', 'was', 'green', 'and', 'slimy'],\n",
              " ['the', 'book', 'was', 'interesting', 'and', 'informative'],\n",
              " ['the', 'magazine', 'was', 'informative', 'and', 'entertaining'],\n",
              " ['the', 'newspaper', 'was', 'informative', 'and', 'timely'],\n",
              " ['the', 'letter', 'was', 'personal', 'and', 'heartfelt'],\n",
              " ['the', 'email', 'was', 'quick', 'and', 'easy'],\n",
              " ['the', 'text', 'message', 'was', 'short', 'and', 'sweet'],\n",
              " ['the', 'phone', 'call', 'was', 'brief', 'and', 'to', 'the', 'point'],\n",
              " ['the', 'meeting', 'was', 'long', 'and', 'boring'],\n",
              " ['the', 'lecture', 'was', 'dry', 'and', 'uninteresting'],\n",
              " ['the', 'food', 'was', 'delicious', 'and', 'satisfying'],\n",
              " ['the', 'drink', 'was', 'refreshing', 'and', 'invigorating'],\n",
              " ['the', 'music', 'was', 'soothing', 'and', 'calming'],\n",
              " ['the', 'art', 'was', 'beautiful', 'and', 'inspiring'],\n",
              " ['the', 'dance', 'was', 'graceful', 'and', 'elegant'],\n",
              " ['the', 'play', 'was', 'funny', 'and', 'entertaining'],\n",
              " ['the', 'movie', 'was', 'exciting', 'and', 'suspenseful'],\n",
              " ['the', 'book', 'was', 'heartwarming', 'and', 'touching'],\n",
              " ['the', 'poem', 'was', 'beautiful', 'and', 'lyrical'],\n",
              " ['the', 'day', 'was', 'sunny', 'and', 'warm'],\n",
              " ['the', 'night', 'was', 'dark', 'and', 'cool'],\n",
              " ['the', 'morning', 'was', 'fresh', 'and', 'new'],\n",
              " ['the', 'evening', 'was', 'calm', 'and', 'peaceful'],\n",
              " ['the', 'spring', 'was', 'full', 'of', 'life', 'and', 'energy'],\n",
              " ['the', 'summer', 'was', 'hot', 'and', 'humid'],\n",
              " ['the', 'fall', 'was', 'colorful', 'and', 'beautiful'],\n",
              " ['the', 'winter', 'was', 'cold', 'and', 'snowy'],\n",
              " ['the', 'world', 'is', 'beautiful', 'place'],\n",
              " ['life', 'is', 'precious', 'gift'],\n",
              " ['love', 'is', 'the', 'most', 'powerful', 'force', 'in', 'the', 'universe'],\n",
              " ['hope',\n",
              "  'is',\n",
              "  'the',\n",
              "  'light',\n",
              "  'that',\n",
              "  'guides',\n",
              "  'us',\n",
              "  'through',\n",
              "  'the',\n",
              "  'darkness'],\n",
              " ['peace', 'is', 'the', 'goal', 'we', 'all', 'strive', 'for'],\n",
              " ['happiness', 'is', 'the', 'ultimate', 'destination']]"
            ]
          },
          "metadata": {},
          "execution_count": 20
        }
      ]
    },
    {
      "cell_type": "code",
      "source": [
        "model = Word2Vec(\n",
        "    window = 13, vector_size=30, min_count=2\n",
        ")\n"
      ],
      "metadata": {
        "id": "xXPZ3K1VKYAJ"
      },
      "execution_count": 33,
      "outputs": []
    },
    {
      "cell_type": "code",
      "source": [
        "model.build_vocab(listi)"
      ],
      "metadata": {
        "id": "lnSPZQsJKkIG"
      },
      "execution_count": 34,
      "outputs": []
    },
    {
      "cell_type": "code",
      "source": [
        "model.train(listi, total_examples=model.corpus_count, epochs=50)\n"
      ],
      "metadata": {
        "id": "3vMOQPd-Kudg",
        "outputId": "a07e661e-ff7b-403d-fc8d-c534e8e37655",
        "colab": {
          "base_uri": "https://localhost:8080/"
        }
      },
      "execution_count": 35,
      "outputs": [
        {
          "output_type": "execute_result",
          "data": {
            "text/plain": [
              "(1961, 20650)"
            ]
          },
          "metadata": {},
          "execution_count": 35
        }
      ]
    },
    {
      "cell_type": "code",
      "source": [
        "model.wv['beautiful']"
      ],
      "metadata": {
        "id": "9AVL5RyPLB7A",
        "outputId": "45717585-1521-4a35-d3de-149dd8852015",
        "colab": {
          "base_uri": "https://localhost:8080/"
        }
      },
      "execution_count": 37,
      "outputs": [
        {
          "output_type": "execute_result",
          "data": {
            "text/plain": [
              "array([-0.03645   ,  0.011222  ,  0.02750034, -0.02243587,  0.00277249,\n",
              "       -0.00837852,  0.00268908, -0.02868713,  0.00188488, -0.01803018,\n",
              "        0.0083087 , -0.00428907,  0.00502406, -0.02590099, -0.00798396,\n",
              "        0.00686895,  0.02101745, -0.00618059, -0.03800862,  0.01037435,\n",
              "        0.00472013,  0.01087322, -0.01933724,  0.00147899,  0.03189373,\n",
              "        0.02798039, -0.00492968,  0.01377809, -0.03365567,  0.01653188],\n",
              "      dtype=float32)"
            ]
          },
          "metadata": {},
          "execution_count": 37
        }
      ]
    },
    {
      "cell_type": "code",
      "source": [
        "print(model.wv.similarity('dog', 'cat'))\n",
        "model.wv.most_similar('beautiful')"
      ],
      "metadata": {
        "id": "Hd45nAAQLGfQ",
        "outputId": "8979f7c1-1e83-4a29-fe47-0645a6371c64",
        "colab": {
          "base_uri": "https://localhost:8080/"
        }
      },
      "execution_count": 42,
      "outputs": [
        {
          "output_type": "stream",
          "name": "stdout",
          "text": [
            "-0.055172786\n"
          ]
        },
        {
          "output_type": "execute_result",
          "data": {
            "text/plain": [
              "[('was', 0.44847461581230164),\n",
              " ('quick', 0.39073145389556885),\n",
              " ('curb', 0.3827575445175171),\n",
              " ('street', 0.2954463064670563),\n",
              " ('the', 0.2718878388404846),\n",
              " ('of', 0.241709902882576),\n",
              " ('dog', 0.24002104997634888),\n",
              " ('down', 0.22095707058906555),\n",
              " ('and', 0.21865689754486084),\n",
              " ('in', 0.21316128969192505)]"
            ]
          },
          "metadata": {},
          "execution_count": 42
        }
      ]
    },
    {
      "cell_type": "markdown",
      "source": [
        "practical svd"
      ],
      "metadata": {
        "id": "ELHvruGfPwt-"
      }
    },
    {
      "cell_type": "markdown",
      "source": [],
      "metadata": {
        "id": "46wub7vJPwqM"
      }
    },
    {
      "cell_type": "code",
      "source": [],
      "metadata": {
        "id": "_p9IUHcILwBc"
      },
      "execution_count": null,
      "outputs": []
    }
  ],
  "metadata": {
    "kernelspec": {
      "display_name": "Python 3",
      "language": "python",
      "name": "python3"
    },
    "language_info": {
      "codemirror_mode": {
        "name": "ipython",
        "version": 3
      },
      "file_extension": ".py",
      "mimetype": "text/x-python",
      "name": "python",
      "nbconvert_exporter": "python",
      "pygments_lexer": "ipython3",
      "version": "3.10.5"
    },
    "orig_nbformat": 4,
    "colab": {
      "provenance": []
    }
  },
  "nbformat": 4,
  "nbformat_minor": 0
}