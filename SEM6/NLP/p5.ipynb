{
 "cells": [
  {
   "attachments": {},
   "cell_type": "markdown",
   "metadata": {},
   "source": [
    "# Practical 5\n",
    "1. Implementation of hidden markov models\n",
    "2. Compute till steady state\n",
    "3. Compute probability of a given state sequence"
   ]
  },
  {
   "cell_type": "code",
   "execution_count": 1,
   "metadata": {},
   "outputs": [
    {
     "data": {
      "text/plain": [
       "array([0.325, 0.275, 0.225, 0.175])"
      ]
     },
     "execution_count": 1,
     "metadata": {},
     "output_type": "execute_result"
    }
   ],
   "source": [
    "# task 1\n",
    "# implement markov model\n",
    "import numpy as np\n",
    "state = np.array([0,1,2,3])\n",
    "# state transition matrix\n",
    "A = np.array([[0.5,0.2,0.2,0.1],\n",
    "              [0.3,0.5,0.1,0.1],\n",
    "              [0.2,0.3,0.3,0.2],\n",
    "              [0.3,0.1,0.3,0.3]])\n",
    "\n",
    "pie0 = np.array([0.25,0.25,0.25,0.25])\n",
    "\n",
    "def calcu_pie(pie0, A, n):\n",
    "    pie = pie0\n",
    "    for i in range(n):\n",
    "        pie = pie.dot(A)\n",
    "    return pie\n",
    "\n",
    "pie1 = calcu_pie(pie0, A, 1)\n",
    "\n",
    "pie1"
   ]
  },
  {
   "attachments": {},
   "cell_type": "markdown",
   "metadata": {},
   "source": [
    "# task 2"
   ]
  },
  {
   "cell_type": "code",
   "execution_count": 8,
   "metadata": {},
   "outputs": [
    {
     "data": {
      "text/plain": [
       "array([0.27272572, 0.40909343, 0.31818086])"
      ]
     },
     "execution_count": 8,
     "metadata": {},
     "output_type": "execute_result"
    }
   ],
   "source": [
    "# calculate till convergence or steady state\n",
    "def calcu_pie_steady(pie0, A, n):\n",
    "    pie = pie0\n",
    "    for i in range(n):\n",
    "        # print(i)\n",
    "        pie = pie.dot(A)\n",
    "        if np.allclose(pie, pie0):\n",
    "            break\n",
    "        pie0 = pie\n",
    "    return pie\n",
    "\n",
    "pie0 = np.array([0,1,0])\n",
    "A = [[0.5, 0.1, 0.4],[0.1, 0.7, 0.2],[0.3, 0.3, 0.4]]\n",
    "A = np.array(A)\n",
    "pie2 = calcu_pie_steady(pie0, A, 100)\n",
    " \n",
    "pie2"
   ]
  },
  {
   "cell_type": "code",
   "execution_count": 14,
   "metadata": {},
   "outputs": [
    {
     "data": {
      "text/plain": [
       "0.0020000000000000005"
      ]
     },
     "execution_count": 14,
     "metadata": {},
     "output_type": "execute_result"
    }
   ],
   "source": [
    "# compute probablity of given state sequence\n",
    "state_seq = [0, 2, 3, 1, 1]\n",
    "def get_prob(state_seq, A):\n",
    "    if(len(state_seq) == 1):\n",
    "        return 1\n",
    "    else:\n",
    "        prob = 1\n",
    "        for i in range(len(state_seq)-1):\n",
    "            prob = prob * A[state_seq[i], state_seq[i+1]]\n",
    "        return prob\n",
    "\n",
    "get_prob(state_seq, A)"
   ]
  },
  {
   "attachments": {},
   "cell_type": "markdown",
   "metadata": {},
   "source": [
    "# Viterbi algorithm"
   ]
  },
  {
   "cell_type": "code",
   "execution_count": 7,
   "metadata": {},
   "outputs": [
    {
     "data": {
      "text/plain": [
       "array([0., 0., 0., 0.])"
      ]
     },
     "execution_count": 7,
     "metadata": {},
     "output_type": "execute_result"
    }
   ],
   "source": [
    "# implement viterbi algorithm\n",
    "# state transition matrix\n",
    "# A = np.array([[0.5,0.2,0.2,0.1],\n",
    "#                 [0.3,0.5,0.1,0.1],\n",
    "#                 [0.2,0.3,0.3,0.2],\n",
    "#                 [0.3,0.1,0.3,0.3]])\n",
    "# # observation matrix\n",
    "# B = np.array([[0.5,0.5],\n",
    "#                 [0.4,0.6],\n",
    "#                 [0.7,0.3],\n",
    "#                 [0.2,0.8]])\n",
    "# # initial state distribution\n",
    "# pie0 = np.array([0.25,0.25,0.25,0.25])\n",
    "# # observation sequence\n",
    "# obs_seq = [0, 1, 0, 1, 0, 1, 0, 1, 0, 1]\n",
    " \n",
    "def viterbi(obs_seq, A, B, pie0):\n",
    "    T = len(obs_seq)\n",
    "    N = len(A)\n",
    "    delta = np.zeros((N, T))\n",
    "    phi = np.zeros((N, T))\n",
    "    delta[:,0] = pie0 * B[:, obs_seq[0]]\n",
    "    for t in range(1, T):\n",
    "        for j in range(N):\n",
    "            delta[j, t] = np.max(delta[:, t-1] * A[:, j]) * B[j, obs_seq[t]]\n",
    "            phi[j, t] = np.argmax(delta[:, t-1] * A[:, j])\n",
    "    q = np.zeros(T)\n",
    "    q[T-1] = np.argmax(delta[:, T-1])\n",
    "    for t in range(T-2, -1, -1):\n",
    "        q[t] = phi[int(q[t+1]), t+1]\n",
    "    return q\n",
    "\n",
    "viterbi(obs_seq, A, B, pi)\n"
   ]
  },
  {
   "attachments": {},
   "cell_type": "markdown",
   "metadata": {},
   "source": [
    "# Forward Algorithm"
   ]
  },
  {
   "cell_type": "code",
   "execution_count": 5,
   "metadata": {},
   "outputs": [
    {
     "data": {
      "text/plain": [
       "array([[0.24     , 0.024    , 0.00816  , 0.0028512],\n",
       "       [0.12     , 0.054    , 0.00744  , 0.0003048]])"
      ]
     },
     "execution_count": 5,
     "metadata": {},
     "output_type": "execute_result"
    }
   ],
   "source": [
    "import numpy as np\n",
    "# implement forward algorithm for HMM\n",
    "# state transition matrix\n",
    "pi = np.array([0.6, 0.4])\n",
    "A = [[0.8, 0.2], [0.4, 0.6]]\n",
    "B = [[0.4, 0.1, 0.2, 0.3], [0.3, 0.45, 0.2, 0.05]]\n",
    "A = np.array(A)\n",
    "B = np.array(B)\n",
    "states = ['Paint', 'Clean', 'Shop', 'Bike']\n",
    "obs_seq=[0, 1, 2, 3]\n",
    "# calculate for aplha 1\n",
    "\n",
    "def forward(obs_seq, A, B, pi):\n",
    "    T = len(obs_seq)\n",
    "    N = len(A)\n",
    "    alpha = np.zeros((N, T))\n",
    "    alpha[:,0] = pi * B[:, obs_seq[0]]\n",
    "    for t in range(1, T):\n",
    "        for j in range(N):\n",
    "            alpha[j, t] = np.sum(alpha[:, t-1] * A[:, j]) * B[j, obs_seq[t]]\n",
    "    return alpha\n",
    "\n",
    "alpha = forward(obs_seq, A, B, pi)\n",
    "alpha"
   ]
  }
 ],
 "metadata": {
  "kernelspec": {
   "display_name": "Python 3",
   "language": "python",
   "name": "python3"
  },
  "language_info": {
   "codemirror_mode": {
    "name": "ipython",
    "version": 3
   },
   "file_extension": ".py",
   "mimetype": "text/x-python",
   "name": "python",
   "nbconvert_exporter": "python",
   "pygments_lexer": "ipython3",
   "version": "3.10.5"
  },
  "orig_nbformat": 4
 },
 "nbformat": 4,
 "nbformat_minor": 2
}
