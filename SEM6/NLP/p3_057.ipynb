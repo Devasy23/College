{
 "cells": [
  {
   "attachments": {},
   "cell_type": "markdown",
   "metadata": {},
   "source": [
    "Practical 6\n",
    "\n",
    "Text classification using NN of text corpus\n",
    "\n",
    "Input\n",
    "Text corpus (It can be a collection of text documents or a set of tweets or emails)\n",
    "\n",
    "Output\n",
    "Prediction.\n",
    "\n",
    "Process\n",
    "Collect or construct a text corpus.\n",
    "Identify appropriate task on the corpus. (Some possible examples are given at the end of this manual)\n",
    "Preprocess the text data and represent them in suitable form so as to feed to the ML model.\n",
    "Determine the architecture of ANN for the selected task.\n",
    "Train the neural model on the dataset and predict the class.\n",
    "Note: As this is a classification task, your training data should be labeled.\n"
   ]
  },
  {
   "cell_type": "code",
   "execution_count": null,
   "metadata": {},
   "outputs": [],
   "source": []
  },
  {
   "cell_type": "code",
   "execution_count": 21,
   "metadata": {},
   "outputs": [],
   "source": [
    "import pandas as pd\n",
    "import numpy as np\n",
    "import re\n",
    "import nltk\n",
    "from nltk.corpus import stopwords\n",
    "from sklearn.feature_extraction.text import CountVectorizer\n",
    "from sklearn.model_selection import train_test_split\n",
    "from keras.models import Sequential\n",
    "from keras.layers import Dense\n",
    "\n",
    "# Load the dataset\n",
    "df = pd.read_csv('train.csv')\n",
    "test = pd.read_csv('test.csv')\n",
    "# Preprocessing\n",
    "# nltk.download('stopwords')\n",
    "stop_words = stopwords.words('english')\n",
    "\n",
    "def preprocess_text(text):\n",
    "    if text is np.nan:\n",
    "        return ''\n",
    "    text = re.sub('[^a-zA-Z]', ' ', text)  # remove non-alphabetic characters\n",
    "    text = text.lower()  # convert to lowercase\n",
    "    text = text.split()  # split into words\n",
    "    text = [word for word in text if not word in stop_words]  # remove stop words\n",
    "    text = ' '.join(text)  # join words into text\n",
    "    return text\n",
    "\n",
    "df['text'] = df['text'].apply(preprocess_text)\n",
    "df['Location'] = df['Location'].apply(preprocess_text)\n",
    "test['text'] = test['text'].apply(preprocess_text)\n",
    "test['Location'] = test['Location'].apply(preprocess_text)\n",
    "\n",
    "# Represent the text data\n",
    "df['mix'] = df['text'] + df['TweetAt'] + df['Location']\n",
    "test['mix'] = test['text'] + test['TweetAt'] + test['Location']\n",
    "cv = CountVectorizer(max_features=5000, ngram_range=(1, 3), stop_words=stop_words, max_df=0.8, min_df=2)\n",
    "X = cv.fit_transform(df['mix']).toarray()\n",
    "x_test = cv.transform(test['mix']).toarray()\n"
   ]
  },
  {
   "cell_type": "code",
   "execution_count": 22,
   "metadata": {},
   "outputs": [
    {
     "data": {
      "text/plain": [
       "array([[1, 0, 0, ..., 0, 0, 0],\n",
       "       [1, 0, 0, ..., 0, 0, 0],\n",
       "       [1, 0, 0, ..., 0, 0, 0],\n",
       "       ...,\n",
       "       [0, 0, 0, ..., 0, 0, 0],\n",
       "       [0, 0, 0, ..., 0, 0, 0],\n",
       "       [0, 0, 0, ..., 0, 0, 0]], dtype=int64)"
      ]
     },
     "execution_count": 22,
     "metadata": {},
     "output_type": "execute_result"
    }
   ],
   "source": [
    "X"
   ]
  },
  {
   "cell_type": "code",
   "execution_count": 23,
   "metadata": {},
   "outputs": [],
   "source": [
    "# y one hot encoding\n",
    "y = pd.get_dummies(df['Sentiment']).values\n",
    "y_test = pd.get_dummies(test['Sentiment']).values"
   ]
  },
  {
   "cell_type": "code",
   "execution_count": 24,
   "metadata": {},
   "outputs": [
    {
     "name": "stdout",
     "output_type": "stream",
     "text": [
      "Epoch 1/5\n",
      "412/412 [==============================] - 22s 50ms/step - loss: 0.4054 - accuracy: 0.4860\n",
      "Epoch 2/5\n",
      "412/412 [==============================] - 20s 49ms/step - loss: 0.2941 - accuracy: 0.6872\n",
      "Epoch 3/5\n",
      "412/412 [==============================] - 20s 48ms/step - loss: 0.2052 - accuracy: 0.8016\n",
      "Epoch 4/5\n",
      "412/412 [==============================] - 21s 50ms/step - loss: 0.1302 - accuracy: 0.8822\n",
      "Epoch 5/5\n",
      "412/412 [==============================] - 20s 48ms/step - loss: 0.0822 - accuracy: 0.9275\n",
      "119/119 [==============================] - 2s 13ms/step - loss: 0.5837 - accuracy: 0.5793\n",
      "Test Accuracy: 0.5792522430419922\n"
     ]
    }
   ],
   "source": [
    "# y = df['Sentiment'].values\n",
    "\n",
    "from keras.layers import Dropout\n",
    "from keras.regularizers import l2\n",
    "# import early stopping\n",
    "from keras.callbacks import EarlyStopping\n",
    " \n",
    "\n",
    "\n",
    "# Split the data into training and testing sets\n",
    "# X_train, X_test, y_train, y_test = train_test_split(X, y, test_size=0.2)\n",
    " \n",
    " \n",
    "# Build the neural network\n",
    "model = Sequential()\n",
    "model.add(Dense(units=1000, activation='relu', input_dim=5000))\n",
    "# add dropout to prevent overfitting\n",
    "model.add(Dropout(0.3))\n",
    "model.add(Dense(units=700, activation='relu'))\n",
    "model.add(Dropout(0.3))\n",
    "model.add(Dense(units=400, activation='relu'))\n",
    "model.add(Dropout(0.3))\n",
    "model.add(Dense(units=100, activation='relu'))\n",
    "model.add(Dropout(0.3))\n",
    "model.add(Dense(units=5, activation='sigmoid'))\n",
    "model.compile(loss='binary_crossentropy', optimizer='adam', metrics=['accuracy'])\n",
    "\n",
    "# Train the model\n",
    "history = model.fit(X, y, epochs=5, batch_size=100,  callbacks=[EarlyStopping(monitor='loss', patience=2, verbose=0, mode='auto')])\n",
    "\n",
    "# Evaluate the model\n",
    "loss, accuracy = model.evaluate(x_test, y_test)\n",
    "print('Test Accuracy:', accuracy)"
   ]
  },
  {
   "cell_type": "code",
   "execution_count": 20,
   "metadata": {},
   "outputs": [
    {
     "data": {
      "image/png": "[encoded data removed]",
      "text/plain": [
       "<Figure size 432x288 with 2 Axes>"
      ]
     },
     "metadata": {
      "needs_background": "light"
     },
     "output_type": "display_data"
    }
   ],
   "source": [
    "# plot the loss and accuracy curves for training and validation\n",
    "# history_dict = history.history\n",
    "import matplotlib.pyplot as plt\n",
    "fig, ax = plt.subplots(2,1)\n",
    "ax[0].plot(history.history['loss'], color='b', label=\"Training loss\")\n",
    "ax[0].plot(history.history['loss'], color='r', label=\"validation loss\",axes =ax[0])\n",
    "legend = ax[0].legend(loc='best', shadow=True)\n",
    "\n",
    "ax[1].plot(history.history['accuracy'], color='b', label=\"Training accuracy\")\n",
    "ax[1].plot(history.history['accuracy'], color='r',label=\"Validation accuracy\")\n",
    "legend = ax[1].legend(loc='best', shadow=True)\n",
    " \n",
    "plt.show()\n",
    "# history_dict.keys()"
   ]
  },
  {
   "cell_type": "code",
   "execution_count": 17,
   "metadata": {},
   "outputs": [
    {
     "name": "stdout",
     "output_type": "stream",
     "text": [
      "119/119 [==============================] - 0s 2ms/step\n"
     ]
    }
   ],
   "source": [
    "test = pd.read_csv('test.csv')\n",
    "test['text'] = test['text'].apply(preprocess_text)\n",
    "X_test = cv.transform(test['text']).toarray()\n",
    "y_pred = model.predict(X_test)\n",
    "y_pred = np.argmax(y_pred, axis=1)\n",
    "y_pred = pd.DataFrame(y_pred, columns=['Sentiment'])\n",
    "y_pred['Sentiment'] = y_pred['Sentiment'].replace({0: 'Extremely Negative', 1: 'Negative', 2: 'Neutral', 3: 'Positive', 4: 'Extremely Positive'})\n",
    "y_pred.to_csv('submission.csv', index=False)\n",
    " "
   ]
  }
 ],
 "metadata": {
  "kernelspec": {
   "display_name": "Python 3",
   "language": "python",
   "name": "python3"
  },
  "language_info": {
   "codemirror_mode": {
    "name": "ipython",
    "version": 3
   },
   "file_extension": ".py",
   "mimetype": "text/x-python",
   "name": "python",
   "nbconvert_exporter": "python",
   "pygments_lexer": "ipython3",
   "version": "3.10.5"
  },
  "orig_nbformat": 4,
  "vscode": {
   "interpreter": {
    "hash": "c2ed1c1e3dda2d1d09010f3df351d528d97a393444344645f0fddd23da56b409"
   }
  }
 },
 "nbformat": 4,
 "nbformat_minor": 2
}
