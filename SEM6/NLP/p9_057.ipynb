{
 "cells": [
  {
   "attachments": {},
   "cell_type": "markdown",
   "metadata": {},
   "source": [
    "# Practical 9\n",
    "\n",
    "## Implement an audio analysis and audio classification task on any of the datasets given from the below link: https://towardsdatascience.com/40-open-source-audio-datasets-for-ml-59dc39d48f06\n",
    "\n",
    "# Tasks\n",
    "\n",
    "Load dataset.\n",
    "Process each audio file and extract features from it (Use PyAudioAnalysis) or represent them in form of spectrograms (Use Librosa library).\n",
    "Display spectrograms.\n",
    "Perform ML or DL based classification depending on the task."
   ]
  },
  {
   "cell_type": "code",
   "execution_count": null,
   "metadata": {},
   "outputs": [],
   "source": [
    "# Practical 9\n",
    "\n",
    "# Implement an audio analysis and audio classification task on any of the datasets given from the below link: https://towardsdatascience.com/40-open-source-audio-datasets-for-ml-59dc39d48f06\n",
    "\n",
    "# Tasks\n",
    "\n",
    "# Load dataset.\n",
    "# Process each audio file and extract features from it (Use PyAudioAnalysis) or represent them in form of spectrograms (Use Librosa library).\n",
    "# Display spectrograms.\n",
    "# Perform ML or DL based classification depending on the task.\n",
    "\n",
    "\n",
    "import os\n",
    "import librosa\n",
    "import librosa.display\n",
    "import numpy as np\n",
    "\n",
    "import matplotlib.pyplot as plt\n",
    "import tensorflow as tf\n",
    "\n",
    "from tensorflow.keras import layers\n",
    "from tensorflow.keras import models\n",
    "from tensorflow.keras import optimizers\n",
    "from tensorflow.keras import losses\n",
    "from tensorflow.keras import metrics\n",
    "from tensorflow.keras import regularizers\n",
    "\n",
    "from sklearn.model_selection import train_test_split\n",
    "from sklearn.preprocessing import LabelEncoder\n",
    "\n",
    "# use MNIST dataset in voice\n",
    "# https://www.kaggle.com/primaryobjects/voicegender\n",
    "\n",
    "# download dataset\n",
    "# from https://github.com/soerenab/AudioMNIST\n",
    "\n",
    "\n"
   ]
  }
 ],
 "metadata": {
  "language_info": {
   "name": "python"
  },
  "orig_nbformat": 4
 },
 "nbformat": 4,
 "nbformat_minor": 2
}
