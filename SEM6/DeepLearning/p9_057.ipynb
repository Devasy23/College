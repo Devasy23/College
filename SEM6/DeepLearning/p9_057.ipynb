{
 "cells": [
  {
   "cell_type": "markdown",
   "metadata": {},
   "source": [
    "For this Experiment We Will Used the IMDB movie review dataset which is given in the keras"
   ]
  },
  {
   "cell_type": "code",
   "execution_count": 1,
   "metadata": {
    "execution": {
     "iopub.execute_input": "2023-05-04T11:36:28.026547Z",
     "iopub.status.busy": "2023-05-04T11:36:28.026199Z",
     "iopub.status.idle": "2023-05-04T11:36:34.102394Z",
     "shell.execute_reply": "2023-05-04T11:36:34.101134Z",
     "shell.execute_reply.started": "2023-05-04T11:36:28.026497Z"
    }
   },
   "outputs": [],
   "source": [
    "from keras.datasets import imdb"
   ]
  },
  {
   "cell_type": "code",
   "execution_count": 2,
   "metadata": {
    "execution": {
     "iopub.execute_input": "2023-05-04T11:36:41.364147Z",
     "iopub.status.busy": "2023-05-04T11:36:41.363504Z",
     "iopub.status.idle": "2023-05-04T11:36:45.631222Z",
     "shell.execute_reply": "2023-05-04T11:36:45.630410Z",
     "shell.execute_reply.started": "2023-05-04T11:36:41.364112Z"
    }
   },
   "outputs": [
    {
     "name": "stdout",
     "output_type": "stream",
     "text": [
      "Downloading data from https://storage.googleapis.com/tensorflow/tf-keras-datasets/imdb.npz\n",
      "17464789/17464789 [==============================] - 2s 0us/step\n",
      "Loaded dataset with 25000 training samples, 25000 test samples\n"
     ]
    }
   ],
   "source": [
    "vocabulary_size = 1000\n",
    "\n",
    "(Xtrain, ytrain), (Xtest, ytest) = imdb.load_data(num_words = vocabulary_size)\n",
    "print('Loaded dataset with {} training samples, {} test samples'.format(len(Xtrain), len(Xtest)))"
   ]
  },
  {
   "cell_type": "code",
   "execution_count": 3,
   "metadata": {
    "execution": {
     "iopub.execute_input": "2023-05-04T11:36:56.463982Z",
     "iopub.status.busy": "2023-05-04T11:36:56.463642Z",
     "iopub.status.idle": "2023-05-04T11:36:56.615636Z",
     "shell.execute_reply": "2023-05-04T11:36:56.614528Z",
     "shell.execute_reply.started": "2023-05-04T11:36:56.463953Z"
    }
   },
   "outputs": [
    {
     "name": "stdout",
     "output_type": "stream",
     "text": [
      "Downloading data from https://storage.googleapis.com/tensorflow/tf-keras-datasets/imdb_word_index.json\n",
      "1641221/1641221 [==============================] - 0s 0us/step\n",
      "****** review with words ******\n",
      "['the', 'and', 'full', 'and', 'to', 'and', 'boring', 'this', 'as', 'and', 'and', 'br', 'and', 'and', 'and', 'need', 'has', 'of', 'and', 'b', 'message', 'to', 'may', 'of', 'and', 'this', 'and', 'and', 'and', 'and', 'and', 'to', 'and', 'he', 'is', 'and', 'and', 'movie', 'women', 'like', \"isn't\", 'and', \"i'm\", 'and', 'to', 'and', 'in', 'and', 'for', 'from', 'did', 'having', 'because', 'very', 'quality', 'it', 'is', 'and', 'and', 'really', 'book', 'is', 'both', 'too', 'worked', 'and', 'of', 'and', 'br', 'of', 'and', 'and', 'figure', 'really', 'there', 'will', 'and', 'things', 'is', 'far', 'this', 'make', 'and', 'and', 'was', \"couldn't\", 'of', 'few', 'br', 'of', 'you', 'to', \"don't\", 'female', 'than', 'place', 'she', 'to', 'was', 'between', 'that', 'nothing', 'and', 'movies', 'get', 'are', 'and', 'br', 'yes', 'female', 'just', 'its', 'because', 'many', 'br', 'of', 'and', 'to', 'and', 'people', 'time', 'very', 'and']\n",
      "****** label ******\n",
      "1\n"
     ]
    }
   ],
   "source": [
    "word2id = imdb.get_word_index()\n",
    "id2word = {i: word for word, i in word2id.items()}\n",
    "print('****** review with words ******')\n",
    "print([id2word.get(i, ' ') for i in Xtrain[6]])\n",
    "print('****** label ******')\n",
    "print(ytrain[6])"
   ]
  },
  {
   "cell_type": "code",
   "execution_count": 4,
   "metadata": {
    "execution": {
     "iopub.execute_input": "2023-05-04T11:37:04.364488Z",
     "iopub.status.busy": "2023-05-04T11:37:04.364138Z",
     "iopub.status.idle": "2023-05-04T11:37:04.604851Z",
     "shell.execute_reply": "2023-05-04T11:37:04.603840Z",
     "shell.execute_reply.started": "2023-05-04T11:37:04.364461Z"
    }
   },
   "outputs": [
    {
     "name": "stdout",
     "output_type": "stream",
     "text": [
      "Maximum review length: 2697\n"
     ]
    }
   ],
   "source": [
    "print('Maximum review length: {}'.format(\n",
    "len(max((Xtrain + Xtest), key=len))))"
   ]
  },
  {
   "cell_type": "code",
   "execution_count": 5,
   "metadata": {
    "execution": {
     "iopub.execute_input": "2023-05-04T11:37:11.619304Z",
     "iopub.status.busy": "2023-05-04T11:37:11.618570Z",
     "iopub.status.idle": "2023-05-04T11:37:11.809545Z",
     "shell.execute_reply": "2023-05-04T11:37:11.808563Z",
     "shell.execute_reply.started": "2023-05-04T11:37:11.619274Z"
    }
   },
   "outputs": [
    {
     "name": "stdout",
     "output_type": "stream",
     "text": [
      "Minimum review length: 14\n"
     ]
    }
   ],
   "source": [
    "print('Minimum review length: {}'.format(\n",
    "len(min((Xtest + Xtest), key=len))))"
   ]
  },
  {
   "cell_type": "code",
   "execution_count": 6,
   "metadata": {
    "execution": {
     "iopub.execute_input": "2023-05-04T11:37:19.738033Z",
     "iopub.status.busy": "2023-05-04T11:37:19.737694Z",
     "iopub.status.idle": "2023-05-04T11:37:20.720393Z",
     "shell.execute_reply": "2023-05-04T11:37:20.719402Z",
     "shell.execute_reply.started": "2023-05-04T11:37:19.738006Z"
    }
   },
   "outputs": [],
   "source": [
    "from tensorflow.keras.preprocessing import sequence\n",
    "\n",
    "max_words = 2697\n",
    "Xtrain = sequence.pad_sequences(Xtrain, maxlen=max_words)\n",
    "Xtest = sequence.pad_sequences(Xtest, maxlen=max_words)"
   ]
  },
  {
   "cell_type": "code",
   "execution_count": 7,
   "metadata": {
    "execution": {
     "iopub.execute_input": "2023-05-04T11:37:27.534437Z",
     "iopub.status.busy": "2023-05-04T11:37:27.533476Z",
     "iopub.status.idle": "2023-05-04T11:37:30.187176Z",
     "shell.execute_reply": "2023-05-04T11:37:30.186438Z",
     "shell.execute_reply.started": "2023-05-04T11:37:27.534395Z"
    }
   },
   "outputs": [
    {
     "name": "stdout",
     "output_type": "stream",
     "text": [
      "Model: \"sequential\"\n",
      "_________________________________________________________________\n",
      " Layer (type)                Output Shape              Param #   \n",
      "=================================================================\n",
      " embedding (Embedding)       (None, 2697, 32)          32000     \n",
      "                                                                 \n",
      " lstm (LSTM)                 (None, 2697, 128)         82432     \n",
      "                                                                 \n",
      " dropout (Dropout)           (None, 2697, 128)         0         \n",
      "                                                                 \n",
      " lstm_1 (LSTM)               (None, 2697, 64)          49408     \n",
      "                                                                 \n",
      " dropout_1 (Dropout)         (None, 2697, 64)          0         \n",
      "                                                                 \n",
      " lstm_2 (LSTM)               (None, 32)                12416     \n",
      "                                                                 \n",
      " dense (Dense)               (None, 1)                 33        \n",
      "                                                                 \n",
      "=================================================================\n",
      "Total params: 176,289\n",
      "Trainable params: 176,289\n",
      "Non-trainable params: 0\n",
      "_________________________________________________________________\n",
      "None\n"
     ]
    }
   ],
   "source": [
    "from keras import Sequential\n",
    "from keras.layers import Embedding, LSTM, Dense, Dropout\n",
    "\n",
    "embedding_size=32\n",
    "model=Sequential()\n",
    "\n",
    "model.add(Embedding(vocabulary_size, embedding_size, input_length=max_words))\n",
    "model.add(LSTM(128, return_sequences=True))\n",
    "model.add(Dropout(0.5))\n",
    "model.add(LSTM(64, return_sequences=True))\n",
    "model.add(Dropout(0.2))\n",
    "model.add(LSTM(32))\n",
    "model.add(Dense(1, activation='sigmoid'))\n",
    "\n",
    "print(model.summary())"
   ]
  },
  {
   "cell_type": "code",
   "execution_count": 8,
   "metadata": {
    "execution": {
     "iopub.execute_input": "2023-05-04T11:37:35.148291Z",
     "iopub.status.busy": "2023-05-04T11:37:35.147655Z",
     "iopub.status.idle": "2023-05-04T11:37:35.357683Z",
     "shell.execute_reply": "2023-05-04T11:37:35.356658Z",
     "shell.execute_reply.started": "2023-05-04T11:37:35.148257Z"
    }
   },
   "outputs": [],
   "source": [
    "model.compile(loss='binary_crossentropy', optimizer='adam', metrics=['accuracy'])"
   ]
  },
  {
   "cell_type": "code",
   "execution_count": 9,
   "metadata": {},
   "outputs": [],
   "source": [
    "batch_size = 64\n",
    "num_epochs = 10"
   ]
  },
  {
   "cell_type": "code",
   "execution_count": 10,
   "metadata": {},
   "outputs": [],
   "source": [
    "from keras.callbacks import EarlyStopping\n",
    "es = EarlyStopping(monitor='val_loss', patience=3, verbose=1, restore_best_weights=True)"
   ]
  },
  {
   "cell_type": "code",
   "execution_count": 11,
   "metadata": {
    "execution": {
     "iopub.execute_input": "2023-05-04T11:37:43.338781Z",
     "iopub.status.busy": "2023-05-04T11:37:43.338417Z",
     "iopub.status.idle": "2023-05-04T11:39:28.289275Z",
     "shell.execute_reply": "2023-05-04T11:39:28.288412Z",
     "shell.execute_reply.started": "2023-05-04T11:37:43.338744Z"
    }
   },
   "outputs": [
    {
     "name": "stdout",
     "output_type": "stream",
     "text": [
      "Epoch 1/10\n"
     ]
    }
   ],
   "source": [
    "Xval, yval = Xtrain[:batch_size], ytrain[:batch_size]\n",
    "X_train2, y_train2 = Xtrain[batch_size:], ytrain[batch_size:]\n",
    "\n",
    "model.fit(X_train2, y_train2, validation_data=(Xval, yval), batch_size=batch_size, epochs=num_epochs)"
   ]
  },
  {
   "cell_type": "code",
   "execution_count": 13,
   "metadata": {
    "execution": {
     "iopub.execute_input": "2023-05-04T11:39:38.978950Z",
     "iopub.status.busy": "2023-05-04T11:39:38.978603Z",
     "iopub.status.idle": "2023-05-04T11:39:48.261146Z",
     "shell.execute_reply": "2023-05-04T11:39:48.260217Z",
     "shell.execute_reply.started": "2023-05-04T11:39:38.978921Z"
    }
   },
   "outputs": [
    {
     "name": "stdout",
     "output_type": "stream",
     "text": [
      "Test accuracy: 0.861519992351532\n"
     ]
    }
   ],
   "source": [
    "scores = model.evaluate(Xtest, ytest, verbose=0)\n",
    "print('Test accuracy:', scores[1])"
   ]
  },
  {
   "cell_type": "code",
   "execution_count": 24,
   "metadata": {
    "execution": {
     "iopub.execute_input": "2023-05-04T11:44:17.657997Z",
     "iopub.status.busy": "2023-05-04T11:44:17.657648Z",
     "iopub.status.idle": "2023-05-04T11:44:27.978552Z",
     "shell.execute_reply": "2023-05-04T11:44:27.977632Z",
     "shell.execute_reply.started": "2023-05-04T11:44:17.657967Z"
    }
   },
   "outputs": [
    {
     "name": "stdout",
     "output_type": "stream",
     "text": [
      "782/782 [==============================] - 8s 10ms/step\n"
     ]
    }
   ],
   "source": [
    "y_pred = model.predict(Xtest)"
   ]
  },
  {
   "cell_type": "code",
   "execution_count": 25,
   "metadata": {
    "execution": {
     "iopub.execute_input": "2023-05-04T11:44:35.239222Z",
     "iopub.status.busy": "2023-05-04T11:44:35.238876Z",
     "iopub.status.idle": "2023-05-04T11:44:35.247179Z",
     "shell.execute_reply": "2023-05-04T11:44:35.246242Z",
     "shell.execute_reply.started": "2023-05-04T11:44:35.239193Z"
    }
   },
   "outputs": [
    {
     "data": {
      "text/plain": [
       "array([[0.30001882],\n",
       "       [0.97547656],\n",
       "       [0.6257033 ],\n",
       "       ...,\n",
       "       [0.14876647],\n",
       "       [0.05197641],\n",
       "       [0.7804181 ]], dtype=float32)"
      ]
     },
     "execution_count": 25,
     "metadata": {},
     "output_type": "execute_result"
    }
   ],
   "source": [
    "y_pred"
   ]
  },
  {
   "cell_type": "code",
   "execution_count": null,
   "metadata": {},
   "outputs": [],
   "source": []
  }
 ],
 "metadata": {
  "kernelspec": {
   "display_name": "Python 3 (ipykernel)",
   "language": "python",
   "name": "python3"
  },
  "language_info": {
   "codemirror_mode": {
    "name": "ipython",
    "version": 3
   },
   "file_extension": ".py",
   "mimetype": "text/x-python",
   "name": "python",
   "nbconvert_exporter": "python",
   "pygments_lexer": "ipython3",
   "version": "3.10.5"
  }
 },
 "nbformat": 4,
 "nbformat_minor": 4
}
