{
 "cells": [
  {
   "cell_type": "markdown",
   "id": "8a0705f2",
   "metadata": {
    "id": "otM_RP1l1xWI",
    "papermill": {
     "duration": 0.024034,
     "end_time": "2021-11-29T13:50:24.183164",
     "exception": false,
     "start_time": "2021-11-29T13:50:24.159130",
     "status": "completed"
    },
    "tags": []
   },
   "source": [
    "# Practical Stock Price Prediction using LSTM"
   ]
  },
  {
   "cell_type": "code",
   "execution_count": 1,
   "id": "1524d277",
   "metadata": {
    "_kg_hide-input": true,
    "id": "rG29jnHE2JsP",
    "papermill": {
     "duration": 0.036026,
     "end_time": "2021-11-29T13:50:24.243716",
     "exception": false,
     "start_time": "2021-11-29T13:50:24.207690",
     "status": "completed"
    },
    "tags": []
   },
   "outputs": [],
   "source": [
    "import warnings\n",
    "warnings.filterwarnings('ignore')"
   ]
  },
  {
   "cell_type": "code",
   "execution_count": 2,
   "id": "d23f81d1",
   "metadata": {
    "id": "DXL9UGER2bMy",
    "papermill": {
     "duration": 0.028698,
     "end_time": "2021-11-29T13:50:24.294994",
     "exception": false,
     "start_time": "2021-11-29T13:50:24.266296",
     "status": "completed"
    },
    "tags": []
   },
   "outputs": [],
   "source": [
    "# Importing required libraries\n",
    "import pandas as pd\n",
    "import numpy as np\n",
    "import matplotlib.pyplot as plt"
   ]
  },
  {
   "cell_type": "code",
   "execution_count": 3,
   "id": "c453fc1b",
   "metadata": {
    "id": "KFlX32E32b-h",
    "outputId": "5bba8fed-4c90-42e1-8119-e998b57ee8f7",
    "papermill": {
     "duration": 0.074661,
     "end_time": "2021-11-29T13:50:24.392144",
     "exception": false,
     "start_time": "2021-11-29T13:50:24.317483",
     "status": "completed"
    },
    "tags": []
   },
   "outputs": [
    {
     "data": {
      "text/html": [
       "<div>\n",
       "<style scoped>\n",
       "    .dataframe tbody tr th:only-of-type {\n",
       "        vertical-align: middle;\n",
       "    }\n",
       "\n",
       "    .dataframe tbody tr th {\n",
       "        vertical-align: top;\n",
       "    }\n",
       "\n",
       "    .dataframe thead th {\n",
       "        text-align: right;\n",
       "    }\n",
       "</style>\n",
       "<table border=\"1\" class=\"dataframe\">\n",
       "  <thead>\n",
       "    <tr style=\"text-align: right;\">\n",
       "      <th></th>\n",
       "      <th>symbol</th>\n",
       "      <th>date</th>\n",
       "      <th>close</th>\n",
       "      <th>high</th>\n",
       "      <th>low</th>\n",
       "      <th>open</th>\n",
       "      <th>volume</th>\n",
       "      <th>adjClose</th>\n",
       "      <th>adjHigh</th>\n",
       "      <th>adjLow</th>\n",
       "      <th>adjOpen</th>\n",
       "      <th>adjVolume</th>\n",
       "      <th>divCash</th>\n",
       "      <th>splitFactor</th>\n",
       "    </tr>\n",
       "  </thead>\n",
       "  <tbody>\n",
       "    <tr>\n",
       "      <th>0</th>\n",
       "      <td>GOOG</td>\n",
       "      <td>2016-06-14 00:00:00+00:00</td>\n",
       "      <td>718.27</td>\n",
       "      <td>722.47</td>\n",
       "      <td>713.1200</td>\n",
       "      <td>716.48</td>\n",
       "      <td>1306065</td>\n",
       "      <td>718.27</td>\n",
       "      <td>722.47</td>\n",
       "      <td>713.1200</td>\n",
       "      <td>716.48</td>\n",
       "      <td>1306065</td>\n",
       "      <td>0.0</td>\n",
       "      <td>1.0</td>\n",
       "    </tr>\n",
       "    <tr>\n",
       "      <th>1</th>\n",
       "      <td>GOOG</td>\n",
       "      <td>2016-06-15 00:00:00+00:00</td>\n",
       "      <td>718.92</td>\n",
       "      <td>722.98</td>\n",
       "      <td>717.3100</td>\n",
       "      <td>719.00</td>\n",
       "      <td>1214517</td>\n",
       "      <td>718.92</td>\n",
       "      <td>722.98</td>\n",
       "      <td>717.3100</td>\n",
       "      <td>719.00</td>\n",
       "      <td>1214517</td>\n",
       "      <td>0.0</td>\n",
       "      <td>1.0</td>\n",
       "    </tr>\n",
       "    <tr>\n",
       "      <th>2</th>\n",
       "      <td>GOOG</td>\n",
       "      <td>2016-06-16 00:00:00+00:00</td>\n",
       "      <td>710.36</td>\n",
       "      <td>716.65</td>\n",
       "      <td>703.2600</td>\n",
       "      <td>714.91</td>\n",
       "      <td>1982471</td>\n",
       "      <td>710.36</td>\n",
       "      <td>716.65</td>\n",
       "      <td>703.2600</td>\n",
       "      <td>714.91</td>\n",
       "      <td>1982471</td>\n",
       "      <td>0.0</td>\n",
       "      <td>1.0</td>\n",
       "    </tr>\n",
       "    <tr>\n",
       "      <th>3</th>\n",
       "      <td>GOOG</td>\n",
       "      <td>2016-06-17 00:00:00+00:00</td>\n",
       "      <td>691.72</td>\n",
       "      <td>708.82</td>\n",
       "      <td>688.4515</td>\n",
       "      <td>708.65</td>\n",
       "      <td>3402357</td>\n",
       "      <td>691.72</td>\n",
       "      <td>708.82</td>\n",
       "      <td>688.4515</td>\n",
       "      <td>708.65</td>\n",
       "      <td>3402357</td>\n",
       "      <td>0.0</td>\n",
       "      <td>1.0</td>\n",
       "    </tr>\n",
       "    <tr>\n",
       "      <th>4</th>\n",
       "      <td>GOOG</td>\n",
       "      <td>2016-06-20 00:00:00+00:00</td>\n",
       "      <td>693.71</td>\n",
       "      <td>702.48</td>\n",
       "      <td>693.4100</td>\n",
       "      <td>698.77</td>\n",
       "      <td>2082538</td>\n",
       "      <td>693.71</td>\n",
       "      <td>702.48</td>\n",
       "      <td>693.4100</td>\n",
       "      <td>698.77</td>\n",
       "      <td>2082538</td>\n",
       "      <td>0.0</td>\n",
       "      <td>1.0</td>\n",
       "    </tr>\n",
       "  </tbody>\n",
       "</table>\n",
       "</div>"
      ],
      "text/plain": [
       "  symbol                       date   close    high       low    open  \\\n",
       "0   GOOG  2016-06-14 00:00:00+00:00  718.27  722.47  713.1200  716.48   \n",
       "1   GOOG  2016-06-15 00:00:00+00:00  718.92  722.98  717.3100  719.00   \n",
       "2   GOOG  2016-06-16 00:00:00+00:00  710.36  716.65  703.2600  714.91   \n",
       "3   GOOG  2016-06-17 00:00:00+00:00  691.72  708.82  688.4515  708.65   \n",
       "4   GOOG  2016-06-20 00:00:00+00:00  693.71  702.48  693.4100  698.77   \n",
       "\n",
       "    volume  adjClose  adjHigh    adjLow  adjOpen  adjVolume  divCash  \\\n",
       "0  1306065    718.27   722.47  713.1200   716.48    1306065      0.0   \n",
       "1  1214517    718.92   722.98  717.3100   719.00    1214517      0.0   \n",
       "2  1982471    710.36   716.65  703.2600   714.91    1982471      0.0   \n",
       "3  3402357    691.72   708.82  688.4515   708.65    3402357      0.0   \n",
       "4  2082538    693.71   702.48  693.4100   698.77    2082538      0.0   \n",
       "\n",
       "   splitFactor  \n",
       "0          1.0  \n",
       "1          1.0  \n",
       "2          1.0  \n",
       "3          1.0  \n",
       "4          1.0  "
      ]
     },
     "execution_count": 3,
     "metadata": {},
     "output_type": "execute_result"
    }
   ],
   "source": [
    "# Loading Dataset \n",
    "google_stock_data = pd.read_csv('GOOG.csv')\n",
    "google_stock_data.head()"
   ]
  },
  {
   "cell_type": "code",
   "execution_count": 4,
   "id": "e9895bbf",
   "metadata": {
    "id": "rD5muzWA2cBd",
    "outputId": "8a62ca3b-b1c7-4b31-d097-f2f6184e438f",
    "papermill": {
     "duration": 0.047642,
     "end_time": "2021-11-29T13:50:24.463201",
     "exception": false,
     "start_time": "2021-11-29T13:50:24.415559",
     "status": "completed"
    },
    "tags": []
   },
   "outputs": [
    {
     "name": "stdout",
     "output_type": "stream",
     "text": [
      "<class 'pandas.core.frame.DataFrame'>\n",
      "RangeIndex: 1258 entries, 0 to 1257\n",
      "Data columns (total 14 columns):\n",
      " #   Column       Non-Null Count  Dtype  \n",
      "---  ------       --------------  -----  \n",
      " 0   symbol       1258 non-null   object \n",
      " 1   date         1258 non-null   object \n",
      " 2   close        1258 non-null   float64\n",
      " 3   high         1258 non-null   float64\n",
      " 4   low          1258 non-null   float64\n",
      " 5   open         1258 non-null   float64\n",
      " 6   volume       1258 non-null   int64  \n",
      " 7   adjClose     1258 non-null   float64\n",
      " 8   adjHigh      1258 non-null   float64\n",
      " 9   adjLow       1258 non-null   float64\n",
      " 10  adjOpen      1258 non-null   float64\n",
      " 11  adjVolume    1258 non-null   int64  \n",
      " 12  divCash      1258 non-null   float64\n",
      " 13  splitFactor  1258 non-null   float64\n",
      "dtypes: float64(10), int64(2), object(2)\n",
      "memory usage: 137.7+ KB\n"
     ]
    }
   ],
   "source": [
    "#Exploring Dataset \n",
    "google_stock_data.info()"
   ]
  },
  {
   "cell_type": "code",
   "execution_count": 5,
   "id": "967ae730",
   "metadata": {
    "id": "KHpBg4KNnYJB",
    "outputId": "fa98ce9e-66be-478d-dfc5-677f214c2c78",
    "papermill": {
     "duration": 0.040632,
     "end_time": "2021-11-29T13:50:24.529016",
     "exception": false,
     "start_time": "2021-11-29T13:50:24.488384",
     "status": "completed"
    },
    "tags": []
   },
   "outputs": [
    {
     "data": {
      "text/html": [
       "<div>\n",
       "<style scoped>\n",
       "    .dataframe tbody tr th:only-of-type {\n",
       "        vertical-align: middle;\n",
       "    }\n",
       "\n",
       "    .dataframe tbody tr th {\n",
       "        vertical-align: top;\n",
       "    }\n",
       "\n",
       "    .dataframe thead th {\n",
       "        text-align: right;\n",
       "    }\n",
       "</style>\n",
       "<table border=\"1\" class=\"dataframe\">\n",
       "  <thead>\n",
       "    <tr style=\"text-align: right;\">\n",
       "      <th></th>\n",
       "      <th>open</th>\n",
       "      <th>close</th>\n",
       "    </tr>\n",
       "    <tr>\n",
       "      <th>date</th>\n",
       "      <th></th>\n",
       "      <th></th>\n",
       "    </tr>\n",
       "  </thead>\n",
       "  <tbody>\n",
       "    <tr>\n",
       "      <th>2016-06-14</th>\n",
       "      <td>716.48</td>\n",
       "      <td>718.27</td>\n",
       "    </tr>\n",
       "    <tr>\n",
       "      <th>2016-06-15</th>\n",
       "      <td>719.00</td>\n",
       "      <td>718.92</td>\n",
       "    </tr>\n",
       "    <tr>\n",
       "      <th>2016-06-16</th>\n",
       "      <td>714.91</td>\n",
       "      <td>710.36</td>\n",
       "    </tr>\n",
       "    <tr>\n",
       "      <th>2016-06-17</th>\n",
       "      <td>708.65</td>\n",
       "      <td>691.72</td>\n",
       "    </tr>\n",
       "    <tr>\n",
       "      <th>2016-06-20</th>\n",
       "      <td>698.77</td>\n",
       "      <td>693.71</td>\n",
       "    </tr>\n",
       "  </tbody>\n",
       "</table>\n",
       "</div>"
      ],
      "text/plain": [
       "              open   close\n",
       "date                      \n",
       "2016-06-14  716.48  718.27\n",
       "2016-06-15  719.00  718.92\n",
       "2016-06-16  714.91  710.36\n",
       "2016-06-17  708.65  691.72\n",
       "2016-06-20  698.77  693.71"
      ]
     },
     "execution_count": 5,
     "metadata": {},
     "output_type": "execute_result"
    }
   ],
   "source": [
    "# As for price predicition only opening and closing prices are used here so extracting this required columns\n",
    "google_stock_data = google_stock_data[['date','open','close']]\n",
    "# Selecting only date\n",
    "google_stock_data['date'] = pd.to_datetime(google_stock_data['date'].apply(lambda x: x.split()[0]))\n",
    "# Setting date column as index\n",
    "google_stock_data.set_index('date',drop=True,inplace=True)\n",
    "google_stock_data.head()"
   ]
  },
  {
   "cell_type": "code",
   "execution_count": 6,
   "id": "ed6be72d",
   "metadata": {
    "_kg_hide-input": true,
    "id": "17mfyZrq2cE9",
    "outputId": "3967e04c-6b57-41fc-84dd-35eecfb15269",
    "papermill": {
     "duration": 0.45005,
     "end_time": "2021-11-29T13:50:25.003414",
     "exception": false,
     "start_time": "2021-11-29T13:50:24.553364",
     "status": "completed"
    },
    "tags": []
   },
   "outputs": [
    {
     "data": {
      "image/png": "[encoded data removed]",
      "text/plain": [
       "<Figure size 1440x504 with 2 Axes>"
      ]
     },
     "metadata": {
      "needs_background": "light"
     },
     "output_type": "display_data"
    }
   ],
   "source": [
    "#using matplotlib to visualize the available data and see how our price values in data are being displayed. \n",
    "#The green colour was used to visualize the open variable for the price-date graph, and\n",
    "#for the closing variable,we used red colour.\n",
    "\n",
    "fg, ax =plt.subplots(1,2,figsize=(20,7))\n",
    "ax[0].plot(google_stock_data['open'],label='Open',color='green')\n",
    "ax[0].set_xlabel('Date',size=15)\n",
    "ax[0].set_ylabel('Price',size=15)\n",
    "ax[0].legend()\n",
    "\n",
    "ax[1].plot(google_stock_data['close'],label='Close',color='red')\n",
    "ax[1].set_xlabel('Date',size=15)\n",
    "ax[1].set_ylabel('Price',size=15)\n",
    "ax[1].legend()\n",
    "\n",
    "fg.show()"
   ]
  },
  {
   "cell_type": "markdown",
   "id": "f5f7049a",
   "metadata": {
    "id": "PTYHF02Y6B1m",
    "papermill": {
     "duration": 0.025384,
     "end_time": "2021-11-29T13:50:25.054625",
     "exception": false,
     "start_time": "2021-11-29T13:50:25.029241",
     "status": "completed"
    },
    "tags": []
   },
   "source": [
    "# Data Pre-Processing"
   ]
  },
  {
   "cell_type": "code",
   "execution_count": 7,
   "id": "4049b119",
   "metadata": {
    "id": "XgHWQ2SK2cH4",
    "papermill": {
     "duration": 0.710426,
     "end_time": "2021-11-29T13:50:25.790212",
     "exception": false,
     "start_time": "2021-11-29T13:50:25.079786",
     "status": "completed"
    },
    "tags": []
   },
   "outputs": [],
   "source": [
    "#Preprocessing data using min max scaler by normalising it\n",
    "from sklearn.preprocessing import MinMaxScaler\n",
    "MMS = MinMaxScaler()\n",
    "google_stock_data[google_stock_data.columns] = MMS.fit_transform(google_stock_data)"
   ]
  },
  {
   "cell_type": "code",
   "execution_count": 8,
   "id": "ff1cc5d7",
   "metadata": {
    "id": "vUhYPfaR2cP0",
    "outputId": "8037611d-ad8d-4be7-ae8e-2482c6204932",
    "papermill": {
     "duration": 0.033285,
     "end_time": "2021-11-29T13:50:25.848868",
     "exception": false,
     "start_time": "2021-11-29T13:50:25.815583",
     "status": "completed"
    },
    "tags": []
   },
   "outputs": [
    {
     "data": {
      "text/plain": [
       "(1258, 2)"
      ]
     },
     "execution_count": 8,
     "metadata": {},
     "output_type": "execute_result"
    }
   ],
   "source": [
    "google_stock_data.shape"
   ]
  },
  {
   "cell_type": "code",
   "execution_count": 9,
   "id": "481642fe",
   "metadata": {
    "id": "o4shudsl2cS3",
    "outputId": "885f7989-ad9c-4723-9626-54b58b382c1e",
    "papermill": {
     "duration": 0.033078,
     "end_time": "2021-11-29T13:50:25.907591",
     "exception": false,
     "start_time": "2021-11-29T13:50:25.874513",
     "status": "completed"
    },
    "tags": []
   },
   "outputs": [
    {
     "data": {
      "text/plain": [
       "1006"
      ]
     },
     "execution_count": 9,
     "metadata": {},
     "output_type": "execute_result"
    }
   ],
   "source": [
    " # Selecting 80 % for training and 20 % for testing\n",
    "training_size = round(len(google_stock_data) * 0.80)\n",
    "training_size"
   ]
  },
  {
   "cell_type": "code",
   "execution_count": 10,
   "id": "f2dda89b",
   "metadata": {
    "id": "XWI_TMQC2cWB",
    "outputId": "1cf28a43-311a-4ef4-db20-d3f22c7ef51e",
    "papermill": {
     "duration": 0.042465,
     "end_time": "2021-11-29T13:50:25.975637",
     "exception": false,
     "start_time": "2021-11-29T13:50:25.933172",
     "status": "completed"
    },
    "tags": []
   },
   "outputs": [
    {
     "data": {
      "text/plain": [
       "((1006, 2), (252, 2))"
      ]
     },
     "execution_count": 10,
     "metadata": {},
     "output_type": "execute_result"
    }
   ],
   "source": [
    "train_data = google_stock_data[:training_size]\n",
    "test_data  = google_stock_data[training_size:]\n",
    "\n",
    "train_data.shape, test_data.shape"
   ]
  },
  {
   "cell_type": "code",
   "execution_count": 11,
   "id": "a5200702",
   "metadata": {
    "id": "CqpXvPeD7zUY",
    "papermill": {
     "duration": 0.040061,
     "end_time": "2021-11-29T13:50:26.061364",
     "exception": false,
     "start_time": "2021-11-29T13:50:26.021303",
     "status": "completed"
    },
    "tags": []
   },
   "outputs": [],
   "source": [
    "# Function to create sequence of data for training and testing i.e taking 50 days for prediction of 51st day opening and closing price \n",
    "\n",
    "def create_sequence(dataset):\n",
    "  sequences = []\n",
    "  labels = []\n",
    "\n",
    "  start_idx = 0\n",
    "  # Selecting 50 rows at a time\n",
    "  for stop_idx in range(50,len(dataset)): \n",
    "    sequences.append(dataset.iloc[start_idx:stop_idx])\n",
    "    labels.append(dataset.iloc[stop_idx])\n",
    "    start_idx += 1\n",
    "  return (np.array(sequences),np.array(labels))\n"
   ]
  },
  {
   "cell_type": "code",
   "execution_count": 12,
   "id": "cfb20189",
   "metadata": {
    "id": "xqkyw0e-7zW3",
    "papermill": {
     "duration": 0.386764,
     "end_time": "2021-11-29T13:50:26.474713",
     "exception": false,
     "start_time": "2021-11-29T13:50:26.087949",
     "status": "completed"
    },
    "tags": []
   },
   "outputs": [],
   "source": [
    "train_seq, train_label = create_sequence(train_data)\n",
    "test_seq, test_label = create_sequence(test_data)"
   ]
  },
  {
   "cell_type": "code",
   "execution_count": 13,
   "id": "742e613e",
   "metadata": {
    "id": "ZpsCI6jf_oC2",
    "outputId": "1c0a74ae-8205-44a9-8748-18318845a365",
    "papermill": {
     "duration": 0.038202,
     "end_time": "2021-11-29T13:50:26.542583",
     "exception": false,
     "start_time": "2021-11-29T13:50:26.504381",
     "status": "completed"
    },
    "tags": []
   },
   "outputs": [
    {
     "data": {
      "text/plain": [
       "((956, 50, 2), (956, 2), (202, 50, 2), (202, 2))"
      ]
     },
     "execution_count": 13,
     "metadata": {},
     "output_type": "execute_result"
    }
   ],
   "source": [
    "train_seq.shape, train_label.shape, test_seq.shape, test_label.shape"
   ]
  },
  {
   "cell_type": "markdown",
   "id": "fe299b44",
   "metadata": {
    "id": "lbRE8i0Y6GGL",
    "papermill": {
     "duration": 0.029508,
     "end_time": "2021-11-29T13:50:26.601175",
     "exception": false,
     "start_time": "2021-11-29T13:50:26.571667",
     "status": "completed"
    },
    "tags": []
   },
   "source": [
    "# Creating LSTM model"
   ]
  },
  {
   "cell_type": "code",
   "execution_count": 14,
   "id": "89bfd1cc",
   "metadata": {
    "id": "etmB-Lbd7zZa",
    "papermill": {
     "duration": 4.650091,
     "end_time": "2021-11-29T13:50:31.283263",
     "exception": false,
     "start_time": "2021-11-29T13:50:26.633172",
     "status": "completed"
    },
    "tags": []
   },
   "outputs": [],
   "source": [
    "from keras.models import Sequential\n",
    "from keras.layers import Dense, Dropout, LSTM, Bidirectional"
   ]
  },
  {
   "cell_type": "code",
   "execution_count": 16,
   "id": "3c9ba91e",
   "metadata": {
    "id": "FntEHOeG7zcE",
    "outputId": "870dc502-f598-4826-ef48-25724058761d",
    "papermill": {
     "duration": 2.834539,
     "end_time": "2021-11-29T13:50:34.145200",
     "exception": false,
     "start_time": "2021-11-29T13:50:31.310661",
     "status": "completed"
    },
    "tags": []
   },
   "outputs": [
    {
     "name": "stdout",
     "output_type": "stream",
     "text": [
      "Model: \"sequential_1\"\n",
      "_________________________________________________________________\n",
      "Layer (type)                 Output Shape              Param #   \n",
      "=================================================================\n",
      "lstm_2 (LSTM)                (None, 50, 50)            10600     \n",
      "_________________________________________________________________\n",
      "dropout_1 (Dropout)          (None, 50, 50)            0         \n",
      "_________________________________________________________________\n",
      "lstm_3 (LSTM)                (None, 50)                20200     \n",
      "_________________________________________________________________\n",
      "dense_1 (Dense)              (None, 2)                 102       \n",
      "=================================================================\n",
      "Total params: 30,902\n",
      "Trainable params: 30,902\n",
      "Non-trainable params: 0\n",
      "_________________________________________________________________\n"
     ]
    }
   ],
   "source": [
    "model = Sequential()\n",
    "model.add(LSTM(units=50, return_sequences=True, input_shape = (train_seq.shape[1], train_seq.shape[2])))\n",
    "\n",
    "model.add(Dropout(0.1)) \n",
    "model.add(LSTM(units=50))\n",
    "\n",
    "model.add(Dense(2))\n",
    "\n",
    "model.compile(loss='mean_squared_error', optimizer='adam', metrics=['mean_absolute_error'])\n",
    "\n",
    "model.summary()"
   ]
  },
  {
   "cell_type": "code",
   "execution_count": 17,
   "id": "89bbd310",
   "metadata": {
    "_kg_hide-output": true,
    "id": "5sFY8gn97zeC",
    "outputId": "2ee9dfaf-e6de-4f98-bd24-fedc69f238b5",
    "papermill": {
     "duration": 43.722993,
     "end_time": "2021-11-29T13:51:17.929098",
     "exception": false,
     "start_time": "2021-11-29T13:50:34.206105",
     "status": "completed"
    },
    "tags": []
   },
   "outputs": [
    {
     "name": "stdout",
     "output_type": "stream",
     "text": [
      "Epoch 1/80\n",
      "30/30 [==============================] - 89s 301ms/step - loss: 0.0175 - mean_absolute_error: 0.0986 - val_loss: 0.0122 - val_mean_absolute_error: 0.0925\n",
      "Epoch 2/80\n",
      "30/30 [==============================] - 4s 142ms/step - loss: 0.0012 - mean_absolute_error: 0.0273 - val_loss: 0.0038 - val_mean_absolute_error: 0.0496\n",
      "Epoch 3/80\n",
      "30/30 [==============================] - 4s 124ms/step - loss: 5.8891e-04 - mean_absolute_error: 0.0176 - val_loss: 0.0023 - val_mean_absolute_error: 0.0383\n",
      "Epoch 4/80\n",
      "30/30 [==============================] - 4s 130ms/step - loss: 5.2415e-04 - mean_absolute_error: 0.0166 - val_loss: 0.0021 - val_mean_absolute_error: 0.0367\n",
      "Epoch 5/80\n",
      "30/30 [==============================] - 4s 151ms/step - loss: 6.4373e-04 - mean_absolute_error: 0.0179 - val_loss: 0.0028 - val_mean_absolute_error: 0.0422\n",
      "Epoch 6/80\n",
      "30/30 [==============================] - 3s 116ms/step - loss: 5.1785e-04 - mean_absolute_error: 0.0158 - val_loss: 0.0025 - val_mean_absolute_error: 0.0393\n",
      "Epoch 7/80\n",
      "30/30 [==============================] - 4s 122ms/step - loss: 4.3641e-04 - mean_absolute_error: 0.0150 - val_loss: 0.0027 - val_mean_absolute_error: 0.0410\n",
      "Epoch 8/80\n",
      "30/30 [==============================] - 3s 104ms/step - loss: 4.7001e-04 - mean_absolute_error: 0.0157 - val_loss: 0.0037 - val_mean_absolute_error: 0.0492\n",
      "Epoch 9/80\n",
      "30/30 [==============================] - 4s 120ms/step - loss: 4.6369e-04 - mean_absolute_error: 0.0152 - val_loss: 0.0041 - val_mean_absolute_error: 0.0513\n",
      "Epoch 10/80\n",
      "30/30 [==============================] - 3s 119ms/step - loss: 3.7101e-04 - mean_absolute_error: 0.0141 - val_loss: 0.0105 - val_mean_absolute_error: 0.0869\n",
      "Epoch 11/80\n",
      "30/30 [==============================] - 3s 88ms/step - loss: 4.0213e-04 - mean_absolute_error: 0.0143 - val_loss: 0.0127 - val_mean_absolute_error: 0.0951\n",
      "Epoch 12/80\n",
      "30/30 [==============================] - 4s 120ms/step - loss: 3.5601e-04 - mean_absolute_error: 0.0140 - val_loss: 0.0103 - val_mean_absolute_error: 0.0828\n",
      "Epoch 13/80\n",
      "30/30 [==============================] - 4s 127ms/step - loss: 3.4036e-04 - mean_absolute_error: 0.0135 - val_loss: 0.0161 - val_mean_absolute_error: 0.1048\n",
      "Epoch 14/80\n",
      "30/30 [==============================] - 4s 139ms/step - loss: 3.8317e-04 - mean_absolute_error: 0.0144 - val_loss: 0.0164 - val_mean_absolute_error: 0.1051\n",
      "Epoch 15/80\n",
      "30/30 [==============================] - 4s 129ms/step - loss: 3.3931e-04 - mean_absolute_error: 0.0134 - val_loss: 0.0148 - val_mean_absolute_error: 0.0980\n",
      "Epoch 16/80\n",
      "30/30 [==============================] - 4s 141ms/step - loss: 3.1823e-04 - mean_absolute_error: 0.0133 - val_loss: 0.0153 - val_mean_absolute_error: 0.0988\n",
      "Epoch 17/80\n",
      "30/30 [==============================] - 4s 125ms/step - loss: 2.8718e-04 - mean_absolute_error: 0.0127 - val_loss: 0.0203 - val_mean_absolute_error: 0.1160\n",
      "Epoch 18/80\n",
      "30/30 [==============================] - 4s 135ms/step - loss: 3.1126e-04 - mean_absolute_error: 0.0130 - val_loss: 0.0207 - val_mean_absolute_error: 0.1163\n",
      "Epoch 19/80\n",
      "30/30 [==============================] - 3s 102ms/step - loss: 3.1006e-04 - mean_absolute_error: 0.0129 - val_loss: 0.0210 - val_mean_absolute_error: 0.1172\n",
      "Epoch 20/80\n",
      "30/30 [==============================] - 4s 119ms/step - loss: 3.1097e-04 - mean_absolute_error: 0.0131 - val_loss: 0.0151 - val_mean_absolute_error: 0.0952\n",
      "Epoch 21/80\n",
      "30/30 [==============================] - 3s 116ms/step - loss: 2.9133e-04 - mean_absolute_error: 0.0126 - val_loss: 0.0178 - val_mean_absolute_error: 0.1076\n",
      "Epoch 22/80\n",
      "30/30 [==============================] - 2s 74ms/step - loss: 3.4692e-04 - mean_absolute_error: 0.0140 - val_loss: 0.0155 - val_mean_absolute_error: 0.0972\n",
      "Epoch 23/80\n",
      "30/30 [==============================] - 3s 109ms/step - loss: 2.8031e-04 - mean_absolute_error: 0.0123 - val_loss: 0.0141 - val_mean_absolute_error: 0.0898\n",
      "Epoch 24/80\n",
      "30/30 [==============================] - 4s 144ms/step - loss: 3.6235e-04 - mean_absolute_error: 0.0136 - val_loss: 0.0184 - val_mean_absolute_error: 0.1065\n",
      "Epoch 25/80\n",
      "30/30 [==============================] - 3s 110ms/step - loss: 2.4485e-04 - mean_absolute_error: 0.0116 - val_loss: 0.0243 - val_mean_absolute_error: 0.1255\n",
      "Epoch 26/80\n",
      "30/30 [==============================] - 3s 117ms/step - loss: 2.7746e-04 - mean_absolute_error: 0.0127 - val_loss: 0.0169 - val_mean_absolute_error: 0.1014\n",
      "Epoch 27/80\n",
      "30/30 [==============================] - 4s 121ms/step - loss: 2.8178e-04 - mean_absolute_error: 0.0126 - val_loss: 0.0178 - val_mean_absolute_error: 0.1062\n",
      "Epoch 28/80\n",
      "30/30 [==============================] - 4s 115ms/step - loss: 2.7861e-04 - mean_absolute_error: 0.0122 - val_loss: 0.0181 - val_mean_absolute_error: 0.1073\n",
      "Epoch 29/80\n",
      "30/30 [==============================] - 4s 127ms/step - loss: 2.9789e-04 - mean_absolute_error: 0.0127 - val_loss: 0.0213 - val_mean_absolute_error: 0.1188\n",
      "Epoch 30/80\n",
      "30/30 [==============================] - 3s 107ms/step - loss: 2.6684e-04 - mean_absolute_error: 0.0121 - val_loss: 0.0289 - val_mean_absolute_error: 0.1433\n",
      "Epoch 31/80\n",
      "30/30 [==============================] - 4s 121ms/step - loss: 2.9855e-04 - mean_absolute_error: 0.0129 - val_loss: 0.0176 - val_mean_absolute_error: 0.1061\n",
      "Epoch 32/80\n",
      "30/30 [==============================] - 4s 146ms/step - loss: 2.2744e-04 - mean_absolute_error: 0.0115 - val_loss: 0.0193 - val_mean_absolute_error: 0.1123\n",
      "Epoch 33/80\n",
      "30/30 [==============================] - 3s 97ms/step - loss: 2.8747e-04 - mean_absolute_error: 0.0127 - val_loss: 0.0153 - val_mean_absolute_error: 0.1005\n",
      "Epoch 34/80\n",
      "30/30 [==============================] - 4s 118ms/step - loss: 2.4461e-04 - mean_absolute_error: 0.0117 - val_loss: 0.0188 - val_mean_absolute_error: 0.1132\n",
      "Epoch 35/80\n",
      "30/30 [==============================] - 4s 141ms/step - loss: 2.5540e-04 - mean_absolute_error: 0.0119 - val_loss: 0.0100 - val_mean_absolute_error: 0.0785\n",
      "Epoch 36/80\n",
      "30/30 [==============================] - 4s 123ms/step - loss: 2.9233e-04 - mean_absolute_error: 0.0120 - val_loss: 0.0142 - val_mean_absolute_error: 0.0957\n",
      "Epoch 37/80\n",
      "30/30 [==============================] - 3s 110ms/step - loss: 2.4353e-04 - mean_absolute_error: 0.0116 - val_loss: 0.0312 - val_mean_absolute_error: 0.1543\n",
      "Epoch 38/80\n",
      "30/30 [==============================] - 4s 134ms/step - loss: 2.7561e-04 - mean_absolute_error: 0.0121 - val_loss: 0.0206 - val_mean_absolute_error: 0.1197\n",
      "Epoch 39/80\n",
      "30/30 [==============================] - 4s 128ms/step - loss: 2.1616e-04 - mean_absolute_error: 0.0109 - val_loss: 0.0231 - val_mean_absolute_error: 0.1283\n",
      "Epoch 40/80\n",
      "30/30 [==============================] - 4s 128ms/step - loss: 2.7154e-04 - mean_absolute_error: 0.0124 - val_loss: 0.0184 - val_mean_absolute_error: 0.1138\n",
      "Epoch 41/80\n",
      "30/30 [==============================] - 4s 121ms/step - loss: 2.0722e-04 - mean_absolute_error: 0.0106 - val_loss: 0.0142 - val_mean_absolute_error: 0.0987\n",
      "Epoch 42/80\n",
      "30/30 [==============================] - 3s 114ms/step - loss: 2.3299e-04 - mean_absolute_error: 0.0111 - val_loss: 0.0121 - val_mean_absolute_error: 0.0916\n",
      "Epoch 43/80\n",
      "30/30 [==============================] - 3s 110ms/step - loss: 2.4216e-04 - mean_absolute_error: 0.0114 - val_loss: 0.0122 - val_mean_absolute_error: 0.0931\n",
      "Epoch 44/80\n",
      "30/30 [==============================] - 3s 113ms/step - loss: 2.5224e-04 - mean_absolute_error: 0.0115 - val_loss: 0.0175 - val_mean_absolute_error: 0.1143\n",
      "Epoch 45/80\n",
      "30/30 [==============================] - 3s 94ms/step - loss: 2.1545e-04 - mean_absolute_error: 0.0110 - val_loss: 0.0129 - val_mean_absolute_error: 0.0975\n",
      "Epoch 46/80\n",
      "30/30 [==============================] - 3s 116ms/step - loss: 1.9128e-04 - mean_absolute_error: 0.0100 - val_loss: 0.0156 - val_mean_absolute_error: 0.1092\n",
      "Epoch 47/80\n",
      "30/30 [==============================] - 4s 124ms/step - loss: 2.2599e-04 - mean_absolute_error: 0.0109 - val_loss: 0.0284 - val_mean_absolute_error: 0.1528\n",
      "Epoch 48/80\n",
      "30/30 [==============================] - 4s 122ms/step - loss: 2.5699e-04 - mean_absolute_error: 0.0120 - val_loss: 0.0139 - val_mean_absolute_error: 0.1017\n",
      "Epoch 49/80\n",
      "30/30 [==============================] - 4s 132ms/step - loss: 2.5630e-04 - mean_absolute_error: 0.0123 - val_loss: 0.0096 - val_mean_absolute_error: 0.0873\n",
      "Epoch 50/80\n",
      "30/30 [==============================] - 4s 125ms/step - loss: 2.2573e-04 - mean_absolute_error: 0.0109 - val_loss: 0.0149 - val_mean_absolute_error: 0.1071\n",
      "Epoch 51/80\n",
      "30/30 [==============================] - 4s 118ms/step - loss: 2.3339e-04 - mean_absolute_error: 0.0113 - val_loss: 0.0181 - val_mean_absolute_error: 0.1219\n",
      "Epoch 52/80\n",
      "30/30 [==============================] - 4s 115ms/step - loss: 2.2155e-04 - mean_absolute_error: 0.0110 - val_loss: 0.0098 - val_mean_absolute_error: 0.0878\n",
      "Epoch 53/80\n",
      "30/30 [==============================] - 3s 112ms/step - loss: 2.5352e-04 - mean_absolute_error: 0.0115 - val_loss: 0.0060 - val_mean_absolute_error: 0.0641\n",
      "Epoch 54/80\n",
      "30/30 [==============================] - 3s 113ms/step - loss: 2.1686e-04 - mean_absolute_error: 0.0108 - val_loss: 0.0074 - val_mean_absolute_error: 0.0704\n",
      "Epoch 55/80\n",
      "30/30 [==============================] - 4s 117ms/step - loss: 2.2206e-04 - mean_absolute_error: 0.0111 - val_loss: 0.0073 - val_mean_absolute_error: 0.0715\n",
      "Epoch 56/80\n",
      "30/30 [==============================] - 3s 101ms/step - loss: 2.0707e-04 - mean_absolute_error: 0.0104 - val_loss: 0.0078 - val_mean_absolute_error: 0.0749\n",
      "Epoch 57/80\n",
      "30/30 [==============================] - 4s 119ms/step - loss: 2.2080e-04 - mean_absolute_error: 0.0108 - val_loss: 0.0074 - val_mean_absolute_error: 0.0736\n",
      "Epoch 58/80\n",
      "30/30 [==============================] - 4s 132ms/step - loss: 1.8918e-04 - mean_absolute_error: 0.0100 - val_loss: 0.0118 - val_mean_absolute_error: 0.0979\n",
      "Epoch 59/80\n",
      "30/30 [==============================] - 3s 104ms/step - loss: 1.8959e-04 - mean_absolute_error: 0.0101 - val_loss: 0.0063 - val_mean_absolute_error: 0.0701\n",
      "Epoch 60/80\n",
      "30/30 [==============================] - 4s 127ms/step - loss: 2.1987e-04 - mean_absolute_error: 0.0111 - val_loss: 0.0034 - val_mean_absolute_error: 0.0482\n",
      "Epoch 61/80\n",
      "30/30 [==============================] - 4s 130ms/step - loss: 1.9211e-04 - mean_absolute_error: 0.0102 - val_loss: 0.0098 - val_mean_absolute_error: 0.0882\n",
      "Epoch 62/80\n",
      "30/30 [==============================] - 4s 123ms/step - loss: 1.9712e-04 - mean_absolute_error: 0.0102 - val_loss: 0.0080 - val_mean_absolute_error: 0.0806\n",
      "Epoch 63/80\n",
      "30/30 [==============================] - 4s 134ms/step - loss: 1.8111e-04 - mean_absolute_error: 0.0097 - val_loss: 0.0054 - val_mean_absolute_error: 0.0651\n",
      "Epoch 64/80\n",
      "30/30 [==============================] - 4s 125ms/step - loss: 1.8632e-04 - mean_absolute_error: 0.0099 - val_loss: 0.0036 - val_mean_absolute_error: 0.0494\n",
      "Epoch 65/80\n",
      "30/30 [==============================] - 3s 112ms/step - loss: 2.0038e-04 - mean_absolute_error: 0.0102 - val_loss: 0.0053 - val_mean_absolute_error: 0.0633\n",
      "Epoch 66/80\n",
      "30/30 [==============================] - 4s 122ms/step - loss: 1.5740e-04 - mean_absolute_error: 0.0092 - val_loss: 0.0093 - val_mean_absolute_error: 0.0878\n",
      "Epoch 67/80\n",
      "30/30 [==============================] - 2s 80ms/step - loss: 1.7254e-04 - mean_absolute_error: 0.0095 - val_loss: 0.0051 - val_mean_absolute_error: 0.0609\n",
      "Epoch 68/80\n",
      "30/30 [==============================] - 3s 116ms/step - loss: 1.6338e-04 - mean_absolute_error: 0.0093 - val_loss: 0.0056 - val_mean_absolute_error: 0.0647\n",
      "Epoch 69/80\n",
      "30/30 [==============================] - 4s 132ms/step - loss: 1.6552e-04 - mean_absolute_error: 0.0092 - val_loss: 0.0079 - val_mean_absolute_error: 0.0801\n",
      "Epoch 70/80\n",
      "30/30 [==============================] - 4s 133ms/step - loss: 1.5341e-04 - mean_absolute_error: 0.0092 - val_loss: 0.0090 - val_mean_absolute_error: 0.0822\n",
      "Epoch 71/80\n",
      "30/30 [==============================] - 4s 133ms/step - loss: 1.8675e-04 - mean_absolute_error: 0.0100 - val_loss: 0.0076 - val_mean_absolute_error: 0.0740\n",
      "Epoch 72/80\n",
      "30/30 [==============================] - 4s 127ms/step - loss: 1.6696e-04 - mean_absolute_error: 0.0095 - val_loss: 0.0067 - val_mean_absolute_error: 0.0701\n",
      "Epoch 73/80\n",
      "30/30 [==============================] - 3s 118ms/step - loss: 1.6385e-04 - mean_absolute_error: 0.0095 - val_loss: 0.0074 - val_mean_absolute_error: 0.0768\n",
      "Epoch 74/80\n",
      "30/30 [==============================] - 4s 146ms/step - loss: 1.6259e-04 - mean_absolute_error: 0.0093 - val_loss: 0.0076 - val_mean_absolute_error: 0.0787\n",
      "Epoch 75/80\n",
      "30/30 [==============================] - 3s 84ms/step - loss: 1.7715e-04 - mean_absolute_error: 0.0096 - val_loss: 0.0084 - val_mean_absolute_error: 0.0800\n",
      "Epoch 76/80\n",
      "30/30 [==============================] - 3s 96ms/step - loss: 1.7935e-04 - mean_absolute_error: 0.0097 - val_loss: 0.0038 - val_mean_absolute_error: 0.0510\n",
      "Epoch 77/80\n",
      "30/30 [==============================] - 4s 123ms/step - loss: 1.5182e-04 - mean_absolute_error: 0.0089 - val_loss: 0.0064 - val_mean_absolute_error: 0.0668\n",
      "Epoch 78/80\n",
      "30/30 [==============================] - 4s 131ms/step - loss: 1.5718e-04 - mean_absolute_error: 0.0091 - val_loss: 0.0065 - val_mean_absolute_error: 0.0666\n",
      "Epoch 79/80\n",
      "30/30 [==============================] - 4s 133ms/step - loss: 1.5116e-04 - mean_absolute_error: 0.0090 - val_loss: 0.0095 - val_mean_absolute_error: 0.0852\n",
      "Epoch 80/80\n",
      "30/30 [==============================] - 3s 93ms/step - loss: 1.6286e-04 - mean_absolute_error: 0.0094 - val_loss: 0.0050 - val_mean_absolute_error: 0.0597\n"
     ]
    },
    {
     "data": {
      "text/plain": [
       "<keras.callbacks.History at 0x227e584e7c0>"
      ]
     },
     "execution_count": 17,
     "metadata": {},
     "output_type": "execute_result"
    }
   ],
   "source": [
    "model.fit(train_seq, train_label, epochs=80,validation_data=(test_seq, test_label), verbose=1)"
   ]
  },
  {
   "cell_type": "code",
   "execution_count": 18,
   "id": "00a066fd",
   "metadata": {
    "id": "UPkxNcyo7zgX",
    "outputId": "8e246086-8b8b-4834-ce91-54333b128398",
    "papermill": {
     "duration": 0.706009,
     "end_time": "2021-11-29T13:51:18.771268",
     "exception": false,
     "start_time": "2021-11-29T13:51:18.065259",
     "status": "completed"
    },
    "tags": []
   },
   "outputs": [
    {
     "data": {
      "text/plain": [
       "array([[0.48196542, 0.48472866],\n",
       "       [0.4893036 , 0.49149558],\n",
       "       [0.49557987, 0.4972735 ],\n",
       "       [0.508472  , 0.5108137 ],\n",
       "       [0.5187575 , 0.5207429 ]], dtype=float32)"
      ]
     },
     "execution_count": 18,
     "metadata": {},
     "output_type": "execute_result"
    }
   ],
   "source": [
    "test_predicted = model.predict(test_seq)\n",
    "test_predicted[:5]"
   ]
  },
  {
   "cell_type": "code",
   "execution_count": 19,
   "id": "d6fcdf6d",
   "metadata": {
    "id": "DvRmpGcwLPhu",
    "outputId": "5a6b4974-370f-440d-bf4b-ca2d17b51f83",
    "papermill": {
     "duration": 0.14273,
     "end_time": "2021-11-29T13:51:19.053517",
     "exception": false,
     "start_time": "2021-11-29T13:51:18.910787",
     "status": "completed"
    },
    "tags": []
   },
   "outputs": [
    {
     "data": {
      "text/plain": [
       "array([[1564.5254, 1566.627 ],\n",
       "       [1578.1298, 1579.1685],\n",
       "       [1589.7654, 1589.877 ],\n",
       "       [1613.6665, 1614.9716],\n",
       "       [1632.735 , 1633.3737]], dtype=float32)"
      ]
     },
     "execution_count": 19,
     "metadata": {},
     "output_type": "execute_result"
    }
   ],
   "source": [
    "# Inversing scaling on predicted data to get original data for comparision with predicted data\n",
    "test_inverse_predicted = MMS.inverse_transform(test_predicted) \n",
    "test_inverse_predicted[:5]"
   ]
  },
  {
   "cell_type": "markdown",
   "id": "d5e0763f",
   "metadata": {
    "id": "3fX0hFZM61cO",
    "papermill": {
     "duration": 0.135195,
     "end_time": "2021-11-29T13:51:19.327400",
     "exception": false,
     "start_time": "2021-11-29T13:51:19.192205",
     "status": "completed"
    },
    "tags": []
   },
   "source": [
    "# Visualizing predicted and actual data"
   ]
  },
  {
   "cell_type": "code",
   "execution_count": 20,
   "id": "b1482c2b",
   "metadata": {
    "id": "7KWDJaXAL8RT",
    "papermill": {
     "duration": 0.14293,
     "end_time": "2021-11-29T13:51:19.605250",
     "exception": false,
     "start_time": "2021-11-29T13:51:19.462320",
     "status": "completed"
    },
    "tags": []
   },
   "outputs": [],
   "source": [
    "# Merging actual and predicted data for better visualization\n",
    "\n",
    "gs_slic_data = pd.concat([google_stock_data.iloc[-202:].copy(),pd.DataFrame(test_inverse_predicted,columns=['open_predicted','close_predicted'],index=google_stock_data.iloc[-202:].index)], axis=1)"
   ]
  },
  {
   "cell_type": "code",
   "execution_count": 55,
   "id": "0f71d152",
   "metadata": {
    "execution": {
     "iopub.execute_input": "2021-11-29T13:51:19.880857Z",
     "iopub.status.busy": "2021-11-29T13:51:19.880216Z",
     "iopub.status.idle": "2021-11-29T13:51:19.883242Z",
     "shell.execute_reply": "2021-11-29T13:51:19.882723Z",
     "shell.execute_reply.started": "2021-11-29T13:49:19.653884Z"
    },
    "id": "VhQ1_JnJ0oYE",
    "papermill": {
     "duration": 0.144781,
     "end_time": "2021-11-29T13:51:19.883366",
     "exception": false,
     "start_time": "2021-11-29T13:51:19.738585",
     "status": "completed"
    },
    "tags": []
   },
   "outputs": [],
   "source": [
    "gs_slic_data[['open','close']] = MMS.inverse_transform(gs_slic_data[['open','close']]) # Inverse scaling"
   ]
  },
  {
   "cell_type": "code",
   "execution_count": 56,
   "id": "a10799e0",
   "metadata": {
    "execution": {
     "iopub.execute_input": "2021-11-29T13:51:20.162595Z",
     "iopub.status.busy": "2021-11-29T13:51:20.161846Z",
     "iopub.status.idle": "2021-11-29T13:51:20.164892Z",
     "shell.execute_reply": "2021-11-29T13:51:20.165390Z",
     "shell.execute_reply.started": "2021-11-29T13:49:19.666415Z"
    },
    "id": "M1fsx6gTO3io",
    "outputId": "7b5be0fb-8fab-44ca-9346-4163a6536d26",
    "papermill": {
     "duration": 0.148138,
     "end_time": "2021-11-29T13:51:20.165530",
     "exception": false,
     "start_time": "2021-11-29T13:51:20.017392",
     "status": "completed"
    },
    "tags": []
   },
   "outputs": [
    {
     "data": {
      "text/html": [
       "<div>\n",
       "<style scoped>\n",
       "    .dataframe tbody tr th:only-of-type {\n",
       "        vertical-align: middle;\n",
       "    }\n",
       "\n",
       "    .dataframe tbody tr th {\n",
       "        vertical-align: top;\n",
       "    }\n",
       "\n",
       "    .dataframe thead th {\n",
       "        text-align: right;\n",
       "    }\n",
       "</style>\n",
       "<table border=\"1\" class=\"dataframe\">\n",
       "  <thead>\n",
       "    <tr style=\"text-align: right;\">\n",
       "      <th></th>\n",
       "      <th>open</th>\n",
       "      <th>close</th>\n",
       "      <th>open_predicted</th>\n",
       "      <th>close_predicted</th>\n",
       "    </tr>\n",
       "    <tr>\n",
       "      <th>date</th>\n",
       "      <th></th>\n",
       "      <th></th>\n",
       "      <th></th>\n",
       "      <th></th>\n",
       "    </tr>\n",
       "  </thead>\n",
       "  <tbody>\n",
       "    <tr>\n",
       "      <th>2020-08-24</th>\n",
       "      <td>1593.98</td>\n",
       "      <td>1588.20</td>\n",
       "      <td>1561.777222</td>\n",
       "      <td>1561.675781</td>\n",
       "    </tr>\n",
       "    <tr>\n",
       "      <th>2020-08-25</th>\n",
       "      <td>1582.07</td>\n",
       "      <td>1608.22</td>\n",
       "      <td>1574.291992</td>\n",
       "      <td>1573.812866</td>\n",
       "    </tr>\n",
       "    <tr>\n",
       "      <th>2020-08-26</th>\n",
       "      <td>1608.00</td>\n",
       "      <td>1652.38</td>\n",
       "      <td>1585.977783</td>\n",
       "      <td>1585.004028</td>\n",
       "    </tr>\n",
       "    <tr>\n",
       "      <th>2020-08-27</th>\n",
       "      <td>1653.68</td>\n",
       "      <td>1634.33</td>\n",
       "      <td>1614.213745</td>\n",
       "      <td>1613.480103</td>\n",
       "    </tr>\n",
       "    <tr>\n",
       "      <th>2020-08-28</th>\n",
       "      <td>1633.49</td>\n",
       "      <td>1644.41</td>\n",
       "      <td>1634.501953</td>\n",
       "      <td>1633.474976</td>\n",
       "    </tr>\n",
       "  </tbody>\n",
       "</table>\n",
       "</div>"
      ],
      "text/plain": [
       "               open    close  open_predicted  close_predicted\n",
       "date                                                         \n",
       "2020-08-24  1593.98  1588.20     1561.777222      1561.675781\n",
       "2020-08-25  1582.07  1608.22     1574.291992      1573.812866\n",
       "2020-08-26  1608.00  1652.38     1585.977783      1585.004028\n",
       "2020-08-27  1653.68  1634.33     1614.213745      1613.480103\n",
       "2020-08-28  1633.49  1644.41     1634.501953      1633.474976"
      ]
     },
     "execution_count": 56,
     "metadata": {},
     "output_type": "execute_result"
    }
   ],
   "source": [
    "gs_slic_data.head()"
   ]
  },
  {
   "cell_type": "code",
   "execution_count": 57,
   "id": "6313352b",
   "metadata": {
    "execution": {
     "iopub.execute_input": "2021-11-29T13:51:20.444637Z",
     "iopub.status.busy": "2021-11-29T13:51:20.444000Z",
     "iopub.status.idle": "2021-11-29T13:51:20.733288Z",
     "shell.execute_reply": "2021-11-29T13:51:20.733701Z",
     "shell.execute_reply.started": "2021-11-29T13:49:19.687236Z"
    },
    "id": "CFS9w3P30Hig",
    "outputId": "66adef77-4f7e-452e-9971-d7479a5c6a2a",
    "papermill": {
     "duration": 0.428726,
     "end_time": "2021-11-29T13:51:20.733862",
     "exception": false,
     "start_time": "2021-11-29T13:51:20.305136",
     "status": "completed"
    },
    "tags": []
   },
   "outputs": [
    {
     "data": {
      "image/png": "[encoded data removed]",
      "text/plain": [
       "<Figure size 720x432 with 1 Axes>"
      ]
     },
     "metadata": {
      "needs_background": "light"
     },
     "output_type": "display_data"
    }
   ],
   "source": [
    "gs_slic_data[['open','open_predicted']].plot(figsize=(10,6))\n",
    "plt.xticks(rotation=45)\n",
    "plt.xlabel('Date',size=15)\n",
    "plt.ylabel('Stock Price',size=15)\n",
    "plt.title('Actual vs Predicted for open price',size=15)\n",
    "plt.show()"
   ]
  },
  {
   "cell_type": "code",
   "execution_count": 58,
   "id": "4b05123b",
   "metadata": {
    "execution": {
     "iopub.execute_input": "2021-11-29T13:51:21.026765Z",
     "iopub.status.busy": "2021-11-29T13:51:21.025624Z",
     "iopub.status.idle": "2021-11-29T13:51:21.298379Z",
     "shell.execute_reply": "2021-11-29T13:51:21.298843Z",
     "shell.execute_reply.started": "2021-11-29T13:49:19.996117Z"
    },
    "id": "YEYigZI8PFo1",
    "outputId": "0a9b81e8-2008-4058-dada-662c91108822",
    "papermill": {
     "duration": 0.430469,
     "end_time": "2021-11-29T13:51:21.298994",
     "exception": false,
     "start_time": "2021-11-29T13:51:20.868525",
     "status": "completed"
    },
    "tags": []
   },
   "outputs": [
    {
     "data": {
      "image/png": "[encoded data removed]",
      "text/plain": [
       "<Figure size 720x432 with 1 Axes>"
      ]
     },
     "metadata": {
      "needs_background": "light"
     },
     "output_type": "display_data"
    }
   ],
   "source": [
    "gs_slic_data[['close','close_predicted']].plot(figsize=(10,6))\n",
    "plt.xticks(rotation=45)\n",
    "plt.xlabel('Date',size=15)\n",
    "plt.ylabel('Stock Price',size=15)\n",
    "plt.title('Actual vs Predicted for close price',size=15)\n",
    "plt.show()"
   ]
  },
  {
   "cell_type": "markdown",
   "id": "d404369a",
   "metadata": {
    "id": "WeWDN9x_6RIt",
    "papermill": {
     "duration": 0.135991,
     "end_time": "2021-11-29T13:51:21.574630",
     "exception": false,
     "start_time": "2021-11-29T13:51:21.438639",
     "status": "completed"
    },
    "tags": []
   },
   "source": [
    "# Predicting upcoming 10 days"
   ]
  },
  {
   "cell_type": "code",
   "execution_count": 59,
   "id": "904b10e1",
   "metadata": {
    "execution": {
     "iopub.execute_input": "2021-11-29T13:51:21.863813Z",
     "iopub.status.busy": "2021-11-29T13:51:21.862906Z",
     "iopub.status.idle": "2021-11-29T13:51:21.864849Z",
     "shell.execute_reply": "2021-11-29T13:51:21.865302Z",
     "shell.execute_reply.started": "2021-11-29T13:49:20.293808Z"
    },
    "id": "ByoVNOEn0Ht4",
    "papermill": {
     "duration": 0.149481,
     "end_time": "2021-11-29T13:51:21.865439",
     "exception": false,
     "start_time": "2021-11-29T13:51:21.715958",
     "status": "completed"
    },
    "tags": []
   },
   "outputs": [],
   "source": [
    "# Creating a dataframe and adding 10 days to existing index \n",
    "\n",
    "gs_slic_data = gs_slic_data.append(pd.DataFrame(columns=gs_slic_data.columns,index=pd.date_range(start=gs_slic_data.index[-1], periods=11, freq='D', closed='right')))\n"
   ]
  },
  {
   "cell_type": "code",
   "execution_count": 60,
   "id": "d2f9bda9",
   "metadata": {
    "execution": {
     "iopub.execute_input": "2021-11-29T13:51:22.160082Z",
     "iopub.status.busy": "2021-11-29T13:51:22.159226Z",
     "iopub.status.idle": "2021-11-29T13:51:22.162214Z",
     "shell.execute_reply": "2021-11-29T13:51:22.162638Z",
     "shell.execute_reply.started": "2021-11-29T13:49:20.302965Z"
    },
    "id": "1s1rK-LV9Se_",
    "outputId": "6992b3eb-8fd2-46e8-bf57-5d63315720a1",
    "papermill": {
     "duration": 0.158094,
     "end_time": "2021-11-29T13:51:22.162804",
     "exception": false,
     "start_time": "2021-11-29T13:51:22.004710",
     "status": "completed"
    },
    "tags": []
   },
   "outputs": [
    {
     "data": {
      "text/html": [
       "<div>\n",
       "<style scoped>\n",
       "    .dataframe tbody tr th:only-of-type {\n",
       "        vertical-align: middle;\n",
       "    }\n",
       "\n",
       "    .dataframe tbody tr th {\n",
       "        vertical-align: top;\n",
       "    }\n",
       "\n",
       "    .dataframe thead th {\n",
       "        text-align: right;\n",
       "    }\n",
       "</style>\n",
       "<table border=\"1\" class=\"dataframe\">\n",
       "  <thead>\n",
       "    <tr style=\"text-align: right;\">\n",
       "      <th></th>\n",
       "      <th>open</th>\n",
       "      <th>close</th>\n",
       "      <th>open_predicted</th>\n",
       "      <th>close_predicted</th>\n",
       "    </tr>\n",
       "  </thead>\n",
       "  <tbody>\n",
       "    <tr>\n",
       "      <th>2021-06-09</th>\n",
       "      <td>2499.50</td>\n",
       "      <td>2491.40</td>\n",
       "      <td>2301.520508</td>\n",
       "      <td>2258.111328</td>\n",
       "    </tr>\n",
       "    <tr>\n",
       "      <th>2021-06-10</th>\n",
       "      <td>2494.01</td>\n",
       "      <td>2521.60</td>\n",
       "      <td>2315.649658</td>\n",
       "      <td>2268.802246</td>\n",
       "    </tr>\n",
       "    <tr>\n",
       "      <th>2021-06-11</th>\n",
       "      <td>2524.92</td>\n",
       "      <td>2513.93</td>\n",
       "      <td>2329.076904</td>\n",
       "      <td>2278.626221</td>\n",
       "    </tr>\n",
       "    <tr>\n",
       "      <th>2021-06-12</th>\n",
       "      <td>NaN</td>\n",
       "      <td>NaN</td>\n",
       "      <td>NaN</td>\n",
       "      <td>NaN</td>\n",
       "    </tr>\n",
       "    <tr>\n",
       "      <th>2021-06-13</th>\n",
       "      <td>NaN</td>\n",
       "      <td>NaN</td>\n",
       "      <td>NaN</td>\n",
       "      <td>NaN</td>\n",
       "    </tr>\n",
       "    <tr>\n",
       "      <th>2021-06-14</th>\n",
       "      <td>NaN</td>\n",
       "      <td>NaN</td>\n",
       "      <td>NaN</td>\n",
       "      <td>NaN</td>\n",
       "    </tr>\n",
       "    <tr>\n",
       "      <th>2021-06-15</th>\n",
       "      <td>NaN</td>\n",
       "      <td>NaN</td>\n",
       "      <td>NaN</td>\n",
       "      <td>NaN</td>\n",
       "    </tr>\n",
       "    <tr>\n",
       "      <th>2021-06-16</th>\n",
       "      <td>NaN</td>\n",
       "      <td>NaN</td>\n",
       "      <td>NaN</td>\n",
       "      <td>NaN</td>\n",
       "    </tr>\n",
       "  </tbody>\n",
       "</table>\n",
       "</div>"
      ],
      "text/plain": [
       "               open    close  open_predicted  close_predicted\n",
       "2021-06-09  2499.50  2491.40     2301.520508      2258.111328\n",
       "2021-06-10  2494.01  2521.60     2315.649658      2268.802246\n",
       "2021-06-11  2524.92  2513.93     2329.076904      2278.626221\n",
       "2021-06-12      NaN      NaN             NaN              NaN\n",
       "2021-06-13      NaN      NaN             NaN              NaN\n",
       "2021-06-14      NaN      NaN             NaN              NaN\n",
       "2021-06-15      NaN      NaN             NaN              NaN\n",
       "2021-06-16      NaN      NaN             NaN              NaN"
      ]
     },
     "execution_count": 60,
     "metadata": {},
     "output_type": "execute_result"
    }
   ],
   "source": [
    "gs_slic_data['2021-06-09\t':'2021-06-16']"
   ]
  },
  {
   "cell_type": "code",
   "execution_count": 61,
   "id": "452632e8",
   "metadata": {
    "execution": {
     "iopub.execute_input": "2021-11-29T13:51:22.464480Z",
     "iopub.status.busy": "2021-11-29T13:51:22.463554Z",
     "iopub.status.idle": "2021-11-29T13:51:22.465737Z",
     "shell.execute_reply": "2021-11-29T13:51:22.466157Z",
     "shell.execute_reply.started": "2021-11-29T13:49:20.324276Z"
    },
    "id": "NZrOofTiTUpA",
    "papermill": {
     "duration": 0.151721,
     "end_time": "2021-11-29T13:51:22.466304",
     "exception": false,
     "start_time": "2021-11-29T13:51:22.314583",
     "status": "completed"
    },
    "tags": []
   },
   "outputs": [],
   "source": [
    "upcoming_prediction = pd.DataFrame(columns=['open','close'],index=gs_slic_data.index)\n",
    "upcoming_prediction.index=pd.to_datetime(upcoming_prediction.index)"
   ]
  },
  {
   "cell_type": "code",
   "execution_count": 62,
   "id": "c219f9fe",
   "metadata": {
    "execution": {
     "iopub.execute_input": "2021-11-29T13:51:22.755255Z",
     "iopub.status.busy": "2021-11-29T13:51:22.754366Z",
     "iopub.status.idle": "2021-11-29T13:51:23.192659Z",
     "shell.execute_reply": "2021-11-29T13:51:23.191262Z",
     "shell.execute_reply.started": "2021-11-29T13:49:20.337962Z"
    },
    "id": "fexYhMesZHEy",
    "papermill": {
     "duration": 0.586524,
     "end_time": "2021-11-29T13:51:23.192863",
     "exception": false,
     "start_time": "2021-11-29T13:51:22.606339",
     "status": "completed"
    },
    "tags": []
   },
   "outputs": [],
   "source": [
    "curr_seq = test_seq[-1:]\n",
    "\n",
    "for i in range(-10,0):\n",
    "  up_pred = model.predict(curr_seq)\n",
    "  upcoming_prediction.iloc[i] = up_pred\n",
    "  curr_seq = np.append(curr_seq[0][1:],up_pred,axis=0)\n",
    "  curr_seq = curr_seq.reshape(test_seq[-1:].shape)\n"
   ]
  },
  {
   "cell_type": "code",
   "execution_count": 63,
   "id": "06dcba60",
   "metadata": {
    "execution": {
     "iopub.execute_input": "2021-11-29T13:51:23.639282Z",
     "iopub.status.busy": "2021-11-29T13:51:23.637529Z",
     "iopub.status.idle": "2021-11-29T13:51:23.639869Z",
     "shell.execute_reply": "2021-11-29T13:51:23.640303Z",
     "shell.execute_reply.started": "2021-11-29T13:49:20.727490Z"
    },
    "id": "ffiWW_EIZHMT",
    "papermill": {
     "duration": 0.219046,
     "end_time": "2021-11-29T13:51:23.640455",
     "exception": false,
     "start_time": "2021-11-29T13:51:23.421409",
     "status": "completed"
    },
    "tags": []
   },
   "outputs": [],
   "source": [
    "upcoming_prediction[['open','close']] = MMS.inverse_transform(upcoming_prediction[['open','close']])"
   ]
  },
  {
   "cell_type": "code",
   "execution_count": 64,
   "id": "bdd20807",
   "metadata": {
    "execution": {
     "iopub.execute_input": "2021-11-29T13:51:23.943693Z",
     "iopub.status.busy": "2021-11-29T13:51:23.942573Z",
     "iopub.status.idle": "2021-11-29T13:51:24.197160Z",
     "shell.execute_reply": "2021-11-29T13:51:24.196409Z",
     "shell.execute_reply.started": "2021-11-29T13:49:20.735924Z"
    },
    "id": "4DvMiPkTVlEe",
    "outputId": "c1ec957f-b7a4-46ed-858e-7a230b341ffa",
    "papermill": {
     "duration": 0.418763,
     "end_time": "2021-11-29T13:51:24.197289",
     "exception": false,
     "start_time": "2021-11-29T13:51:23.778526",
     "status": "completed"
    },
    "tags": []
   },
   "outputs": [
    {
     "data": {
      "image/png": "[encoded data removed]",
      "text/plain": [
       "<Figure size 720x360 with 1 Axes>"
      ]
     },
     "metadata": {
      "needs_background": "light"
     },
     "output_type": "display_data"
    }
   ],
   "source": [
    "fg,ax=plt.subplots(figsize=(10,5))\n",
    "ax.plot(gs_slic_data.loc['2021-04-01':,'open'],label='Current Open Price')\n",
    "ax.plot(upcoming_prediction.loc['2021-04-01':,'open'],label='Upcoming Open Price')\n",
    "plt.setp(ax.xaxis.get_majorticklabels(), rotation=45)\n",
    "ax.set_xlabel('Date',size=15)\n",
    "ax.set_ylabel('Stock Price',size=15)\n",
    "ax.set_title('Upcoming Open price prediction',size=15)\n",
    "ax.legend()\n",
    "fg.show()"
   ]
  },
  {
   "cell_type": "code",
   "execution_count": 65,
   "id": "6cefc709",
   "metadata": {
    "execution": {
     "iopub.execute_input": "2021-11-29T13:51:24.505007Z",
     "iopub.status.busy": "2021-11-29T13:51:24.504069Z",
     "iopub.status.idle": "2021-11-29T13:51:24.751453Z",
     "shell.execute_reply": "2021-11-29T13:51:24.751904Z",
     "shell.execute_reply.started": "2021-11-29T13:49:21.029698Z"
    },
    "id": "r9EK16p7m8ZK",
    "outputId": "6bd4e931-511c-4575-ee32-339fca13794a",
    "papermill": {
     "duration": 0.41601,
     "end_time": "2021-11-29T13:51:24.752112",
     "exception": false,
     "start_time": "2021-11-29T13:51:24.336102",
     "status": "completed"
    },
    "tags": []
   },
   "outputs": [
    {
     "data": {
      "image/png": "[encoded data removed]",
      "text/plain": [
       "<Figure size 720x360 with 1 Axes>"
      ]
     },
     "metadata": {
      "needs_background": "light"
     },
     "output_type": "display_data"
    }
   ],
   "source": [
    "fg,ax=plt.subplots(figsize=(10,5))\n",
    "ax.plot(gs_slic_data.loc['2021-04-01':,'close'],label='Current close Price')\n",
    "ax.plot(upcoming_prediction.loc['2021-04-01':,'close'],label='Upcoming close Price')\n",
    "plt.setp(ax.xaxis.get_majorticklabels(), rotation=45)\n",
    "ax.set_xlabel('Date',size=15)\n",
    "ax.set_ylabel('Stock Price',size=15)\n",
    "ax.set_title('Upcoming close price prediction',size=15)\n",
    "ax.legend()\n",
    "fg.show()"
   ]
  }
 ],
 "metadata": {
  "kernelspec": {
   "display_name": "Python 3",
   "language": "python",
   "name": "python3"
  },
  "language_info": {
   "codemirror_mode": {
    "name": "ipython",
    "version": 3
   },
   "file_extension": ".py",
   "mimetype": "text/x-python",
   "name": "python",
   "nbconvert_exporter": "python",
   "pygments_lexer": "ipython3",
   "version": "3.9.5"
  },
  "papermill": {
   "default_parameters": {},
   "duration": 71.502717,
   "end_time": "2021-11-29T13:51:28.321502",
   "environment_variables": {},
   "exception": null,
   "input_path": "__notebook__.ipynb",
   "output_path": "__notebook__.ipynb",
   "parameters": {},
   "start_time": "2021-11-29T13:50:16.818785",
   "version": "2.3.3"
  }
 },
 "nbformat": 4,
 "nbformat_minor": 5
}
