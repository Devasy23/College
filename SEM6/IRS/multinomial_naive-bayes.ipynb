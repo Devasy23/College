{
 "cells": [
  {
   "cell_type": "code",
   "execution_count": 1,
   "metadata": {},
   "outputs": [],
   "source": [
    "import numpy as np\n",
    "import pandas as pd\n",
    "import matplotlib.pyplot as plt\n",
    "import seaborn as sns\n",
    "from sklearn.datasets import fetch_20newsgroups\n",
    "from sklearn.feature_extraction.text import CountVectorizer\n",
    "from sklearn.metrics import confusion_matrix, classification_report\n",
    "from sklearn.naive_bayes import MultinomialNB\n",
    "from sklearn.pipeline import Pipeline\n",
    "from sklearn.model_selection import GridSearchCV\n",
    "from nltk import word_tokenize\n",
    "import os"
   ]
  },
  {
   "cell_type": "code",
   "execution_count": 2,
   "metadata": {},
   "outputs": [
    {
     "data": {
      "text/html": [
       "<div>\n",
       "<style scoped>\n",
       "    .dataframe tbody tr th:only-of-type {\n",
       "        vertical-align: middle;\n",
       "    }\n",
       "\n",
       "    .dataframe tbody tr th {\n",
       "        vertical-align: top;\n",
       "    }\n",
       "\n",
       "    .dataframe thead th {\n",
       "        text-align: right;\n",
       "    }\n",
       "</style>\n",
       "<table border=\"1\" class=\"dataframe\">\n",
       "  <thead>\n",
       "    <tr style=\"text-align: right;\">\n",
       "      <th></th>\n",
       "      <th>Doc</th>\n",
       "      <th>Words</th>\n",
       "      <th>Class</th>\n",
       "    </tr>\n",
       "  </thead>\n",
       "  <tbody>\n",
       "    <tr>\n",
       "      <th>0</th>\n",
       "      <td>1</td>\n",
       "      <td>Chinese Beijing Chinese</td>\n",
       "      <td>c</td>\n",
       "    </tr>\n",
       "    <tr>\n",
       "      <th>1</th>\n",
       "      <td>2</td>\n",
       "      <td>Chinese Chinese Shanghai</td>\n",
       "      <td>c</td>\n",
       "    </tr>\n",
       "    <tr>\n",
       "      <th>2</th>\n",
       "      <td>3</td>\n",
       "      <td>Chinese Macao</td>\n",
       "      <td>c</td>\n",
       "    </tr>\n",
       "    <tr>\n",
       "      <th>3</th>\n",
       "      <td>4</td>\n",
       "      <td>Tokyo Japan Chinese</td>\n",
       "      <td>j</td>\n",
       "    </tr>\n",
       "  </tbody>\n",
       "</table>\n",
       "</div>"
      ],
      "text/plain": [
       "   Doc                     Words Class\n",
       "0    1   Chinese Beijing Chinese     c\n",
       "1    2  Chinese Chinese Shanghai     c\n",
       "2    3             Chinese Macao     c\n",
       "3    4       Tokyo Japan Chinese     j"
      ]
     },
     "execution_count": 2,
     "metadata": {},
     "output_type": "execute_result"
    }
   ],
   "source": [
    "df = pd.read_csv('data.csv')\n",
    "df.head()"
   ]
  },
  {
   "cell_type": "code",
   "execution_count": 3,
   "metadata": {},
   "outputs": [
    {
     "name": "stdout",
     "output_type": "stream",
     "text": [
      "['Chinese', 'Beijing', 'Shanghai', 'Macao', 'Tokyo', 'Japan']\n"
     ]
    }
   ],
   "source": [
    "unique = []\n",
    "for i in df['Words']:\n",
    "    for j in i.split():\n",
    "        if j not in unique:\n",
    "            unique.append(j)\n",
    "print(unique)"
   ]
  },
  {
   "cell_type": "code",
   "execution_count": 4,
   "metadata": {},
   "outputs": [],
   "source": [
    "P_C = 0\n",
    "P_J = 0"
   ]
  },
  {
   "cell_type": "code",
   "execution_count": 5,
   "metadata": {},
   "outputs": [
    {
     "name": "stdout",
     "output_type": "stream",
     "text": [
      "P(C) = 0.75\n",
      "P(J) = 0.25\n"
     ]
    }
   ],
   "source": [
    "for i in range(len(df)):\n",
    "    if df['Class'][i] == 'c':\n",
    "        P_C += 1\n",
    "    else:\n",
    "        P_J += 1\n",
    "P_C /= len(df)\n",
    "P_J /= len(df)\n",
    "print('P(C) =', P_C)\n",
    "print('P(J) =', P_J)"
   ]
  },
  {
   "cell_type": "code",
   "execution_count": 6,
   "metadata": {},
   "outputs": [
    {
     "name": "stdout",
     "output_type": "stream",
     "text": [
      "Chinese: ['Chinese', 'Beijing', 'Chinese', 'Chinese', 'Chinese', 'Shanghai', 'Chinese', 'Macao']\n",
      "Japanese: ['Tokyo', 'Japan', 'Chinese']\n",
      "Chinese unigram: {'Chinese': 5, 'Beijing': 1, 'Shanghai': 1, 'Macao': 1}\n",
      "Japanese unigram: {'Tokyo': 1, 'Japan': 1, 'Chinese': 1}\n"
     ]
    }
   ],
   "source": [
    "chinese = []\n",
    "c_uni = {}\n",
    "j_uni = {}\n",
    "japanese = []\n",
    "for i in range(len(df)):\n",
    "    if df['Class'][i] == 'c':\n",
    "        for j in word_tokenize(df['Words'][i]):\n",
    "            chinese.append(j)\n",
    "            if j in c_uni:\n",
    "                c_uni[j] += 1\n",
    "            else:\n",
    "                c_uni[j] = 1\n",
    "    else:\n",
    "        for j in word_tokenize(df['Words'][i]):\n",
    "            japanese.append(j)\n",
    "            if j in j_uni:\n",
    "                j_uni[j] += 1\n",
    "            else:\n",
    "                j_uni[j] = 1\n",
    "print('Chinese:', chinese)\n",
    "print('Japanese:', japanese)\n",
    "print('Chinese unigram:', c_uni)\n",
    "print('Japanese unigram:', j_uni)"
   ]
  },
  {
   "cell_type": "code",
   "execution_count": 7,
   "metadata": {},
   "outputs": [],
   "source": [
    "query = \"Chinese Japan Japan Tokyo Japan\""
   ]
  },
  {
   "cell_type": "code",
   "execution_count": 8,
   "metadata": {},
   "outputs": [
    {
     "name": "stdout",
     "output_type": "stream",
     "text": [
      "P(C|query) = 8.367049443684178e-06\n",
      "P(J|query) = 8.467543904215141e-06\n",
      "Class = Japanese\n"
     ]
    }
   ],
   "source": [
    "for i in query.split():\n",
    "    if i in c_uni:\n",
    "        P_C *= (c_uni[i] + 1) / (len(chinese) + len(unique))\n",
    "    else:\n",
    "        P_C *= 1 / (len(chinese) + len(unique))\n",
    "    if i in c_uni:\n",
    "        P_J *= (j_uni[i] + 1) / (len(japanese) + len(unique))\n",
    "    else:\n",
    "        P_J *= 1 / (len(japanese) + len(unique))\n",
    "print('P(C|query) =', P_C)\n",
    "print('P(J|query) =', P_J)\n",
    "if P_C > P_J:\n",
    "    print('Class = Chinese')\n",
    "else:   \n",
    "    print('Class = Japanese')"
   ]
  },
  {
   "cell_type": "code",
   "execution_count": null,
   "metadata": {},
   "outputs": [],
   "source": []
  }
 ],
 "metadata": {
  "kernelspec": {
   "display_name": "base",
   "language": "python",
   "name": "python3"
  },
  "language_info": {
   "codemirror_mode": {
    "name": "ipython",
    "version": 3
   },
   "file_extension": ".py",
   "mimetype": "text/x-python",
   "name": "python",
   "nbconvert_exporter": "python",
   "pygments_lexer": "ipython3",
   "version": "3.10.5"
  },
  "orig_nbformat": 4
 },
 "nbformat": 4,
 "nbformat_minor": 2
}
