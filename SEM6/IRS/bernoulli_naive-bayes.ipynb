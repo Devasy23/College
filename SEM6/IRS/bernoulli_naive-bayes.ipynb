{
 "cells": [
  {
   "cell_type": "code",
   "execution_count": 1,
   "metadata": {},
   "outputs": [],
   "source": [
    "import numpy as np\n",
    "import pandas as pd\n",
    "import matplotlib.pyplot as plt\n",
    "import seaborn as sns\n",
    "from sklearn.datasets import fetch_20newsgroups\n",
    "from sklearn.feature_extraction.text import CountVectorizer\n",
    "from sklearn.metrics import confusion_matrix, classification_report\n",
    "from sklearn.naive_bayes import MultinomialNB\n",
    "from sklearn.pipeline import Pipeline\n",
    "from sklearn.model_selection import GridSearchCV\n",
    "from nltk import word_tokenize\n",
    "import os"
   ]
  },
  {
   "cell_type": "code",
   "execution_count": 8,
   "metadata": {},
   "outputs": [
    {
     "data": {
      "text/html": [
       "<div>\n",
       "<style scoped>\n",
       "    .dataframe tbody tr th:only-of-type {\n",
       "        vertical-align: middle;\n",
       "    }\n",
       "\n",
       "    .dataframe tbody tr th {\n",
       "        vertical-align: top;\n",
       "    }\n",
       "\n",
       "    .dataframe thead th {\n",
       "        text-align: right;\n",
       "    }\n",
       "</style>\n",
       "<table border=\"1\" class=\"dataframe\">\n",
       "  <thead>\n",
       "    <tr style=\"text-align: right;\">\n",
       "      <th></th>\n",
       "      <th>Doc</th>\n",
       "      <th>Words</th>\n",
       "      <th>Class</th>\n",
       "    </tr>\n",
       "  </thead>\n",
       "  <tbody>\n",
       "    <tr>\n",
       "      <th>0</th>\n",
       "      <td>1</td>\n",
       "      <td>Chinese Beijing Chinese</td>\n",
       "      <td>c</td>\n",
       "    </tr>\n",
       "    <tr>\n",
       "      <th>1</th>\n",
       "      <td>2</td>\n",
       "      <td>Chinese Chinese Shanghai</td>\n",
       "      <td>c</td>\n",
       "    </tr>\n",
       "    <tr>\n",
       "      <th>2</th>\n",
       "      <td>3</td>\n",
       "      <td>Chinese Macao</td>\n",
       "      <td>c</td>\n",
       "    </tr>\n",
       "    <tr>\n",
       "      <th>3</th>\n",
       "      <td>4</td>\n",
       "      <td>Tokyo Japan Chinese</td>\n",
       "      <td>j</td>\n",
       "    </tr>\n",
       "  </tbody>\n",
       "</table>\n",
       "</div>"
      ],
      "text/plain": [
       "   Doc                     Words Class\n",
       "0    1   Chinese Beijing Chinese     c\n",
       "1    2  Chinese Chinese Shanghai     c\n",
       "2    3             Chinese Macao     c\n",
       "3    4       Tokyo Japan Chinese     j"
      ]
     },
     "execution_count": 8,
     "metadata": {},
     "output_type": "execute_result"
    }
   ],
   "source": [
    "df = pd.read_csv('data.csv')\n",
    "df.head()"
   ]
  },
  {
   "cell_type": "code",
   "execution_count": 9,
   "metadata": {},
   "outputs": [
    {
     "name": "stdout",
     "output_type": "stream",
     "text": [
      "['Chinese', 'Beijing', 'Shanghai', 'Macao', 'Tokyo', 'Japan']\n"
     ]
    }
   ],
   "source": [
    "unique = []\n",
    "for i in df['Words']:\n",
    "    for j in i.split():\n",
    "        if j not in unique:\n",
    "            unique.append(j)\n",
    "print(unique)"
   ]
  },
  {
   "cell_type": "code",
   "execution_count": 10,
   "metadata": {},
   "outputs": [],
   "source": [
    "nc = df[df['Class']=='c']\n",
    "nj = df[df['Class']=='j']"
   ]
  },
  {
   "cell_type": "code",
   "execution_count": 11,
   "metadata": {},
   "outputs": [],
   "source": [
    "classes = 2"
   ]
  },
  {
   "cell_type": "code",
   "execution_count": 12,
   "metadata": {},
   "outputs": [],
   "source": [
    "query = \"Chinese Chinese Chinese Tokyo Japan\""
   ]
  },
  {
   "cell_type": "code",
   "execution_count": 13,
   "metadata": {},
   "outputs": [
    {
     "data": {
      "text/html": [
       "<div>\n",
       "<style scoped>\n",
       "    .dataframe tbody tr th:only-of-type {\n",
       "        vertical-align: middle;\n",
       "    }\n",
       "\n",
       "    .dataframe tbody tr th {\n",
       "        vertical-align: top;\n",
       "    }\n",
       "\n",
       "    .dataframe thead th {\n",
       "        text-align: right;\n",
       "    }\n",
       "</style>\n",
       "<table border=\"1\" class=\"dataframe\">\n",
       "  <thead>\n",
       "    <tr style=\"text-align: right;\">\n",
       "      <th></th>\n",
       "      <th>Doc</th>\n",
       "      <th>Words</th>\n",
       "      <th>Class</th>\n",
       "    </tr>\n",
       "  </thead>\n",
       "  <tbody>\n",
       "    <tr>\n",
       "      <th>0</th>\n",
       "      <td>1</td>\n",
       "      <td>Chinese Beijing Chinese</td>\n",
       "      <td>c</td>\n",
       "    </tr>\n",
       "    <tr>\n",
       "      <th>1</th>\n",
       "      <td>2</td>\n",
       "      <td>Chinese Chinese Shanghai</td>\n",
       "      <td>c</td>\n",
       "    </tr>\n",
       "    <tr>\n",
       "      <th>2</th>\n",
       "      <td>3</td>\n",
       "      <td>Chinese Macao</td>\n",
       "      <td>c</td>\n",
       "    </tr>\n",
       "  </tbody>\n",
       "</table>\n",
       "</div>"
      ],
      "text/plain": [
       "   Doc                     Words Class\n",
       "0    1   Chinese Beijing Chinese     c\n",
       "1    2  Chinese Chinese Shanghai     c\n",
       "2    3             Chinese Macao     c"
      ]
     },
     "execution_count": 13,
     "metadata": {},
     "output_type": "execute_result"
    }
   ],
   "source": [
    "nc"
   ]
  },
  {
   "cell_type": "code",
   "execution_count": 14,
   "metadata": {},
   "outputs": [
    {
     "name": "stdout",
     "output_type": "stream",
     "text": [
      "{'Chinese': 3, 'Beijing': 1, 'Shanghai': 1, 'Macao': 1, 'Tokyo': 0, 'Japan': 0}\n"
     ]
    }
   ],
   "source": [
    "Prob_c = {}\n",
    "for i in unique:\n",
    "    for j in nc['Words']:\n",
    "        if i in j:\n",
    "            if i not in Prob_c:\n",
    "                Prob_c[i] = 1\n",
    "            else:\n",
    "                Prob_c[i] += 1\n",
    "for i in unique:\n",
    "    if i not in Prob_c:\n",
    "        Prob_c[i] = 0\n",
    "print(Prob_c)"
   ]
  },
  {
   "cell_type": "code",
   "execution_count": 15,
   "metadata": {},
   "outputs": [
    {
     "name": "stdout",
     "output_type": "stream",
     "text": [
      "{'Chinese': 0.8, 'Beijing': 0.4, 'Shanghai': 0.4, 'Macao': 0.4, 'Tokyo': 0.2, 'Japan': 0.2}\n"
     ]
    }
   ],
   "source": [
    "for i in Prob_c:\n",
    "    Prob_c[i] = (Prob_c[i]+1)/(len(nc)+classes)\n",
    "print(Prob_c)"
   ]
  },
  {
   "cell_type": "code",
   "execution_count": 16,
   "metadata": {},
   "outputs": [
    {
     "name": "stdout",
     "output_type": "stream",
     "text": [
      "{'Chinese': 1, 'Tokyo': 1, 'Japan': 1, 'Beijing': 0, 'Shanghai': 0, 'Macao': 0}\n"
     ]
    }
   ],
   "source": [
    "Prob_j = {}\n",
    "for i in unique:\n",
    "    for j in nj['Words']:\n",
    "        if i in j:\n",
    "            if i not in Prob_j:\n",
    "                Prob_j[i] = 1\n",
    "            else:\n",
    "                Prob_j[i] += 1\n",
    "for i in unique:\n",
    "    if i not in Prob_j:\n",
    "        Prob_j[i] = 0\n",
    "print(Prob_j)"
   ]
  },
  {
   "cell_type": "code",
   "execution_count": 17,
   "metadata": {},
   "outputs": [
    {
     "name": "stdout",
     "output_type": "stream",
     "text": [
      "{'Chinese': 0.6666666666666666, 'Tokyo': 0.6666666666666666, 'Japan': 0.6666666666666666, 'Beijing': 0.3333333333333333, 'Shanghai': 0.3333333333333333, 'Macao': 0.3333333333333333}\n"
     ]
    }
   ],
   "source": [
    "for i in Prob_j:\n",
    "    Prob_j[i] = (Prob_j[i]+1)/(len(nj)+classes)\n",
    "print(Prob_j)"
   ]
  },
  {
   "cell_type": "code",
   "execution_count": 18,
   "metadata": {},
   "outputs": [
    {
     "name": "stdout",
     "output_type": "stream",
     "text": [
      "0.75\n",
      "0.25\n"
     ]
    }
   ],
   "source": [
    "PC = len(nc)/len(df)\n",
    "PJ = len(nj)/len(df)\n",
    "print(PC)\n",
    "print(PJ)"
   ]
  },
  {
   "cell_type": "code",
   "execution_count": 19,
   "metadata": {},
   "outputs": [
    {
     "name": "stdout",
     "output_type": "stream",
     "text": [
      "0.005184000000000001\n"
     ]
    }
   ],
   "source": [
    "for i in Prob_c:\n",
    "    if i in query:\n",
    "        PC *= Prob_c[i]\n",
    "    else:\n",
    "        PC *= (1-Prob_c[i])\n",
    "print(PC)"
   ]
  },
  {
   "cell_type": "code",
   "execution_count": 20,
   "metadata": {},
   "outputs": [
    {
     "name": "stdout",
     "output_type": "stream",
     "text": [
      "0.02194787379972566\n"
     ]
    }
   ],
   "source": [
    "for i in Prob_j:\n",
    "    if i in query:\n",
    "        PJ *= Prob_j[i]\n",
    "    else:\n",
    "        PJ *= (1-Prob_j[i])\n",
    "print(PJ)"
   ]
  },
  {
   "cell_type": "code",
   "execution_count": 21,
   "metadata": {},
   "outputs": [
    {
     "name": "stdout",
     "output_type": "stream",
     "text": [
      "The given query is of class Japan\n"
     ]
    }
   ],
   "source": [
    "if PJ>PC:\n",
    "    print(\"The given query is of class Japan\")\n",
    "else:    \n",
    "    print(\"The given query is of class China\")"
   ]
  },
  {
   "cell_type": "code",
   "execution_count": null,
   "metadata": {},
   "outputs": [],
   "source": []
  }
 ],
 "metadata": {
  "kernelspec": {
   "display_name": "base",
   "language": "python",
   "name": "python3"
  },
  "language_info": {
   "codemirror_mode": {
    "name": "ipython",
    "version": 3
   },
   "file_extension": ".py",
   "mimetype": "text/x-python",
   "name": "python",
   "nbconvert_exporter": "python",
   "pygments_lexer": "ipython3",
   "version": "3.10.5"
  },
  "orig_nbformat": 4
 },
 "nbformat": 4,
 "nbformat_minor": 2
}
