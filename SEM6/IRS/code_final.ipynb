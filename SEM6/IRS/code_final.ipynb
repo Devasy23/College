{
 "cells": [
  {
   "cell_type": "code",
   "execution_count": 1,
   "id": "e9fa968e",
   "metadata": {},
   "outputs": [],
   "source": [
    "import numpy as np\n",
    "import pandas as pd\n",
    "import matplotlib.pyplot as plt\n",
    "import graphviz"
   ]
  },
  {
   "cell_type": "code",
   "execution_count": 2,
   "id": "14e9e429",
   "metadata": {},
   "outputs": [
    {
     "data": {
      "text/plain": [
       "['S â†’ AB', 'A â†’ a', 'B â†’ C | b', 'C â†’ D', 'D â†’ E', 'E â†’ a']"
      ]
     },
     "execution_count": 2,
     "metadata": {},
     "output_type": "execute_result"
    }
   ],
   "source": [
    "with open('input.txt') as f:\n",
    "    data = f.read().splitlines()\n",
    "data"
   ]
  },
  {
   "cell_type": "code",
   "execution_count": 4,
   "id": "02d9a665",
   "metadata": {},
   "outputs": [
    {
     "name": "stdout",
     "output_type": "stream",
     "text": [
      "S â†’ AB\n"
     ]
    },
    {
     "ename": "IndexError",
     "evalue": "list index out of range",
     "output_type": "error",
     "traceback": [
      "\u001b[1;31m---------------------------------------------------------------------------\u001b[0m",
      "\u001b[1;31mIndexError\u001b[0m                                Traceback (most recent call last)",
      "\u001b[1;32mc:\\Users\\Owner\\Desktop\\SEM 5\\IRS\\code_final.ipynb Cell 3\u001b[0m in \u001b[0;36m<cell line: 2>\u001b[1;34m()\u001b[0m\n\u001b[0;32m      <a href='vscode-notebook-cell:/c%3A/Users/Owner/Desktop/SEM%205/IRS/code_final.ipynb#W2sZmlsZQ%3D%3D?line=5'>6</a>\u001b[0m t \u001b[39m=\u001b[39m \u001b[39m1\u001b[39m\n\u001b[0;32m      <a href='vscode-notebook-cell:/c%3A/Users/Owner/Desktop/SEM%205/IRS/code_final.ipynb#W2sZmlsZQ%3D%3D?line=6'>7</a>\u001b[0m CFG[var] \u001b[39m=\u001b[39m []\n\u001b[1;32m----> <a href='vscode-notebook-cell:/c%3A/Users/Owner/Desktop/SEM%205/IRS/code_final.ipynb#W2sZmlsZQ%3D%3D?line=7'>8</a>\u001b[0m CFG[var]\u001b[39m.\u001b[39mappend(j[\u001b[39m0\u001b[39;49m]\u001b[39m.\u001b[39;49msplit(\u001b[39m\"\u001b[39;49m\u001b[39m â† \u001b[39;49m\u001b[39m\"\u001b[39;49m)[\u001b[39m1\u001b[39;49m])\n\u001b[0;32m      <a href='vscode-notebook-cell:/c%3A/Users/Owner/Desktop/SEM%205/IRS/code_final.ipynb#W2sZmlsZQ%3D%3D?line=8'>9</a>\u001b[0m \u001b[39mif\u001b[39;00m \u001b[39mlen\u001b[39m(j) \u001b[39m>\u001b[39m \u001b[39m1\u001b[39m:\n\u001b[0;32m     <a href='vscode-notebook-cell:/c%3A/Users/Owner/Desktop/SEM%205/IRS/code_final.ipynb#W2sZmlsZQ%3D%3D?line=9'>10</a>\u001b[0m     \u001b[39mwhile\u001b[39;00m (t \u001b[39m<\u001b[39m \u001b[39mlen\u001b[39m(j)):\n",
      "\u001b[1;31mIndexError\u001b[0m: list index out of range"
     ]
    }
   ],
   "source": [
    "CFG = {}\n",
    "for i in data:\n",
    "    print(i)\n",
    "    var = i[0]\n",
    "    j = i.split(' | ')\n",
    "    t = 1\n",
    "    CFG[var] = []\n",
    "    CFG[var].append(j[0].split(\" → \")[1])\n",
    "    if len(j) > 1:\n",
    "        while (t < len(j)):\n",
    "            CFG[var].append(j[t])\n",
    "            t += 1\n",
    "print(CFG)"
   ]
  },
  {
   "cell_type": "markdown",
   "id": "7e58d366",
   "metadata": {},
   "source": [
    "# Eliminate Unit Productions"
   ]
  },
  {
   "cell_type": "code",
   "execution_count": 5,
   "id": "cea7f585",
   "metadata": {},
   "outputs": [],
   "source": [
    "def remove_unit(CFG):\n",
    "    single_terminals = []\n",
    "    for i in CFG:\n",
    "        if len(CFG[i])==1 and CFG[i][0].islower():\n",
    "            single_terminals.append(i)\n",
    "    print(single_terminals)\n",
    "    # Now, checking if any of the single terminals are in RHS of any other state\n",
    "    while True:\n",
    "        changed = False\n",
    "        for i in CFG:\n",
    "            for j in CFG[i]:\n",
    "                for l in j:\n",
    "                    if l in single_terminals:\n",
    "                        k = single_terminals.index(l)\n",
    "                        CFG[i].append(j.replace(single_terminals[k], CFG[single_terminals[k]][0]))\n",
    "                        CFG[i].remove(j)\n",
    "                        if len(CFG[i])==1:\n",
    "                            single_terminals.append(i)\n",
    "                        print(single_terminals)\n",
    "                        changed = True\n",
    "        if not changed:\n",
    "            break\n",
    "    print(CFG)\n",
    "    return CFG"
   ]
  },
  {
   "cell_type": "code",
   "execution_count": 5,
   "id": "eb3a93f2",
   "metadata": {},
   "outputs": [
    {
     "name": "stdout",
     "output_type": "stream",
     "text": [
      "[]\n",
      "{'S': []}\n"
     ]
    }
   ],
   "source": [
    "CFG = remove_unit(CFG)"
   ]
  },
  {
   "attachments": {},
   "cell_type": "markdown",
   "id": "f8c39630",
   "metadata": {},
   "source": [
    "# Elimate Useless Productions"
   ]
  },
  {
   "cell_type": "code",
   "execution_count": 6,
   "id": "c8726648",
   "metadata": {},
   "outputs": [],
   "source": [
    "def remove_useless(CFG):\n",
    "    reachable_states = []\n",
    "    given_states = []\n",
    "    terminals = []\n",
    "    for i in CFG:\n",
    "        if i not in given_states:\n",
    "            given_states.append(i)\n",
    "        for j in CFG[i]:\n",
    "            for l in j:\n",
    "                if l not in reachable_states:\n",
    "                    if l.isupper():\n",
    "                        reachable_states.append(l)\n",
    "                    else:\n",
    "                        terminals.append(l)\n",
    "    print(reachable_states)\n",
    "    print(given_states)\n",
    "    print(terminals)\n",
    "    unreachable = []\n",
    "    for i in given_states:\n",
    "        if i==\"S\":\n",
    "            continue\n",
    "        elif i not in reachable_states:\n",
    "            unreachable.append(i)\n",
    "    print(unreachable)\n",
    "    for i in unreachable:\n",
    "        CFG.pop(i)\n",
    "    print(CFG)\n",
    "    return CFG"
   ]
  },
  {
   "cell_type": "code",
   "execution_count": 7,
   "id": "39405a54",
   "metadata": {},
   "outputs": [
    {
     "name": "stdout",
     "output_type": "stream",
     "text": [
      "['B']\n",
      "['S', 'A', 'B', 'C', 'D', 'E']\n",
      "['a', 'a', 'b', 'a', 'a', 'a', 'a']\n",
      "['A', 'C', 'D', 'E']\n",
      "{'S': ['aB'], 'B': ['b', 'a']}\n"
     ]
    }
   ],
   "source": [
    "CFG = remove_useless(CFG)"
   ]
  },
  {
   "cell_type": "markdown",
   "id": "28d91d7e",
   "metadata": {},
   "source": [
    "# Eliminate Null Productions"
   ]
  },
  {
   "cell_type": "code",
   "execution_count": 7,
   "id": "21d49262",
   "metadata": {},
   "outputs": [],
   "source": [
    "def remove_null(CFG):\n",
    "    # Step 1: Find nullable non-terminals\n",
    "    nullable = set()\n",
    "    for nonterm in CFG:\n",
    "        if '' in CFG[nonterm]:\n",
    "            nullable.add(nonterm)\n",
    "    while True:\n",
    "        new_nullable = set()\n",
    "        for nonterm, prods in CFG.items():\n",
    "            for prod in prods:\n",
    "                if all(s in nullable for s in prod):\n",
    "                    new_nullable.add(nonterm)\n",
    "                    break\n",
    "        if new_nullable == nullable:\n",
    "            break\n",
    "        nullable = new_nullable\n",
    "    \n",
    "    # Step 2: Construct new productions\n",
    "    new_prods = {}\n",
    "    for nonterm, prods in CFG.items():\n",
    "        new_prods[nonterm] = set()\n",
    "        for prod in prods:\n",
    "            new_prod = ['']\n",
    "            for s in prod:\n",
    "                if s in nullable:\n",
    "                    new_prod += [x + s for x in new_prod]\n",
    "                else:\n",
    "                    new_prod = [x + s for x in new_prod]\n",
    "            new_prods[nonterm] |= set(new_prod)\n",
    "    \n",
    "    # Step 3: Remove epsilon productions and return the new CFG\n",
    "    new_CFG = {}\n",
    "    for nonterm, prods in new_prods.items():\n",
    "        new_CFG[nonterm] = set()\n",
    "        for prod in prods:\n",
    "            if prod != '':\n",
    "                new_CFG[nonterm].add(prod)\n",
    "    return new_CFG\n"
   ]
  },
  {
   "cell_type": "code",
   "execution_count": 8,
   "id": "9aa4f8ea",
   "metadata": {},
   "outputs": [
    {
     "name": "stdout",
     "output_type": "stream",
     "text": [
      "S -> \n"
     ]
    }
   ],
   "source": [
    "#CFG = {'S':['AB'], 'A':['aAA','bB',''], 'B':['bBB','']}\n",
    "cfg = remove_null(CFG)\n",
    "for nonterm, prods in cfg.items():\n",
    "    print(nonterm, '->', ' | '.join(prods))\n"
   ]
  },
  {
   "cell_type": "code",
   "execution_count": 9,
   "id": "78cf1c90",
   "metadata": {},
   "outputs": [
    {
     "name": "stdout",
     "output_type": "stream",
     "text": [
      "S â†’ AB\n",
      "A â†’ a\n",
      "B â†’ C | b\n",
      "C â†’ D\n",
      "D â†’ E\n",
      "E â†’ a\n",
      "{'S': ['AB'], 'A': ['a'], 'B': ['C', 'b'], 'C': ['D'], 'D': ['E'], 'E': ['a']}\n"
     ]
    }
   ],
   "source": [
    "with open('input.txt') as f:\n",
    "    data = f.read().splitlines()\n",
    "CFG = {}\n",
    "for i in data:\n",
    "    print(i)\n",
    "    var = i[0]\n",
    "    j = i.split(' | ')\n",
    "    t = 1\n",
    "    CFG[var] = []\n",
    "    CFG[var].append(j[0].split(\" â†’ \")[1])\n",
    "    if len(j) > 1:\n",
    "        while (t < len(j)):\n",
    "            CFG[var].append(j[t])\n",
    "            t += 1\n",
    "print(CFG)"
   ]
  },
  {
   "cell_type": "code",
   "execution_count": 14,
   "id": "add7a434",
   "metadata": {},
   "outputs": [
    {
     "name": "stdout",
     "output_type": "stream",
     "text": [
      "[]\n",
      "{'S': ['aB'], 'B': ['b', 'a']}\n",
      "['B']\n",
      "['S', 'B']\n",
      "['a', 'b', 'a']\n",
      "[]\n",
      "{'S': ['aB'], 'B': ['b', 'a']}\n",
      "{'S': ['aB'], 'B': ['a', 'b']}\n",
      "\n",
      "\n",
      "\n",
      "S -> aB\n",
      "B -> a | b\n"
     ]
    }
   ],
   "source": [
    "cfg1 = remove_unit(CFG)\n",
    "cfg2 = remove_useless(cfg1)\n",
    "cfg3 = remove_null(cfg2)\n",
    "# convert cfg3 from set in dict to list in dict\n",
    "for nonterm, prods in cfg3.items():\n",
    "    cfg3[nonterm] = list(prods)\n",
    "     \n",
    "print(cfg3)\n",
    "print(\"\\n\\n\")\n",
    "for nonterm, prods in cfg3.items():\n",
    "    print(nonterm, '->', ' | '.join(prods))"
   ]
  },
  {
   "cell_type": "code",
   "execution_count": 30,
   "id": "77d8a2f6",
   "metadata": {},
   "outputs": [
    {
     "name": "stdout",
     "output_type": "stream",
     "text": [
      "<class 'dict'>\n"
     ]
    }
   ],
   "source": [
    "print(type(cfg3))"
   ]
  },
  {
   "cell_type": "code",
   "execution_count": null,
   "id": "da04f8e5",
   "metadata": {},
   "outputs": [],
   "source": [
    "s = 'aB'\n",
    "# sort s\n",
    "s = ''.join(sorted(s))"
   ]
  },
  {
   "cell_type": "code",
   "execution_count": null,
   "id": "f7d45811",
   "metadata": {},
   "outputs": [],
   "source": []
  },
  {
   "cell_type": "code",
   "execution_count": 20,
   "id": "65bc6bef",
   "metadata": {},
   "outputs": [
    {
     "name": "stdout",
     "output_type": "stream",
     "text": [
      "<class 'dict'>\n",
      "['bA', 'aB', 'bAA', 'aS', 'aBB', 'bSSS']\n",
      "bA\n",
      "b is lower bA\n",
      "replace b with C in bA to get CA\n",
      "aB\n",
      "a is lower aB\n",
      "replace a with D in aB to get DB\n",
      "['CA']\n",
      "bAA\n",
      "b is lower bAA\n",
      "replace b with C in bAA to get CAA\n",
      "aS\n",
      "a is lower aS\n",
      "replace a with D in aS to get DS\n",
      "['CAA']\n",
      "a\n",
      "aBB\n",
      "a is lower aBB\n",
      "replace a with D in aBB to get DBB\n",
      "bSSS\n",
      "b is lower bSSS\n",
      "replace b with C in bSSS to get CSSS\n",
      "['DBB']\n",
      "b\n",
      "{'S': ['CA', 'DB'], 'C': ['b'], 'D': ['a'], 'A': ['CAA', 'DS', 'a'], 'B': ['DBB', 'CSSS', 'b']}\n"
     ]
    }
   ],
   "source": [
    "def cfg_to_cnf(cfg):\n",
    "    # we will start by Eliminate terminals from the RHS of the production if they exist with other non-terminals or terminals\n",
    "    # In the production rule S0 → aA | Aa, S → aA | Aa, A → aBB and B → Aa, terminal a exists on RHS with non-terminals. So we will replace terminal a with X\n",
    "    simple = cfg.copy()\n",
    "    dimple = {}\n",
    "    print(type(simple))\n",
    "    variablejar = ['A', 'B', 'C', 'D', 'E', 'F', 'G', 'H', 'I', 'J', 'K', 'L', 'M', 'N', 'O', 'P', 'Q', 'R', 'S', 'T', 'U', 'V', 'W', 'X', 'Y', 'Z']\n",
    "    # pop used variables for the variablejar\n",
    "    for i in cfg:\n",
    "        if i in variablejar:\n",
    "            variablejar.remove(i)\n",
    "    # find mixed productions\n",
    "    mixed = []\n",
    "    for i in cfg:\n",
    "        for j in cfg[i]:\n",
    "            if (len(j)>1):\n",
    "                s1 = sorted(j)\n",
    "                if s1[0].isupper() and s1[len(s1)-1].islower():\n",
    "                    mixed.append(j)\n",
    "    print(mixed)\n",
    "    mapped_terminal = {}\n",
    "   \n",
    "    for key , prods in simple.items():\n",
    "            for prod1 in prods:\n",
    "                # prod = ''.join(sorted(prod1))\n",
    "                print(prod1)\n",
    "                if prod1 in mixed:\n",
    "                    # find terminal symbol and map it to a new variable\n",
    "                    # add that new mapping to the CFG\n",
    "                    # replace the terminal symbol with the new variable\n",
    "                    for i in prod1:\n",
    "                        if i.islower():\n",
    "                            print(i, \"is lower\", prod1)\n",
    "                            newvar = variablejar.pop(0)\n",
    "                            if (i not in mapped_terminal):\n",
    "                                mapped_terminal[i] = newvar\n",
    "                            else:\n",
    "                                newvar = mapped_terminal[i]\n",
    "                                \n",
    "                            tem_prods = simple[key].copy()\n",
    "                            tem_prods.remove(prod1)\n",
    "                            tobeadded  = prod1.replace(i, newvar)\n",
    "                            print(\"replace\", i, \"with\", newvar, \"in\", prod1, \"to get\", tobeadded)\n",
    "                            tem_prods.append(tobeadded)\n",
    "                            if key in dimple:\n",
    "                                print(dimple[key])\n",
    "                                dimple[key].append(tobeadded)\n",
    "                            else:\n",
    "                                dimple[key] = [tobeadded]\n",
    "                            if newvar in dimple:\n",
    "                                dimple[newvar].append(i)\n",
    "                            dimple[newvar] = [i]\n",
    "                else: \n",
    "                    if key in dimple:\n",
    "                        dimple[key].append(prod1)\n",
    "                    else:\n",
    "                        dimple[key] = [prod1]\n",
    "                            \n",
    "    print(dimple)\n",
    "    return dimple\n",
    "#CFG = {'S': ['AB'], 'A': ['a'], 'B': ['C', 'b'], 'C': ['D'], 'D': ['E'], 'E': ['a']}\n",
    "cfg3 = {'S':['bA','aB'], 'A':['bAA','aS','a'], 'B':['aBB','bSSS','b']}\n",
    "cfg3 = cfg_to_cnf(cfg3)"
   ]
  },
  {
   "cell_type": "code",
   "execution_count": 21,
   "id": "1475e842",
   "metadata": {},
   "outputs": [
    {
     "name": "stdout",
     "output_type": "stream",
     "text": [
      "setting E -> CA\n",
      "reseting ( A ->  CAA ) to  A  ->  EA\n",
      "setting F -> DB\n",
      "reseting ( B ->  DBB ) to  B  ->  FB\n",
      "setting G -> CS\n",
      "reseting ( B ->  CSSS ) to  B  ->  GSS\n",
      "{'S': ['CA', 'DB'], 'C': ['b'], 'D': ['a'], 'E': ['CA'], 'A': ['EA', 'DS', 'a'], 'F': ['DB'], 'B': ['GSS', 'b'], 'G': ['CS']}\n",
      "setting H -> GS\n",
      "reseting ( B ->  GSS ) to  B  ->  HS\n",
      "{'S': ['CA', 'DB'], 'C': ['b'], 'D': ['a'], 'E': ['CA'], 'A': ['EA', 'DS', 'a'], 'F': ['DB'], 'H': ['GS'], 'B': ['HS', 'b'], 'G': ['CS']}\n"
     ]
    }
   ],
   "source": [
    "# function to remove long productions\n",
    "\n",
    "def generate_new_var(cfg, mfg):\n",
    "    # generate new variable for first two symbols\n",
    "    variablejar = ['A', 'B', 'C', 'D', 'E', 'F', 'G', 'H', 'I', 'J', 'K', 'L', 'M', 'N', 'O', 'P', 'Q', 'R', 'S', 'T', 'U', 'V', 'W', 'X', 'Y', 'Z']\n",
    "    # pop used variables for the variablejar\n",
    "    for i in cfg:\n",
    "        if i in variablejar:\n",
    "            variablejar.remove(i)\n",
    "    for i in mfg:\n",
    "        if i in variablejar:\n",
    "            variablejar.remove(i)\n",
    "    newvar = variablejar.pop(0)\n",
    "    return newvar\n",
    "\n",
    "def remove_long(CFG):\n",
    "    MFG = {}\n",
    "    \n",
    "    for nonterm, prods in CFG.items():\n",
    "        for prod in prods:\n",
    "            if len(prod) > 2:\n",
    "                # generate new variable for first two symbols\n",
    "                # MFG[generate_new_var(CFG)] = [prod[0:2]]\n",
    "                newVar = generate_new_var(CFG, MFG)\n",
    "                print(\"setting\", newVar, \"->\", prod[0:2])\n",
    "                \n",
    "                MFG[newVar] = [prod[0:2]]\n",
    "                MFG[nonterm] = [newVar+prod[2:]]\n",
    "                print(\"reseting (\", nonterm, \"-> \",prod,\") to \",nonterm,\" -> \", newVar+prod[2:])\n",
    "            else:\n",
    "                if nonterm in MFG:\n",
    "                    MFG[nonterm].append(prod)\n",
    "                else:\n",
    "                    MFG[nonterm] = [prod]\n",
    "                 \n",
    "                \n",
    "    print(MFG)\n",
    "    return MFG\n",
    "\n",
    "\n",
    "# cfg3 = {'S': ['CA', 'DB'], 'C': ['b'], 'D': ['a'], 'A': ['CAA', 'DS'], 'B': ['DBBBQWE', 'CS']}\n",
    "cfg4=remove_long(cfg3)\n",
    "while (not checker(cfg4)):\n",
    "    cfg4 = remove_long(cfg4)"
   ]
  },
  {
   "cell_type": "code",
   "execution_count": 19,
   "id": "e25d34e8",
   "metadata": {},
   "outputs": [],
   "source": [
    "cfg3 = {'S': ['CA', 'DB'], 'C': ['b'], 'D': ['a'], 'A': ['CAA', 'DS'], 'B': ['DBB', 'CS']}"
   ]
  },
  {
   "cell_type": "code",
   "execution_count": 23,
   "id": "0585e45d",
   "metadata": {},
   "outputs": [
    {
     "data": {
      "text/plain": [
       "False"
      ]
     },
     "execution_count": 23,
     "metadata": {},
     "output_type": "execute_result"
    }
   ],
   "source": [
    "\"aA\".isupper()"
   ]
  },
  {
   "cell_type": "code",
   "execution_count": 18,
   "metadata": {},
   "outputs": [
    {
     "name": "stdout",
     "output_type": "stream",
     "text": [
      "False\n"
     ]
    }
   ],
   "source": [
    "def checker(cfg3):\n",
    "    for i in cfg3:\n",
    "        for j in cfg3[i]:\n",
    "            if j.islower() and len(j)==1:\n",
    "                continue\n",
    "            elif j.isupper() and len(j)==2:\n",
    "                continue\n",
    "            else:\n",
    "                return False\n",
    "    return True\n",
    "            \n",
    "print(checker(cfg4))"
   ]
  },
  {
   "cell_type": "markdown",
   "id": "529f35ac",
   "metadata": {},
   "source": [
    "# Plot the finite Automata"
   ]
  },
  {
   "cell_type": "code",
   "execution_count": 19,
   "id": "73953019",
   "metadata": {},
   "outputs": [],
   "source": [
    "import graphviz\n",
    "\n",
    "def plot_automaton(grammar):\n",
    "    \"\"\"Plot the finite automaton corresponding to a CFG.\"\"\"\n",
    "    # Create a new graph\n",
    "    graph = graphviz.Digraph(format='png')\n",
    "\n",
    "    # Add states and transitions for each production in the CFG\n",
    "    for var, prods in grammar.items():\n",
    "        # Add the state for the variable\n",
    "        graph.node(var)\n",
    "        for prod in prods:\n",
    "            # If the production is a single terminal symbol, add a transition to a new dummy state\n",
    "            if len(prod) == 1 and prod[0].islower():\n",
    "                graph.edge(var, 'D0', label=prod[0])\n",
    "            else:\n",
    "                # Add a transition for each symbol in the production\n",
    "                for i in range(len(prod)):\n",
    "                    graph.edge(var, prod[i])\n",
    "                    # If the symbol is a nonterminal that produces a single terminal symbol, add a transition to a dummy state\n",
    "                    if len(prod[i]) == 1 and prod[i].islower():\n",
    "                        graph.edge(prod[i], 'D0', label=prod[i])\n",
    "\n",
    "    # Add a dummy state for single-terminal productions\n",
    "    graph.node('D0', shape='diamond')\n",
    "\n",
    "    # Set the graph attributes\n",
    "    graph.attr(rankdir='LR', size='8,5')\n",
    "\n",
    "    # Render and display the graph\n",
    "    graph.render(directory=\"C:\\\\Users\\\\DEVANSH\\\\Downloads\\\\THOC_Innovative\", view=True)  \n",
    "    print(graph)"
   ]
  },
  {
   "cell_type": "code",
   "execution_count": 20,
   "id": "59558491",
   "metadata": {},
   "outputs": [
    {
     "name": "stdout",
     "output_type": "stream",
     "text": [
      "digraph {\n",
      "\tS\n",
      "\tS -> a\n",
      "\ta -> D0 [label=a]\n",
      "\tS -> B\n",
      "\tB\n",
      "\tB -> D0 [label=b]\n",
      "\tB -> D0 [label=a]\n",
      "\tD0 [shape=diamond]\n",
      "\trankdir=LR size=\"8,5\"\n",
      "}\n",
      "\n"
     ]
    }
   ],
   "source": [
    "plot_automaton(cfg)"
   ]
  },
  {
   "cell_type": "code",
   "execution_count": null,
   "id": "7b1e9a95",
   "metadata": {},
   "outputs": [],
   "source": []
  }
 ],
 "metadata": {
  "kernelspec": {
   "display_name": "Python 3 (ipykernel)",
   "language": "python",
   "name": "python3"
  },
  "language_info": {
   "codemirror_mode": {
    "name": "ipython",
    "version": 3
   },
   "file_extension": ".py",
   "mimetype": "text/x-python",
   "name": "python",
   "nbconvert_exporter": "python",
   "pygments_lexer": "ipython3",
   "version": "3.10.5"
  }
 },
 "nbformat": 4,
 "nbformat_minor": 5
}
