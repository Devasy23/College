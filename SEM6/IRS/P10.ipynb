{
  "cells": [
    {
      "attachments": {},
      "cell_type": "markdown",
      "metadata": {
        "id": "4zkIRrTRMe_P"
      },
      "source": [
        "# Devasy Patel\n",
        "# Practical 10\n",
        "## 20BCE057\n",
        "## Date : 1/05/2023\n",
        "\n",
        "## AIM\n",
        "- Implement the Soundex algorithm. Your code should generate four-character codes based on the pronunciation of English words."
      ]
    },
    {
      "cell_type": "markdown",
      "metadata": {
        "id": "ka49jiNPcE82"
      },
      "source": [
        "# Soundex rules"
      ]
    },
    {
      "cell_type": "code",
      "execution_count": 1,
      "metadata": {
        "id": "A5g4SIPecG5w"
      },
      "outputs": [],
      "source": [
        "rules = {\n",
        "    **{ch: 0 for ch in 'AEIOU'},\n",
        "    **{ch: 1 for ch in 'BFPV'},\n",
        "    **{ch: 2 for ch in 'CGJKQSXZ'},\n",
        "    **{ch: 3 for ch in 'DT'},\n",
        "    **{ch: 4 for ch in 'L'},\n",
        "    **{ch: 5 for ch in 'MN'},\n",
        "    **{ch: 6 for ch in 'R'}\n",
        "}"
      ]
    },
    {
      "cell_type": "code",
      "execution_count": 2,
      "metadata": {
        "id": "1ik_sOk4dkgV"
      },
      "outputs": [],
      "source": [
        "def step1(string):\n",
        "    return [string[0].upper(), *(rules[ch] for ch in string[1:].upper() if ch in rules)]"
      ]
    },
    {
      "cell_type": "code",
      "execution_count": 3,
      "metadata": {
        "colab": {
          "base_uri": "https://localhost:8080/"
        },
        "id": "aTjcsTAdd1I5",
        "outputId": "205e5f76-73e1-40e2-eef6-443f2558a802"
      },
      "outputs": [
        {
          "data": {
            "text/plain": [
              "['H', 0, 4, 4, 0, 0, 6, 4, 3]"
            ]
          },
          "execution_count": 3,
          "metadata": {},
          "output_type": "execute_result"
        }
      ],
      "source": [
        "step1('Hello World')"
      ]
    },
    {
      "cell_type": "code",
      "execution_count": 4,
      "metadata": {
        "id": "2jbAXQCxf53f"
      },
      "outputs": [],
      "source": [
        "def step2(arr):\n",
        "    ch = None\n",
        "    ret = []\n",
        "\n",
        "    for c in arr:\n",
        "        if c == ch:\n",
        "            continue\n",
        "        else:\n",
        "            ch = c\n",
        "            ret.append(c)\n",
        "    \n",
        "    return ret"
      ]
    },
    {
      "cell_type": "code",
      "execution_count": 5,
      "metadata": {
        "colab": {
          "base_uri": "https://localhost:8080/"
        },
        "id": "baK9jdoXgKbI",
        "outputId": "eb576f87-cbc8-4691-dfdb-36fd8d533ab0"
      },
      "outputs": [
        {
          "data": {
            "text/plain": [
              "['H', 0, 4, 0, 6, 4, 3]"
            ]
          },
          "execution_count": 5,
          "metadata": {},
          "output_type": "execute_result"
        }
      ],
      "source": [
        "step2(step1('Hello World'))"
      ]
    },
    {
      "cell_type": "code",
      "execution_count": null,
      "metadata": {
        "id": "D2BMUvXIgSy2"
      },
      "outputs": [],
      "source": [
        "def step3(arr):\n",
        "    return [a for a in arr if a != 0]"
      ]
    },
    {
      "cell_type": "code",
      "execution_count": null,
      "metadata": {
        "colab": {
          "base_uri": "https://localhost:8080/"
        },
        "id": "Ws2oWS27gqRn",
        "outputId": "46df13e3-0c75-48e1-d48c-cbbafefba3e9"
      },
      "outputs": [
        {
          "data": {
            "text/plain": [
              "['H', 4, 6, 4, 3]"
            ]
          },
          "execution_count": 16,
          "metadata": {},
          "output_type": "execute_result"
        }
      ],
      "source": [
        "step3(step2(step1('Hello World')))"
      ]
    },
    {
      "cell_type": "code",
      "execution_count": null,
      "metadata": {
        "id": "mGy5nJr-gvNq"
      },
      "outputs": [],
      "source": [
        "def step4(arr):\n",
        "    if len(arr) < 4:\n",
        "        return arr + [0] * (4 - len(arr))\n",
        "    else:\n",
        "        return arr[:4]"
      ]
    },
    {
      "cell_type": "code",
      "execution_count": null,
      "metadata": {
        "colab": {
          "base_uri": "https://localhost:8080/"
        },
        "id": "X6iOb56Zg1-9",
        "outputId": "d58a5091-69ad-4e81-ec03-4ec9fd6c1aca"
      },
      "outputs": [
        {
          "data": {
            "text/plain": [
              "['H', 4, 6, 4]"
            ]
          },
          "execution_count": 21,
          "metadata": {},
          "output_type": "execute_result"
        }
      ],
      "source": [
        "step4(step3(step2(step1('Hello World'))))"
      ]
    },
    {
      "cell_type": "markdown",
      "metadata": {
        "id": "r8AjZixVhB1O"
      },
      "source": [
        "# SOUNDEX ALGORITHM"
      ]
    },
    {
      "cell_type": "code",
      "execution_count": null,
      "metadata": {
        "id": "sxT0K54shBaw"
      },
      "outputs": [],
      "source": [
        "def soundex(string):\n",
        "    return ''.join([str(x) for x in step4(step3(step2(step1(string))))])"
      ]
    },
    {
      "cell_type": "code",
      "execution_count": null,
      "metadata": {
        "colab": {
          "base_uri": "https://localhost:8080/"
        },
        "id": "FTjW9dTzhKZ3",
        "outputId": "cfe00df6-15a5-45e3-faee-9cb864d1b125"
      },
      "outputs": [
        {
          "data": {
            "text/plain": [
              "('H464', 'H464')"
            ]
          },
          "execution_count": 28,
          "metadata": {},
          "output_type": "execute_result"
        }
      ],
      "source": [
        "soundex('Hello World'), soundex('helo wrld')"
      ]
    }
  ],
  "metadata": {
    "colab": {
      "provenance": [],
      "toc_visible": true
    },
    "gpuClass": "standard",
    "kernelspec": {
      "display_name": "Python 3",
      "name": "python3"
    },
    "language_info": {
      "codemirror_mode": {
        "name": "ipython",
        "version": 3
      },
      "file_extension": ".py",
      "mimetype": "text/x-python",
      "name": "python",
      "nbconvert_exporter": "python",
      "pygments_lexer": "ipython3",
      "version": "3.10.5"
    }
  },
  "nbformat": 4,
  "nbformat_minor": 0
}
