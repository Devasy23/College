{
 "cells": [
  {
   "attachments": {},
   "cell_type": "markdown",
   "metadata": {},
   "source": [
    "# Name : Devasy Patel\n",
    "# Roll No: 20BCE057\n",
    "# Title: Text Preprocessing using NLTK  \n",
    "\n",
    "# AND , OR, NOT operations on boolean retrieval model\n",
    "\n"
   ]
  },
  {
   "cell_type": "code",
   "execution_count": 1,
   "metadata": {},
   "outputs": [
    {
     "name": "stdout",
     "output_type": "stream",
     "text": [
      "[]\n",
      "['doc1', 'doc2', 'doc3', 'doc5', 'doc6', 'doc8', 'doc10']\n",
      "Sparsity: 0.54\n"
     ]
    }
   ],
   "source": [
    "import numpy as np\n",
    "\n",
    "# Define the term-document incidence matrix\n",
    "matrix = np.array([[1, 0, 1, 0, 1, 0, 0, 1, 0, 1],\n",
    "                   [0, 1, 1, 0, 0, 1, 0, 1, 0, 1],\n",
    "                   [0, 0, 0, 1, 0, 1, 0, 1, 1, 1],\n",
    "                   [1, 1, 0, 1, 0, 0, 1, 0, 0, 0],\n",
    "                   [0, 0, 0, 0, 1, 1, 1, 0, 0, 1]])\n",
    "\n",
    "# Define the vocabulary of terms\n",
    "vocabulary = ['term1', 'term2', 'term3', 'term4', 'term5']\n",
    "\n",
    "# Define the documents\n",
    "documents = ['doc1', 'doc2', 'doc3', 'doc4', 'doc5', 'doc6', 'doc7', 'doc8', 'doc9', 'doc10']\n",
    "\n",
    "\n",
    "\n",
    "# Define the OR query\n",
    "def OR_query(query):\n",
    "    query_vector = np.zeros(matrix.shape[1], dtype=int)\n",
    "    for term in query:\n",
    "        if term in vocabulary:\n",
    "            term_index = vocabulary.index(term)\n",
    "            query_vector = np.logical_or(query_vector, matrix[term_index])\n",
    "    return [documents[i] for i in range(len(query_vector)) if query_vector[i] == 1]\n",
    "\n",
    "# Example usage\n",
    "print(AND_query(['term1', 'term2']))\n",
    "print(OR_query(['term1', 'term2']))\n",
    "\n",
    "# Calculate sparsity value\n",
    "sparsity = 1.0 - np.count_nonzero(matrix) / matrix.size\n",
    "print(\"Sparsity:\", sparsity)\n"
   ]
  },
  {
   "cell_type": "code",
   "execution_count": 23,
   "metadata": {},
   "outputs": [],
   "source": [
    "# now sentences are \n",
    "sentences = [\"Victory is ensured when there is learning involved\",\n",
    "\"The youth of Rajasthan always come ahead of the rest when it comes to the security of the nation\",\n",
    "\"The successful organisation of Jaipur Mahakhel is the next important link towards India's efforts\",\n",
    "\"The country is forging new definitions and creating a new order in the Amrit Kaal\"\t,\n",
    "\"The Sports Budget of the country has increased almost three times since 2014\"\t,\n",
    "\"Sports universities are being set up in the country, and big events like Khel Mahakumbh are also being organised in a professional manner\"\t,\n",
    "\"Our government is attentive that no youth should be left behind due to lack of money\"\t,\n",
    "\"You will be fit, only then you will be superhit\"\t,\n",
    "\"Rajasthan's Shree Anna-Bajra and Shree Anna-Jwala are the best examples of this\"\t,\n",
    "\"The next gold and silver medalists for the country will emerge from among you\"]\n"
   ]
  },
  {
   "cell_type": "code",
   "execution_count": 24,
   "metadata": {},
   "outputs": [
    {
     "name": "stdout",
     "output_type": "stream",
     "text": [
      "creating\n",
      "come\n",
      "definitions\n",
      "will\n",
      "almost\n",
      "Anna-Jwala\n",
      "and\n",
      "Our\n",
      "comes\n",
      "Anna-Bajra\n",
      "nation\n",
      "Sports\n",
      "events\n",
      "The\n",
      "medalists\n",
      "2014\n",
      "forging\n",
      "for\n",
      "You\n",
      "Shree\n",
      "Jaipur\n",
      "are\n",
      "of\n",
      "from\n",
      "Khel\n",
      "since\n",
      "lack\n",
      "then\n",
      "organisation\n",
      "successful\n",
      "should\n",
      "next\n",
      "country\n",
      "a\n",
      "left\n",
      "to\n",
      "rest\n",
      "among\n",
      "learning\n",
      "also\n",
      "always\n",
      "due\n",
      "new\n",
      "emerge\n",
      "money\n",
      "Victory\n",
      "towards\n",
      "is\n",
      "gold\n",
      "in\n",
      "India's\n",
      "three\n",
      "country,\n",
      "universities\n",
      "that\n",
      "this\n",
      "involved\n",
      "silver\n",
      "increased\n",
      "times\n",
      "security\n",
      "has\n",
      "Mahakumbh\n",
      "being\n",
      "youth\n",
      "no\n",
      "Mahakhel\n",
      "efforts\n",
      "big\n",
      "like\n",
      "when\n",
      "Rajasthan's\n",
      "link\n",
      "up\n",
      "best\n",
      "manner\n",
      "it\n",
      "Kaal\n",
      "ensured\n",
      "organised\n",
      "Rajasthan\n",
      "only\n",
      "there\n",
      "be\n",
      "the\n",
      "order\n",
      "important\n",
      "behind\n",
      "examples\n",
      "set\n",
      "ahead\n",
      "attentive\n",
      "fit,\n",
      "you\n",
      "professional\n",
      "Budget\n",
      "superhit\n",
      "government\n",
      "Amrit\n",
      "['creating', 'come', 'definitions', 'will', 'almost', 'anna-jwala', 'and', 'our', 'comes', 'anna-bajra', 'nation', 'sports', 'events', 'the', 'medalists', '2014', 'forging', 'for', 'you', 'shree', 'jaipur', 'are', 'of', 'from', 'khel', 'since', 'lack', 'then', 'organisation', 'successful', 'should', 'next', 'country', 'a', 'left', 'to', 'rest', 'among', 'learning', 'also', 'always', 'due', 'new', 'emerge', 'money', 'victory', 'towards', 'is', 'gold', 'in', 'india', 'three', 'universities', 'that', 'this', 'involved', 'silver', 'increased', 'times', 'security', 'has', 'mahakumbh', 'being', 'youth', 'no', 'mahakhel', 'efforts', 'big', 'like', 'when', 'rajasthan', 'link', 'up', 'best', 'manner', 'it', 'kaal', 'ensured', 'organised', 'only', 'there', 'be', 'order', 'important', 'behind', 'examples', 'set', 'ahead', 'attentive', 'fit', 'professional', 'budget', 'superhit', 'government', 'amrit']\n"
     ]
    }
   ],
   "source": [
    "def get_vocab(sentences):\n",
    "    vocab = set()\n",
    "    for sentence in sentences:\n",
    "        for word in sentence.split():\n",
    "            vocab.add(word)\n",
    "    return list(vocab)\n",
    "\n",
    "vocabulary = get_vocab(sentences)\n",
    "vocabulary = vocab_preprocess(vocabulary)\n",
    "print(vocabulary)"
   ]
  },
  {
   "cell_type": "code",
   "execution_count": 28,
   "metadata": {},
   "outputs": [
    {
     "data": {
      "text/plain": [
       "array([[0, 0, 0, 0, 0, 0, 0, 0, 0, 0, 0, 0, 0, 0, 0, 0, 0, 0, 0, 0, 0, 0,\n",
       "        0, 0, 0, 0, 0, 0, 0, 0, 0, 0, 0, 0, 0, 0, 0, 0, 1, 0, 0, 0, 0, 0,\n",
       "        0, 1, 0, 1, 0, 0, 0, 0, 0, 0, 0, 1, 0, 0, 0, 0, 0, 0, 0, 0, 0, 0,\n",
       "        0, 0, 0, 1, 0, 0, 0, 0, 0, 0, 0, 1, 0, 0, 1, 0, 0, 0, 0, 0, 0, 0,\n",
       "        0, 0, 0, 0, 0, 0, 0],\n",
       "       [0, 1, 0, 0, 0, 0, 0, 0, 1, 0, 1, 0, 0, 1, 0, 0, 0, 0, 0, 0, 0, 0,\n",
       "        1, 0, 0, 0, 0, 0, 0, 0, 0, 0, 0, 0, 0, 1, 1, 0, 0, 0, 1, 0, 0, 0,\n",
       "        0, 0, 0, 0, 0, 0, 0, 0, 0, 0, 0, 0, 0, 0, 0, 1, 0, 0, 0, 1, 0, 0,\n",
       "        0, 0, 0, 1, 1, 0, 0, 0, 0, 1, 0, 0, 0, 0, 0, 0, 0, 0, 0, 0, 0, 1,\n",
       "        0, 0, 0, 0, 0, 0, 0],\n",
       "       [0, 0, 0, 0, 0, 0, 0, 0, 0, 0, 0, 0, 0, 1, 0, 0, 0, 0, 0, 0, 1, 0,\n",
       "        1, 0, 0, 0, 0, 0, 1, 1, 0, 1, 0, 0, 0, 0, 0, 0, 0, 0, 0, 0, 0, 0,\n",
       "        0, 0, 1, 1, 0, 0, 1, 0, 0, 0, 0, 0, 0, 0, 0, 0, 0, 0, 0, 0, 0, 1,\n",
       "        1, 0, 0, 0, 0, 1, 0, 0, 0, 0, 0, 0, 0, 0, 0, 0, 0, 1, 0, 0, 0, 0,\n",
       "        0, 0, 0, 0, 0, 0, 0],\n",
       "       [1, 0, 1, 0, 0, 0, 1, 0, 0, 0, 0, 0, 0, 1, 0, 0, 1, 0, 0, 0, 0, 0,\n",
       "        0, 0, 0, 0, 0, 0, 0, 0, 0, 0, 1, 1, 0, 0, 0, 0, 0, 0, 0, 0, 1, 0,\n",
       "        0, 0, 0, 1, 0, 1, 0, 0, 0, 0, 0, 0, 0, 0, 0, 0, 0, 0, 0, 0, 0, 0,\n",
       "        0, 0, 0, 0, 0, 0, 0, 0, 0, 0, 1, 0, 0, 0, 0, 0, 1, 0, 0, 0, 0, 0,\n",
       "        0, 0, 0, 0, 0, 0, 1],\n",
       "       [0, 0, 0, 0, 1, 0, 0, 0, 0, 0, 0, 1, 0, 1, 0, 1, 0, 0, 0, 0, 0, 0,\n",
       "        1, 0, 0, 1, 0, 0, 0, 0, 0, 0, 1, 0, 0, 0, 0, 0, 0, 0, 0, 0, 0, 0,\n",
       "        0, 0, 0, 0, 0, 0, 0, 1, 0, 0, 0, 0, 0, 1, 1, 0, 1, 0, 0, 0, 0, 0,\n",
       "        0, 0, 0, 0, 0, 0, 0, 0, 0, 0, 0, 0, 0, 0, 0, 0, 0, 0, 0, 0, 0, 0,\n",
       "        0, 0, 0, 1, 0, 0, 0],\n",
       "       [0, 0, 0, 0, 0, 0, 1, 0, 0, 0, 0, 1, 1, 1, 0, 0, 0, 0, 0, 0, 0, 1,\n",
       "        0, 0, 1, 0, 0, 0, 0, 0, 0, 0, 1, 1, 0, 0, 0, 0, 0, 1, 0, 0, 0, 0,\n",
       "        0, 0, 0, 0, 0, 1, 0, 0, 1, 0, 0, 0, 0, 0, 0, 0, 0, 1, 1, 0, 0, 0,\n",
       "        0, 1, 1, 0, 0, 0, 1, 0, 1, 0, 0, 0, 1, 0, 0, 0, 0, 0, 0, 0, 1, 0,\n",
       "        0, 0, 1, 0, 0, 0, 0],\n",
       "       [0, 0, 0, 0, 0, 0, 0, 1, 0, 0, 0, 0, 0, 0, 0, 0, 0, 0, 0, 0, 0, 0,\n",
       "        1, 0, 0, 0, 1, 0, 0, 0, 1, 0, 0, 0, 1, 1, 0, 0, 0, 0, 0, 1, 0, 0,\n",
       "        1, 0, 0, 1, 0, 0, 0, 0, 0, 1, 0, 0, 0, 0, 0, 0, 0, 0, 0, 1, 1, 0,\n",
       "        0, 0, 0, 0, 0, 0, 0, 0, 0, 0, 0, 0, 0, 0, 0, 1, 0, 0, 1, 0, 0, 0,\n",
       "        1, 0, 0, 0, 0, 1, 0],\n",
       "       [0, 0, 0, 1, 0, 0, 0, 0, 0, 0, 0, 0, 0, 0, 0, 0, 0, 0, 1, 0, 0, 0,\n",
       "        0, 0, 0, 0, 0, 1, 0, 0, 0, 0, 0, 0, 0, 0, 0, 0, 0, 0, 0, 0, 0, 0,\n",
       "        0, 0, 0, 0, 0, 0, 0, 0, 0, 0, 0, 0, 0, 0, 0, 0, 0, 0, 0, 0, 0, 0,\n",
       "        0, 0, 0, 0, 0, 0, 0, 0, 0, 0, 0, 0, 0, 1, 0, 1, 0, 0, 0, 0, 0, 0,\n",
       "        0, 1, 0, 0, 1, 0, 0],\n",
       "       [0, 0, 0, 0, 0, 1, 1, 0, 0, 1, 0, 0, 0, 1, 0, 0, 0, 0, 0, 1, 0, 1,\n",
       "        1, 0, 0, 0, 0, 0, 0, 0, 0, 0, 0, 0, 0, 0, 0, 0, 0, 0, 0, 0, 0, 0,\n",
       "        0, 0, 0, 0, 0, 0, 0, 0, 0, 0, 1, 0, 0, 0, 0, 0, 0, 0, 0, 0, 0, 0,\n",
       "        0, 0, 0, 0, 1, 0, 0, 1, 0, 0, 0, 0, 0, 0, 0, 0, 0, 0, 0, 1, 0, 0,\n",
       "        0, 0, 0, 0, 0, 0, 0],\n",
       "       [0, 0, 0, 1, 0, 0, 1, 0, 0, 0, 0, 0, 0, 1, 1, 0, 0, 1, 1, 0, 0, 0,\n",
       "        0, 1, 0, 0, 0, 0, 0, 0, 0, 1, 1, 0, 0, 0, 0, 1, 0, 0, 0, 0, 0, 1,\n",
       "        0, 0, 0, 0, 1, 0, 0, 0, 0, 0, 0, 0, 1, 0, 0, 0, 0, 0, 0, 0, 0, 0,\n",
       "        0, 0, 0, 0, 0, 0, 0, 0, 0, 0, 0, 0, 0, 0, 0, 0, 0, 0, 0, 0, 0, 0,\n",
       "        0, 0, 0, 0, 0, 0, 0]])"
      ]
     },
     "execution_count": 28,
     "metadata": {},
     "output_type": "execute_result"
    }
   ],
   "source": [
    "def get_matrix(sentences, vocabulary):\n",
    "    matrix = np.zeros((len(vocabulary), len(sentences)), dtype=int)\n",
    "    for i, sentence in enumerate(sentences):\n",
    "        for word in sentence.split():\n",
    "            word = word.lower()\n",
    "            word = word.replace(\"'s\", \"\")\n",
    "            word = word.replace(\",\", \"\")\n",
    "            word = word.replace(\".\", \"\")\n",
    "            matrix[vocabulary.index(word), i] = 1\n",
    "    return matrix\n",
    "\n",
    "matrix = get_matrix(sentences, vocabulary)\n",
    "matrix.T"
   ]
  },
  {
   "attachments": {},
   "cell_type": "markdown",
   "metadata": {},
   "source": [
    "token, stemming, stopword removal, noramlization, lower-case, lametasization, etc. The results of the preprocessing are shown in Table 1."
   ]
  },
  {
   "cell_type": "code",
   "execution_count": 29,
   "metadata": {},
   "outputs": [
    {
     "name": "stdout",
     "output_type": "stream",
     "text": [
      "Sparsity: 0.8673684210526316\n"
     ]
    }
   ],
   "source": [
    "sparsity = 1.0 - np.count_nonzero(matrix) / matrix.size\n",
    "print(\"Sparsity:\", sparsity)"
   ]
  },
  {
   "cell_type": "code",
   "execution_count": 30,
   "metadata": {},
   "outputs": [
    {
     "name": "stdout",
     "output_type": "stream",
     "text": [
      "creating\n",
      "come\n",
      "definitions\n",
      "will\n",
      "almost\n",
      "anna-jwala\n",
      "and\n",
      "our\n",
      "comes\n",
      "anna-bajra\n",
      "nation\n",
      "sports\n",
      "events\n",
      "the\n",
      "medalists\n",
      "2014\n",
      "forging\n",
      "for\n",
      "you\n",
      "shree\n",
      "jaipur\n",
      "are\n",
      "of\n",
      "from\n",
      "khel\n",
      "since\n",
      "lack\n",
      "then\n",
      "organisation\n",
      "successful\n",
      "should\n",
      "next\n",
      "country\n",
      "a\n",
      "left\n",
      "to\n",
      "rest\n",
      "among\n",
      "learning\n",
      "also\n",
      "always\n",
      "due\n",
      "new\n",
      "emerge\n",
      "money\n",
      "victory\n",
      "towards\n",
      "is\n",
      "gold\n",
      "in\n",
      "india\n",
      "three\n",
      "universities\n",
      "that\n",
      "this\n",
      "involved\n",
      "silver\n",
      "increased\n",
      "times\n",
      "security\n",
      "has\n",
      "mahakumbh\n",
      "being\n",
      "youth\n",
      "no\n",
      "mahakhel\n",
      "efforts\n",
      "big\n",
      "like\n",
      "when\n",
      "rajasthan\n",
      "link\n",
      "up\n",
      "best\n",
      "manner\n",
      "it\n",
      "kaal\n",
      "ensured\n",
      "organised\n",
      "only\n",
      "there\n",
      "be\n",
      "order\n",
      "important\n",
      "behind\n",
      "examples\n",
      "set\n",
      "ahead\n",
      "attentive\n",
      "fit\n",
      "professional\n",
      "budget\n",
      "superhit\n",
      "government\n",
      "amrit\n",
      "['creating', 'come', 'definitions', 'will', 'almost', 'anna-jwala', 'and', 'our', 'comes', 'anna-bajra', 'nation', 'sports', 'events', 'the', 'medalists', '2014', 'forging', 'for', 'you', 'shree', 'jaipur', 'are', 'of', 'from', 'khel', 'since', 'lack', 'then', 'organisation', 'successful', 'should', 'next', 'country', 'a', 'left', 'to', 'rest', 'among', 'learning', 'also', 'always', 'due', 'new', 'emerge', 'money', 'victory', 'towards', 'is', 'gold', 'in', 'india', 'three', 'universities', 'that', 'this', 'involved', 'silver', 'increased', 'times', 'security', 'has', 'mahakumbh', 'being', 'youth', 'no', 'mahakhel', 'efforts', 'big', 'like', 'when', 'rajasthan', 'link', 'up', 'best', 'manner', 'it', 'kaal', 'ensured', 'organised', 'only', 'there', 'be', 'order', 'important', 'behind', 'examples', 'set', 'ahead', 'attentive', 'fit', 'professional', 'budget', 'superhit', 'government', 'amrit']\n"
     ]
    }
   ],
   "source": [
    "# create vocabulary sprinter\n",
    "def vocab_preprocess(vocabulary):\n",
    "    vcb=[]\n",
    "    for x in vocabulary:\n",
    "        print(x)\n",
    "        t = x.lower()\n",
    "        t = t.replace(\".\", \"\")\n",
    "        t = t.replace(\",\", \"\")\n",
    "        t = t.replace(\"'s\", \"\")\n",
    "        t = t.replace(\"!\", \"\")\n",
    "        t = t.replace(\"?\", \"\")\n",
    "        if t not in vcb:\n",
    "            vcb.append(t)\n",
    "    return vcb\n",
    "        \n",
    "vocabulary = vocab_preprocess(vocabulary)\n",
    "print(vocabulary)"
   ]
  },
  {
   "cell_type": "code",
   "execution_count": 39,
   "metadata": {},
   "outputs": [
    {
     "name": "stdout",
     "output_type": "stream",
     "text": [
      "[1 1 1 1 1 1 1 1 1 1]\n",
      "['doc2', 'doc3', 'doc5', 'doc9']\n"
     ]
    }
   ],
   "source": [
    "# Define the AND query\n",
    "def AND_query(query):\n",
    "    query_vector = np.ones(matrix.shape[1], dtype=int)\n",
    "    # print(query_vector)\n",
    "    for term in query:\n",
    "        if term in vocabulary:\n",
    "            term_index = vocabulary.index(term)\n",
    "            query_vector = np.logical_and(query_vector, matrix[term_index])\n",
    "    return [documents[i] for i in range(len(query_vector)) if query_vector[i] == 1]\n",
    "\n",
    "print(AND_query(['the', 'of']))"
   ]
  },
  {
   "cell_type": "code",
   "execution_count": 40,
   "metadata": {},
   "outputs": [
    {
     "data": {
      "text/plain": [
       "['doc1', 'doc8']"
      ]
     },
     "execution_count": 40,
     "metadata": {},
     "output_type": "execute_result"
    }
   ],
   "source": [
    "def NOT_query(query):\n",
    "    list = OR_query(query)\n",
    "    xlist =[]\n",
    "    for i in documents:\n",
    "        if i not in list:\n",
    "            xlist.append(i)\n",
    "    return xlist\n",
    "NOT_query(['of', 'the'])"
   ]
  },
  {
   "attachments": {},
   "cell_type": "markdown",
   "metadata": {},
   "source": [
    "# INVERTED INDEX LABELS"
   ]
  },
  {
   "cell_type": "code",
   "execution_count": null,
   "metadata": {},
   "outputs": [],
   "source": []
  }
 ],
 "metadata": {
  "kernelspec": {
   "display_name": "Python 3",
   "language": "python",
   "name": "python3"
  },
  "language_info": {
   "codemirror_mode": {
    "name": "ipython",
    "version": 3
   },
   "file_extension": ".py",
   "mimetype": "text/x-python",
   "name": "python",
   "nbconvert_exporter": "python",
   "pygments_lexer": "ipython3",
   "version": "3.10.5"
  },
  "orig_nbformat": 4,
  "vscode": {
   "interpreter": {
    "hash": "c2ed1c1e3dda2d1d09010f3df351d528d97a393444344645f0fddd23da56b409"
   }
  }
 },
 "nbformat": 4,
 "nbformat_minor": 2
}
