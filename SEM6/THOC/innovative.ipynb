{
 "cells": [
  {
   "cell_type": "code",
   "execution_count": 6,
   "metadata": {},
   "outputs": [
    {
     "name": "stdout",
     "output_type": "stream",
     "text": [
      "[('B', ['aSb']), ('A', ['SbS', 'bb'])]\n"
     ]
    }
   ],
   "source": [
    "from typing import List, Tuple\n",
    "\n",
    "def convert_to_cnf(cfg: List[Tuple[str, List[str]]]) -> List[Tuple[str, List[str]]]:\n",
    "    \"\"\"\n",
    "    Convert CFG to CNF\n",
    "    \"\"\"\n",
    "    # Step 1: Eliminate start symbol from RHS\n",
    "    start_symbol = cfg[0][0]\n",
    "    new_start_symbol = start_symbol + \"'\"\n",
    "    for i in range(len(cfg)):\n",
    "        if start_symbol in cfg[i][1]:\n",
    "            cfg[i] = (cfg[i][0], cfg[i][1].replace(start_symbol, new_start_symbol))\n",
    "    cfg.insert(0, (new_start_symbol, [start_symbol]))\n",
    "\n",
    "    # Step 2: Remove null productions\n",
    "    null_productions = set()\n",
    "    for i in range(len(cfg)):\n",
    "        if \"\" in cfg[i][1]:\n",
    "            null_productions.add(cfg[i][0])\n",
    "            cfg[i] = (cfg[i][0], [x for x in cfg[i][1] if x != \"\"])\n",
    "    while True:\n",
    "        updated = False\n",
    "        for i in range(len(cfg)):\n",
    "            if len(set(cfg[i][1]) - null_productions) == 0 and cfg[i][0] not in null_productions:\n",
    "                null_productions.add(cfg[i][0])\n",
    "                updated = True\n",
    "        if not updated:\n",
    "            break\n",
    "    cfg = [(x[0], [y for y in x[1] if y not in null_productions]) for x in cfg if x[0] not in null_productions]\n",
    "\n",
    "    # Step 3: Remove unit productions\n",
    "    unit_productions = {}\n",
    "    for i in range(len(cfg)):\n",
    "        if len(cfg[i][1]) == 1 and cfg[i][1][0].isupper():\n",
    "            unit_productions[cfg[i][0]] = cfg[i][1][0]\n",
    "            cfg.pop(i)\n",
    "            break\n",
    "    while True:\n",
    "        updated = False\n",
    "        for i in range(len(cfg)):\n",
    "            if len(cfg[i][1]) == 1 and cfg[i][1][0] in unit_productions:\n",
    "                unit_productions[cfg[i][0]] = unit_productions[cfg[i][1][0]]\n",
    "                updated = True\n",
    "                cfg.pop(i)\n",
    "                break\n",
    "        if not updated:\n",
    "            break\n",
    "    cfg = [(x[0], [unit_productions[y] if y in unit_productions else y for y in x[1]]) for x in cfg]\n",
    "\n",
    "    # Step 4: Convert productions to CNF\n",
    "    cnf_cfg = []\n",
    "    non_terminals = set([x[0] for x in cfg])\n",
    "    terminal_symbols = set([y for x in cfg for y in x[1] if not y.isupper()])\n",
    "    symbol_map = {}\n",
    "    count = 65\n",
    "    for s in non_terminals:\n",
    "        symbol_map[s] = chr(count)\n",
    "        count += 1\n",
    "    for s in terminal_symbols:\n",
    "        symbol_map[s] = chr(count)\n",
    "        count += 1\n",
    "\n",
    "    def split_production(production):\n",
    "        if len(production) <= 2:\n",
    "            return production\n",
    "        new_production = production[:2]\n",
    "        new_non_terminal = symbol_map[production[:2]]\n",
    "        cnf_cfg.append((new_non_terminal, production[:2]))\n",
    "        return new_non_terminal + split_production(production[2:])\n",
    "\n",
    "    cnf_cfg += [(symbol_map[x[0]], split_production(x[1])) for x in cfg]\n",
    "    \n",
    "    return cnf_cfg\n",
    "\n",
    "# Example usage:\n",
    "cfg = [(\"S\", [\"aSb\"]), (\"A\", [\"aAS\", \"a\", \"\"]), (\"B\", ['SbS', 'A', 'bb'])]\n",
    "\n",
    "cnf_cfg = convert_to_cnf(cfg)\n",
    "print(cnf_cfg)"
   ]
  },
  {
   "cell_type": "code",
   "execution_count": 2,
   "metadata": {},
   "outputs": [
    {
     "name": "stdout",
     "output_type": "stream",
     "text": [
      "{'S': ['AS', 'SB', 'SS'], 'A': ['aA', 'AS', 'AA', 'a', 'ε'], 'B': ['Sb', 'BS', 'BB', 'A', 'bb', 'aA', 'BS', 'BB', 'a', 'ε']}\n"
     ]
    }
   ],
   "source": [
    "# now for testing\n",
    "# S → ASB\n",
    "# A → aAS|a|ε \n",
    "# B → SbS|A|bb\n",
    "\n",
    "\n",
    "cfg = {\n",
    "    'S': ['ASB'], 'A': ['aAS', 'a', 'ε'], 'B': ['SbS', 'A', 'bb']\n",
    "}\n",
    "\n",
    "print(cfg_to_cnf(cfg))"
   ]
  },
  {
   "cell_type": "code",
   "execution_count": 8,
   "metadata": {},
   "outputs": [
    {
     "name": "stdout",
     "output_type": "stream",
     "text": [
      "[('B', ['aSb']), ('A', ['SbS', 'bb'])]\n"
     ]
    }
   ],
   "source": [
    "from typing import List, Tuple\n",
    "\n",
    "def convert_to_cnf(cfg: List[Tuple[str, List[str]]]) -> List[Tuple[str, List[str]]]:\n",
    "    \"\"\"\n",
    "    Convert CFG to CNF\n",
    "    \"\"\"\n",
    "    # Step 1: Eliminate start symbol from RHS\n",
    "    start_symbol = cfg[0][0]\n",
    "    new_start_symbol = start_symbol + \"'\"\n",
    "    for i in range(len(cfg)):\n",
    "        if start_symbol in cfg[i][1]:\n",
    "            cfg[i] = (cfg[i][0], [new_start_symbol if x == start_symbol else x for x in cfg[i][1]])\n",
    "    cfg.insert(0, (new_start_symbol, [start_symbol]))\n",
    "\n",
    "    # Step 2: Remove null productions\n",
    "    null_productions = set()\n",
    "    for i in range(len(cfg)):\n",
    "        if \"\" in cfg[i][1]:\n",
    "            null_productions.add(cfg[i][0])\n",
    "            cfg[i] = (cfg[i][0], [x for x in cfg[i][1] if x != \"\"])\n",
    "    while True:\n",
    "        updated = False\n",
    "        for i in range(len(cfg)):\n",
    "            if len(set(cfg[i][1]) - null_productions) == 0 and cfg[i][0] not in null_productions:\n",
    "                null_productions.add(cfg[i][0])\n",
    "                updated = True\n",
    "        if not updated:\n",
    "            break\n",
    "    cfg = [(x[0], [y for y in x[1] if y not in null_productions]) for x in cfg if x[0] not in null_productions]\n",
    "\n",
    "    # Step 3: Remove unit productions\n",
    "    unit_productions = {}\n",
    "    for i in range(len(cfg)):\n",
    "        if len(cfg[i][1]) == 1 and cfg[i][1][0].isupper():\n",
    "            unit_productions[cfg[i][0]] = cfg[i][1][0]\n",
    "            cfg.pop(i)\n",
    "            break\n",
    "    while True:\n",
    "        updated = False\n",
    "        for i in range(len(cfg)):\n",
    "            if len(cfg[i][1]) == 1 and cfg[i][1][0] in unit_productions:\n",
    "                unit_productions[cfg[i][0]] = unit_productions[cfg[i][1][0]]\n",
    "                updated = True\n",
    "                cfg.pop(i)\n",
    "                break\n",
    "        if not updated:\n",
    "            break\n",
    "    cfg = [(x[0], [unit_productions[y] if y in unit_productions else y for y in x[1]]) for x in cfg]\n",
    "\n",
    "    # Step 4: Convert productions to CNF\n",
    "    cnf_cfg = []\n",
    "    non_terminals = set([x[0] for x in cfg])\n",
    "    terminal_symbols = set([y for x in cfg for y in x[1] if not y.isupper()])\n",
    "    symbol_map = {}\n",
    "    count = 65\n",
    "    for s in non_terminals:\n",
    "        symbol_map[s] = chr(count)\n",
    "        count += 1\n",
    "    for s in terminal_symbols:\n",
    "        symbol_map[s] = chr(count)\n",
    "        count += 1\n",
    "\n",
    "    def split_production(production):\n",
    "        if len(production) <= 2:\n",
    "            return production\n",
    "        new_production = production[:2]\n",
    "        new_non_terminal = symbol_map[production[:2]]\n",
    "        cnf_cfg.append((new_non_terminal, production[:2]))\n",
    "        return new_non_terminal + split_production(production[2:])\n",
    "\n",
    "    cnf_cfg += [(symbol_map[x[0]], split_production(x[1])) for x in cfg]\n",
    "    \n",
    "    return cnf_cfg\n",
    "\n",
    "# Example usage:\n",
    "cfg = [(\"S\", [\"aSb\"]), (\"A\", [\"aAS\", \"a\", \"\"]), (\"B\", ['SbS', 'A', 'bb'])]\n",
    "\n",
    "cnf_cfg = convert_to_cnf(cfg)\n",
    "print(cnf_cfg)"
   ]
  },
  {
   "cell_type": "code",
   "execution_count": 14,
   "metadata": {},
   "outputs": [
    {
     "data": {
      "image/png": "[encoded data removed]",
      "text/plain": [
       "<Figure size 432x288 with 1 Axes>"
      ]
     },
     "metadata": {},
     "output_type": "display_data"
    },
    {
     "ename": "TypeError",
     "evalue": "dict.__getitem__() takes exactly one argument (2 given)",
     "output_type": "error",
     "traceback": [
      "\u001b[1;31m---------------------------------------------------------------------------\u001b[0m",
      "\u001b[1;31mTypeError\u001b[0m                                 Traceback (most recent call last)",
      "\u001b[1;32mc:\\Users\\Owner\\Desktop\\SEM 5\\THOC\\innovative.ipynb Cell 4\u001b[0m in \u001b[0;36m<cell line: 82>\u001b[1;34m()\u001b[0m\n\u001b[0;32m     <a href='vscode-notebook-cell:/c%3A/Users/Owner/Desktop/SEM%205/THOC/innovative.ipynb#W3sZmlsZQ%3D%3D?line=78'>79</a>\u001b[0m dfa \u001b[39m=\u001b[39m (Q, Sigma, delta\u001b[39m.\u001b[39m\u001b[39m__getitem__\u001b[39m, q0, F)\n\u001b[0;32m     <a href='vscode-notebook-cell:/c%3A/Users/Owner/Desktop/SEM%205/THOC/innovative.ipynb#W3sZmlsZQ%3D%3D?line=80'>81</a>\u001b[0m \u001b[39m# Minimize DFA\u001b[39;00m\n\u001b[1;32m---> <a href='vscode-notebook-cell:/c%3A/Users/Owner/Desktop/SEM%205/THOC/innovative.ipynb#W3sZmlsZQ%3D%3D?line=81'>82</a>\u001b[0m min_dfa \u001b[39m=\u001b[39m hopcroft_minimize(dfa)\n\u001b[0;32m     <a href='vscode-notebook-cell:/c%3A/Users/Owner/Desktop/SEM%205/THOC/innovative.ipynb#W3sZmlsZQ%3D%3D?line=83'>84</a>\u001b[0m \u001b[39m# Print minimized DFA\u001b[39;00m\n\u001b[0;32m     <a href='vscode-notebook-cell:/c%3A/Users/Owner/Desktop/SEM%205/THOC/innovative.ipynb#W3sZmlsZQ%3D%3D?line=84'>85</a>\u001b[0m \u001b[39mprint\u001b[39m(min_dfa)\n",
      "\u001b[1;32mc:\\Users\\Owner\\Desktop\\SEM 5\\THOC\\innovative.ipynb Cell 4\u001b[0m in \u001b[0;36mhopcroft_minimize\u001b[1;34m(dfa)\u001b[0m\n\u001b[0;32m     <a href='vscode-notebook-cell:/c%3A/Users/Owner/Desktop/SEM%205/THOC/innovative.ipynb#W3sZmlsZQ%3D%3D?line=17'>18</a>\u001b[0m X \u001b[39m=\u001b[39m \u001b[39mset\u001b[39m()\n\u001b[0;32m     <a href='vscode-notebook-cell:/c%3A/Users/Owner/Desktop/SEM%205/THOC/innovative.ipynb#W3sZmlsZQ%3D%3D?line=18'>19</a>\u001b[0m \u001b[39mfor\u001b[39;00m q \u001b[39min\u001b[39;00m Q:\n\u001b[1;32m---> <a href='vscode-notebook-cell:/c%3A/Users/Owner/Desktop/SEM%205/THOC/innovative.ipynb#W3sZmlsZQ%3D%3D?line=19'>20</a>\u001b[0m     \u001b[39mif\u001b[39;00m delta(q, c) \u001b[39min\u001b[39;00m A:\n\u001b[0;32m     <a href='vscode-notebook-cell:/c%3A/Users/Owner/Desktop/SEM%205/THOC/innovative.ipynb#W3sZmlsZQ%3D%3D?line=20'>21</a>\u001b[0m         X\u001b[39m.\u001b[39madd(q)\n\u001b[0;32m     <a href='vscode-notebook-cell:/c%3A/Users/Owner/Desktop/SEM%205/THOC/innovative.ipynb#W3sZmlsZQ%3D%3D?line=21'>22</a>\u001b[0m \u001b[39mfor\u001b[39;00m Y \u001b[39min\u001b[39;00m P:\n",
      "\u001b[1;31mTypeError\u001b[0m: dict.__getitem__() takes exactly one argument (2 given)"
     ]
    }
   ],
   "source": [
    "import networkx as nx\n",
    "import matplotlib.pyplot as plt\n",
    "\n",
    "def hopcroft_minimize(dfa):\n",
    "    # Extract DFA components\n",
    "    Q, Sigma, delta, q0, F = dfa\n",
    "    \n",
    "    # Initialize P and W\n",
    "    P = [F, Q - F]\n",
    "    W = [F]\n",
    "    \n",
    "    # Plot initial partition\n",
    "    plot_partition(P)\n",
    "    \n",
    "    while len(W) > 0:\n",
    "        A = W.pop()\n",
    "        for c in Sigma:\n",
    "            X = set()\n",
    "            for q in Q:\n",
    "                if delta(q, c) in A:\n",
    "                    X.add(q)\n",
    "            for Y in P:\n",
    "                if len(X & Y) > 0 and len(Y - X) > 0:\n",
    "                    P.remove(Y)\n",
    "                    P.append(X & Y)\n",
    "                    P.append(Y - X)\n",
    "                    if Y in W:\n",
    "                        W.remove(Y)\n",
    "                        W.append(X & Y)\n",
    "                        W.append(Y - X)\n",
    "                    else:\n",
    "                        if len(X & Y) <= len(Y - X):\n",
    "                            W.append(X & Y)\n",
    "                        else:\n",
    "                            W.append(Y - X)\n",
    "            # Plot intermediate partition\n",
    "            plot_partition(P)\n",
    "    \n",
    "    # Construct minimized DFA\n",
    "    Q_min = set()\n",
    "    delta_min = dict()\n",
    "    q0_min = None\n",
    "    F_min = set()\n",
    "    \n",
    "    for p in P:\n",
    "        Q_min.add(frozenset(p))\n",
    "        if q0 in p:\n",
    "            q0_min = frozenset(p)\n",
    "        if any(q in F for q in p):\n",
    "            F_min.add(frozenset(p))\n",
    "    \n",
    "    for p in P:\n",
    "        for c in Sigma:\n",
    "            delta_min[(frozenset(p), c)] = frozenset(next(iter(delta(next(iter(p)), c))))\n",
    "    \n",
    "    return (Q_min, Sigma, delta_min.__getitem__, q0_min, F_min)\n",
    "\n",
    "def plot_partition(P):\n",
    "    G = nx.Graph()\n",
    "    for i, p in enumerate(P):\n",
    "        G.add_node(i)\n",
    "        for q in p:\n",
    "            G.add_edge(i, q)\n",
    "    nx.draw(G, with_labels=True)\n",
    "    plt.show()\n",
    "\n",
    "# Example DFA\n",
    "Q = {0, 1, 2}\n",
    "Sigma = {'a', 'b'}\n",
    "delta = {(0, 'a'): 1,\n",
    "         (0, 'b'): 2,\n",
    "         (1, 'a'): 1,\n",
    "         (1, 'b'): 2,\n",
    "         (2, 'a'): 2,\n",
    "         (2, 'b'): 2}\n",
    "q0 = 0\n",
    "F = {1}\n",
    "\n",
    "dfa = (Q, Sigma, delta.__getitem__, q0, F)\n",
    "\n",
    "# Minimize DFA\n",
    "min_dfa = hopcroft_minimize(dfa)\n",
    "\n",
    "# Print minimized DFA\n",
    "print(min_dfa)"
   ]
  },
  {
   "cell_type": "code",
   "execution_count": 16,
   "metadata": {},
   "outputs": [
    {
     "data": {
      "image/png": "[encoded data removed]",
      "text/plain": [
       "<Figure size 432x288 with 1 Axes>"
      ]
     },
     "metadata": {},
     "output_type": "display_data"
    },
    {
     "data": {
      "image/png": "[encoded data removed]",
      "text/plain": [
       "<Figure size 432x288 with 1 Axes>"
      ]
     },
     "metadata": {},
     "output_type": "display_data"
    },
    {
     "data": {
      "image/png": "[encoded data removed]",
      "text/plain": [
       "<Figure size 432x288 with 1 Axes>"
      ]
     },
     "metadata": {},
     "output_type": "display_data"
    },
    {
     "name": "stdout",
     "output_type": "stream",
     "text": [
      "({frozenset({'q1', 'q2'}), frozenset({'q3'})}, {'b', 'a'}, <built-in method __getitem__ of dict object at 0x0000025493B8CD00>, frozenset({'q1', 'q2'}), {frozenset({'q3'})})\n"
     ]
    }
   ],
   "source": [
    "import networkx as nx\n",
    "import matplotlib.pyplot as plt\n",
    "\n",
    "def hopcroft_minimize(dfa_table, q0, F):\n",
    "    # Extract DFA components from table\n",
    "    Sigma = set(dfa_table[0][1:])\n",
    "    Q = set()\n",
    "    delta = dict()\n",
    "    for row in dfa_table[1:]:\n",
    "        q = row[0]\n",
    "        Q.add(q)\n",
    "        for c, q_next in zip(Sigma, row[1:]):\n",
    "            delta[(q, c)] = q_next\n",
    "    \n",
    "    # Initialize P and W\n",
    "    P = [F, Q - F]\n",
    "    W = [F]\n",
    "    \n",
    "    # Plot initial partition\n",
    "    plot_partition(P)\n",
    "    \n",
    "    while len(W) > 0:\n",
    "        A = W.pop()\n",
    "        for c in Sigma:\n",
    "            X = set()\n",
    "            for q in Q:\n",
    "                if delta[(q, c)] in A:\n",
    "                    X.add(q)\n",
    "            for Y in P:\n",
    "                if len(X & Y) > 0 and len(Y - X) > 0:\n",
    "                    P.remove(Y)\n",
    "                    P.append(X & Y)\n",
    "                    P.append(Y - X)\n",
    "                    if Y in W:\n",
    "                        W.remove(Y)\n",
    "                        W.append(X & Y)\n",
    "                        W.append(Y - X)\n",
    "                    else:\n",
    "                        if len(X & Y) <= len(Y - X):\n",
    "                            W.append(X & Y)\n",
    "                        else:\n",
    "                            W.append(Y - X)\n",
    "            # Plot intermediate partition\n",
    "            plot_partition(P)\n",
    "    \n",
    "    # Construct minimized DFA\n",
    "    Q_min = set()\n",
    "    delta_min = dict()\n",
    "    q0_min = None\n",
    "    F_min = set()\n",
    "    \n",
    "    for p in P:\n",
    "        Q_min.add(frozenset(p))\n",
    "        if q0 in p:\n",
    "            q0_min = frozenset(p)\n",
    "        if any(q in F for q in p):\n",
    "            F_min.add(frozenset(p))\n",
    "    \n",
    "    for p in P:\n",
    "        for c in Sigma:\n",
    "            delta_min[(frozenset(p), c)] = frozenset([delta[(next(iter(p)), c)]])\n",
    "    \n",
    "    return (Q_min, Sigma, delta_min.__getitem__, q0_min, F_min)\n",
    "\n",
    "def plot_partition(P):\n",
    "    G = nx.Graph()\n",
    "    for i, p in enumerate(P):\n",
    "        G.add_node(i)\n",
    "        for q in p:\n",
    "            G.add_edge(i, q)\n",
    "    nx.draw(G, with_labels=True)\n",
    "    plt.show()\n",
    "\n",
    "# Example DFA table\n",
    "dfa_table = [\n",
    "    ['', 'a', 'b'],\n",
    "    ['q1', 'q2', 'q3'],\n",
    "    ['q2', 'q2', 'q3'],\n",
    "    ['q3', 'q3', 'q3']\n",
    "]\n",
    "\n",
    "# Define initial and final states\n",
    "q0 = 'q1'\n",
    "F = {'q3'}\n",
    "\n",
    "# Minimize DFA\n",
    "min_dfa = hopcroft_minimize(dfa_table, q0, F)\n",
    "\n",
    "# Print minimized DFA\n",
    "print(min_dfa)"
   ]
  },
  {
   "cell_type": "code",
   "execution_count": 17,
   "metadata": {},
   "outputs": [
    {
     "data": {
      "image/png": "[encoded data removed]",
      "text/plain": [
       "<Figure size 432x288 with 1 Axes>"
      ]
     },
     "metadata": {},
     "output_type": "display_data"
    },
    {
     "data": {
      "image/png": "[encoded data removed]",
      "text/plain": [
       "<Figure size 432x288 with 1 Axes>"
      ]
     },
     "metadata": {},
     "output_type": "display_data"
    },
    {
     "data": {
      "image/png": "[encoded data removed]",
      "text/plain": [
       "<Figure size 432x288 with 1 Axes>"
      ]
     },
     "metadata": {},
     "output_type": "display_data"
    },
    {
     "data": {
      "image/png": "[encoded data removed]",
      "text/plain": [
       "<Figure size 432x288 with 1 Axes>"
      ]
     },
     "metadata": {},
     "output_type": "display_data"
    },
    {
     "data": {
      "image/png": "[encoded data removed]",
      "text/plain": [
       "<Figure size 432x288 with 1 Axes>"
      ]
     },
     "metadata": {},
     "output_type": "display_data"
    },
    {
     "name": "stdout",
     "output_type": "stream",
     "text": [
      "({frozenset({'q2'}), frozenset({'q4', 'q1'}), frozenset({'q0', 'q3'})}, {'b', 'a'}, <built-in method __getitem__ of dict object at 0x0000025493BFEB80>, frozenset({'q0', 'q3'}), {frozenset({'q2'})})\n"
     ]
    }
   ],
   "source": [
    "# Example DFA table\n",
    "dfa_table = [\n",
    "    ['', 'a', 'b'],\n",
    "    ['q0', 'q1', 'q2'],\n",
    "    ['q1', 'q1', 'q3'],\n",
    "    ['q2', 'q4', 'q2'],\n",
    "    ['q3', 'q1', 'q2'],\n",
    "    ['q4', 'q4', 'q0']\n",
    "]\n",
    "\n",
    "# Define initial and final states\n",
    "q0 = 'q0'\n",
    "F = {'q2'}\n",
    "\n",
    "# Minimize DFA\n",
    "min_dfa = hopcroft_minimize(dfa_table, q0, F)\n",
    "\n",
    "# Print minimized DFA\n",
    "print(min_dfa)"
   ]
  }
 ],
 "metadata": {
  "kernelspec": {
   "display_name": "Python 3",
   "language": "python",
   "name": "python3"
  },
  "language_info": {
   "codemirror_mode": {
    "name": "ipython",
    "version": 3
   },
   "file_extension": ".py",
   "mimetype": "text/x-python",
   "name": "python",
   "nbconvert_exporter": "python",
   "pygments_lexer": "ipython3",
   "version": "3.10.5"
  },
  "orig_nbformat": 4
 },
 "nbformat": 4,
 "nbformat_minor": 2
}
