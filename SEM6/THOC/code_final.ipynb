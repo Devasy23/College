{
 "cells": [
  {
   "cell_type": "code",
   "execution_count": null,
   "id": "e9fa968e",
   "metadata": {},
   "outputs": [
    {
     "ename": "",
     "evalue": "",
     "output_type": "error",
     "traceback": [
      "\u001b[1;31mFailed to start the Kernel. \n",
      "\u001b[1;31mTraceback (most recent call last):\n",
      "\u001b[1;31m  File \"c:\\Users\\Owner\\AppData\\Local\\Programs\\Python\\Python310\\lib\\runpy.py\", line 196, in _run_module_as_main\n",
      "\u001b[1;31m    return _run_code(code, main_globals, None,\n",
      "\u001b[1;31m  File \"c:\\Users\\Owner\\AppData\\Local\\Programs\\Python\\Python310\\lib\\runpy.py\", line 86, in _run_code\n",
      "\u001b[1;31m    exec(code, run_globals)\n",
      "\u001b[1;31m  File \"c:\\Users\\Owner\\AppData\\Local\\Programs\\Python\\Python310\\lib\\site-packages\\ipykernel_launcher.py\", line 15, in <module>\n",
      "\u001b[1;31m    from ipykernel import kernelapp as app\n",
      "\u001b[1;31m  File \"c:\\Users\\Owner\\AppData\\Local\\Programs\\Python\\Python310\\lib\\site-packages\\ipykernel\\kernelapp.py\", line 51, in <module>\n",
      "\u001b[1;31m    from .ipkernel import IPythonKernel\n",
      "\u001b[1;31m  File \"c:\\Users\\Owner\\AppData\\Local\\Programs\\Python\\Python310\\lib\\site-packages\\ipykernel\\ipkernel.py\", line 19, in <module>\n",
      "\u001b[1;31m    from .debugger import Debugger, _is_debugpy_available\n",
      "\u001b[1;31m  File \"c:\\Users\\Owner\\AppData\\Local\\Programs\\Python\\Python310\\lib\\site-packages\\ipykernel\\debugger.py\", line 22, in <module>\n",
      "\u001b[1;31m    from debugpy.server import api  # noqa\n",
      "\u001b[1;31m  File \"c:\\Users\\Owner\\AppData\\Local\\Programs\\Python\\Python310\\lib\\site-packages\\debugpy\\server\\__init__.py\", line 7, in <module>\n",
      "\u001b[1;31m    import debugpy._vendored.force_pydevd  # noqa\n",
      "\u001b[1;31m  File \"c:\\Users\\Owner\\AppData\\Local\\Programs\\Python\\Python310\\lib\\site-packages\\debugpy\\_vendored\\force_pydevd.py\", line 28, in <module>\n",
      "\u001b[1;31m    pydevd_constants = import_module('_pydevd_bundle.pydevd_constants')\n",
      "\u001b[1;31m  File \"c:\\Users\\Owner\\AppData\\Local\\Programs\\Python\\Python310\\lib\\importlib\\__init__.py\", line 126, in import_module\n",
      "\u001b[1;31m    return _bootstrap._gcd_import(name[level:], package, level)\n",
      "\u001b[1;31m  File \"c:\\Users\\Owner\\AppData\\Local\\Programs\\Python\\Python310\\lib\\site-packages\\debugpy\\_vendored\\pydevd\\_pydevd_bundle\\pydevd_constants.py\", line 364, in <module>\n",
      "\u001b[1;31m    from _pydev_bundle._pydev_saved_modules import thread, threading\n",
      "\u001b[1;31m  File \"c:\\Users\\Owner\\AppData\\Local\\Programs\\Python\\Python310\\lib\\site-packages\\debugpy\\_vendored\\pydevd\\_pydev_bundle\\_pydev_saved_modules.py\", line 91, in <module>\n",
      "\u001b[1;31m    import code as _code;    verify_shadowed.check(_code, ['compile_command', 'InteractiveInterpreter'])\n",
      "\u001b[1;31m  File \"c:\\Users\\Owner\\AppData\\Local\\Programs\\Python\\Python310\\lib\\site-packages\\debugpy\\_vendored\\pydevd\\_pydev_bundle\\_pydev_saved_modules.py\", line 75, in check\n",
      "\u001b[1;31m    raise DebuggerInitializationError(msg)\n",
      "\u001b[1;31m_pydev_bundle._pydev_saved_modules.DebuggerInitializationError: It was not possible to initialize the debugger due to a module name conflict.\n",
      "\u001b[1;31m\n",
      "\u001b[1;31mi.e.: the module \"code\" could not be imported because it is shadowed by:\n",
      "\u001b[1;31mc:\\Users\\Owner\\Desktop\\SEM 5\\THOC\\code.py\n",
      "\u001b[1;31mPlease rename this file/folder so that the original module from the standard library can be imported. \n",
      "\u001b[1;31mView Jupyter <a href='command:jupyter.viewOutput'>log</a> for further details."
     ]
    }
   ],
   "source": [
    "import numpy as np\n",
    "import pandas as pd\n",
    "import matplotlib.pyplot as plt\n",
    "import graphviz"
   ]
  },
  {
   "cell_type": "code",
   "execution_count": null,
   "id": "14e9e429",
   "metadata": {},
   "outputs": [
    {
     "ename": "",
     "evalue": "",
     "output_type": "error",
     "traceback": [
      "\u001b[1;31mFailed to start the Kernel. \n",
      "\u001b[1;31mTraceback (most recent call last):\n",
      "\u001b[1;31m  File \"c:\\Users\\Owner\\AppData\\Local\\Programs\\Python\\Python310\\lib\\runpy.py\", line 196, in _run_module_as_main\n",
      "\u001b[1;31m    return _run_code(code, main_globals, None,\n",
      "\u001b[1;31m  File \"c:\\Users\\Owner\\AppData\\Local\\Programs\\Python\\Python310\\lib\\runpy.py\", line 86, in _run_code\n",
      "\u001b[1;31m    exec(code, run_globals)\n",
      "\u001b[1;31m  File \"c:\\Users\\Owner\\AppData\\Local\\Programs\\Python\\Python310\\lib\\site-packages\\ipykernel_launcher.py\", line 15, in <module>\n",
      "\u001b[1;31m    from ipykernel import kernelapp as app\n",
      "\u001b[1;31m  File \"c:\\Users\\Owner\\AppData\\Local\\Programs\\Python\\Python310\\lib\\site-packages\\ipykernel\\kernelapp.py\", line 51, in <module>\n",
      "\u001b[1;31m    from .ipkernel import IPythonKernel\n",
      "\u001b[1;31m  File \"c:\\Users\\Owner\\AppData\\Local\\Programs\\Python\\Python310\\lib\\site-packages\\ipykernel\\ipkernel.py\", line 19, in <module>\n",
      "\u001b[1;31m    from .debugger import Debugger, _is_debugpy_available\n",
      "\u001b[1;31m  File \"c:\\Users\\Owner\\AppData\\Local\\Programs\\Python\\Python310\\lib\\site-packages\\ipykernel\\debugger.py\", line 22, in <module>\n",
      "\u001b[1;31m    from debugpy.server import api  # noqa\n",
      "\u001b[1;31m  File \"c:\\Users\\Owner\\AppData\\Local\\Programs\\Python\\Python310\\lib\\site-packages\\debugpy\\server\\__init__.py\", line 7, in <module>\n",
      "\u001b[1;31m    import debugpy._vendored.force_pydevd  # noqa\n",
      "\u001b[1;31m  File \"c:\\Users\\Owner\\AppData\\Local\\Programs\\Python\\Python310\\lib\\site-packages\\debugpy\\_vendored\\force_pydevd.py\", line 28, in <module>\n",
      "\u001b[1;31m    pydevd_constants = import_module('_pydevd_bundle.pydevd_constants')\n",
      "\u001b[1;31m  File \"c:\\Users\\Owner\\AppData\\Local\\Programs\\Python\\Python310\\lib\\importlib\\__init__.py\", line 126, in import_module\n",
      "\u001b[1;31m    return _bootstrap._gcd_import(name[level:], package, level)\n",
      "\u001b[1;31m  File \"c:\\Users\\Owner\\AppData\\Local\\Programs\\Python\\Python310\\lib\\site-packages\\debugpy\\_vendored\\pydevd\\_pydevd_bundle\\pydevd_constants.py\", line 364, in <module>\n",
      "\u001b[1;31m    from _pydev_bundle._pydev_saved_modules import thread, threading\n",
      "\u001b[1;31m  File \"c:\\Users\\Owner\\AppData\\Local\\Programs\\Python\\Python310\\lib\\site-packages\\debugpy\\_vendored\\pydevd\\_pydev_bundle\\_pydev_saved_modules.py\", line 91, in <module>\n",
      "\u001b[1;31m    import code as _code;    verify_shadowed.check(_code, ['compile_command', 'InteractiveInterpreter'])\n",
      "\u001b[1;31m  File \"c:\\Users\\Owner\\AppData\\Local\\Programs\\Python\\Python310\\lib\\site-packages\\debugpy\\_vendored\\pydevd\\_pydev_bundle\\_pydev_saved_modules.py\", line 75, in check\n",
      "\u001b[1;31m    raise DebuggerInitializationError(msg)\n",
      "\u001b[1;31m_pydev_bundle._pydev_saved_modules.DebuggerInitializationError: It was not possible to initialize the debugger due to a module name conflict.\n",
      "\u001b[1;31m\n",
      "\u001b[1;31mi.e.: the module \"code\" could not be imported because it is shadowed by:\n",
      "\u001b[1;31mc:\\Users\\Owner\\Desktop\\SEM 5\\THOC\\code.py\n",
      "\u001b[1;31mPlease rename this file/folder so that the original module from the standard library can be imported. \n",
      "\u001b[1;31mView Jupyter <a href='command:jupyter.viewOutput'>log</a> for further details."
     ]
    }
   ],
   "source": [
    "with open('input.txt') as f:\n",
    "    data = f.read().splitlines()\n",
    "data"
   ]
  },
  {
   "cell_type": "code",
   "execution_count": 3,
   "id": "02d9a665",
   "metadata": {},
   "outputs": [
    {
     "name": "stdout",
     "output_type": "stream",
     "text": [
      "S → AB\n",
      "A → a\n",
      "B → C | b\n",
      "C → D\n",
      "D → E\n",
      "E → a\n",
      "{'S': ['AB'], 'A': ['a'], 'B': ['C', 'b'], 'C': ['D'], 'D': ['E'], 'E': ['a']}\n"
     ]
    }
   ],
   "source": [
    "CFG = {}\n",
    "for i in data:\n",
    "    print(i)\n",
    "    var = i[0]\n",
    "    j = i.split(' | ')\n",
    "    t = 1\n",
    "    CFG[var] = []\n",
    "    CFG[var].append(j[0].split(\" → \")[1])\n",
    "    if len(j) > 1:\n",
    "        while (t < len(j)):\n",
    "            CFG[var].append(j[t])\n",
    "            t += 1\n",
    "print(CFG)"
   ]
  },
  {
   "cell_type": "markdown",
   "id": "7e58d366",
   "metadata": {},
   "source": [
    "# Eliminate Unit Productions"
   ]
  },
  {
   "cell_type": "code",
   "execution_count": 4,
   "id": "cea7f585",
   "metadata": {},
   "outputs": [],
   "source": [
    "def remove_unit(CFG):\n",
    "    single_terminals = []\n",
    "    for i in CFG:\n",
    "        if len(CFG[i])==1 and CFG[i][0].islower():\n",
    "            single_terminals.append(i)\n",
    "    print(single_terminals)\n",
    "    # Now, checking if any of the single terminals are in RHS of any other state\n",
    "    while True:\n",
    "        changed = False\n",
    "        for i in CFG:\n",
    "            for j in CFG[i]:\n",
    "                for l in j:\n",
    "                    if l in single_terminals:\n",
    "                        k = single_terminals.index(l)\n",
    "                        CFG[i].append(j.replace(single_terminals[k], CFG[single_terminals[k]][0]))\n",
    "                        CFG[i].remove(j)\n",
    "                        if len(CFG[i])==1:\n",
    "                            single_terminals.append(i)\n",
    "                        print(single_terminals)\n",
    "                        changed = True\n",
    "        if not changed:\n",
    "            break\n",
    "    print(CFG)\n",
    "    return CFG"
   ]
  },
  {
   "cell_type": "code",
   "execution_count": 5,
   "id": "eb3a93f2",
   "metadata": {},
   "outputs": [
    {
     "name": "stdout",
     "output_type": "stream",
     "text": [
      "['A', 'E']\n",
      "['A', 'E', 'S']\n",
      "['A', 'E', 'S', 'D']\n",
      "['A', 'E', 'S', 'D', 'C']\n",
      "['A', 'E', 'S', 'D', 'C']\n",
      "{'S': ['aB'], 'A': ['a'], 'B': ['b', 'a'], 'C': ['a'], 'D': ['a'], 'E': ['a']}\n"
     ]
    }
   ],
   "source": [
    "CFG = remove_unit(CFG)"
   ]
  },
  {
   "attachments": {},
   "cell_type": "markdown",
   "id": "f8c39630",
   "metadata": {},
   "source": [
    "# Elimate Useless Productions"
   ]
  },
  {
   "cell_type": "code",
   "execution_count": 6,
   "id": "c8726648",
   "metadata": {},
   "outputs": [],
   "source": [
    "def remove_useless(CFG):\n",
    "    reachable_states = []\n",
    "    given_states = []\n",
    "    terminals = []\n",
    "    for i in CFG:\n",
    "        if i not in given_states:\n",
    "            given_states.append(i)\n",
    "        for j in CFG[i]:\n",
    "            for l in j:\n",
    "                if l not in reachable_states:\n",
    "                    if l.isupper():\n",
    "                        reachable_states.append(l)\n",
    "                    else:\n",
    "                        terminals.append(l)\n",
    "    print(reachable_states)\n",
    "    print(given_states)\n",
    "    print(terminals)\n",
    "    unreachable = []\n",
    "    for i in given_states:\n",
    "        if i==\"S\":\n",
    "            continue\n",
    "        elif i not in reachable_states:\n",
    "            unreachable.append(i)\n",
    "    print(unreachable)\n",
    "    for i in unreachable:\n",
    "        CFG.pop(i)\n",
    "    print(CFG)\n",
    "    return CFG"
   ]
  },
  {
   "cell_type": "code",
   "execution_count": 7,
   "id": "39405a54",
   "metadata": {},
   "outputs": [
    {
     "name": "stdout",
     "output_type": "stream",
     "text": [
      "['B']\n",
      "['S', 'A', 'B', 'C', 'D', 'E']\n",
      "['a', 'a', 'b', 'a', 'a', 'a', 'a']\n",
      "['A', 'C', 'D', 'E']\n",
      "{'S': ['aB'], 'B': ['b', 'a']}\n"
     ]
    }
   ],
   "source": [
    "CFG = remove_useless(CFG)"
   ]
  },
  {
   "cell_type": "markdown",
   "id": "28d91d7e",
   "metadata": {},
   "source": [
    "# Eliminate Null Productions"
   ]
  },
  {
   "cell_type": "code",
   "execution_count": 8,
   "id": "21d49262",
   "metadata": {},
   "outputs": [],
   "source": [
    "def remove_null(CFG):\n",
    "    # Step 1: Find nullable non-terminals\n",
    "    nullable = set()\n",
    "    for nonterm in CFG:\n",
    "        if '' in CFG[nonterm]:\n",
    "            nullable.add(nonterm)\n",
    "    while True:\n",
    "        new_nullable = set()\n",
    "        for nonterm, prods in CFG.items():\n",
    "            for prod in prods:\n",
    "                if all(s in nullable for s in prod):\n",
    "                    new_nullable.add(nonterm)\n",
    "                    break\n",
    "        if new_nullable == nullable:\n",
    "            break\n",
    "        nullable = new_nullable\n",
    "    \n",
    "    # Step 2: Construct new productions\n",
    "    new_prods = {}\n",
    "    for nonterm, prods in CFG.items():\n",
    "        new_prods[nonterm] = set()\n",
    "        for prod in prods:\n",
    "            new_prod = ['']\n",
    "            for s in prod:\n",
    "                if s in nullable:\n",
    "                    new_prod += [x + s for x in new_prod]\n",
    "                else:\n",
    "                    new_prod = [x + s for x in new_prod]\n",
    "            new_prods[nonterm] |= set(new_prod)\n",
    "    \n",
    "    # Step 3: Remove epsilon productions and return the new CFG\n",
    "    new_CFG = {}\n",
    "    for nonterm, prods in new_prods.items():\n",
    "        new_CFG[nonterm] = set()\n",
    "        for prod in prods:\n",
    "            if prod != '':\n",
    "                new_CFG[nonterm].add(prod)\n",
    "    return new_CFG\n"
   ]
  },
  {
   "cell_type": "code",
   "execution_count": 9,
   "id": "9aa4f8ea",
   "metadata": {},
   "outputs": [
    {
     "name": "stdout",
     "output_type": "stream",
     "text": [
      "S -> aB\n",
      "B -> b | a\n"
     ]
    }
   ],
   "source": [
    "#CFG = {'S':['AB'], 'A':['aAA','bB',''], 'B':['bBB','']}\n",
    "cfg = remove_null(CFG)\n",
    "for nonterm, prods in cfg.items():\n",
    "    print(nonterm, '->', ' | '.join(prods))\n"
   ]
  },
  {
   "cell_type": "code",
   "execution_count": 17,
   "id": "78cf1c90",
   "metadata": {},
   "outputs": [
    {
     "name": "stdout",
     "output_type": "stream",
     "text": [
      "S → AB\n",
      "A → a\n",
      "B → C | b\n",
      "C → D\n",
      "D → E\n",
      "E → a\n",
      "{'S': ['AB'], 'A': ['a'], 'B': ['C', 'b'], 'C': ['D'], 'D': ['E'], 'E': ['a']}\n"
     ]
    }
   ],
   "source": [
    "with open('input.txt') as f:\n",
    "    data = f.read().splitlines()\n",
    "CFG = {}\n",
    "for i in data:\n",
    "    print(i)\n",
    "    var = i[0]\n",
    "    j = i.split(' | ')\n",
    "    t = 1\n",
    "    CFG[var] = []\n",
    "    CFG[var].append(j[0].split(\" → \")[1])\n",
    "    if len(j) > 1:\n",
    "        while (t < len(j)):\n",
    "            CFG[var].append(j[t])\n",
    "            t += 1\n",
    "print(CFG)"
   ]
  },
  {
   "cell_type": "code",
   "execution_count": 18,
   "id": "add7a434",
   "metadata": {},
   "outputs": [
    {
     "name": "stdout",
     "output_type": "stream",
     "text": [
      "['A', 'E']\n",
      "['A', 'E', 'S']\n",
      "['A', 'E', 'S', 'D']\n",
      "['A', 'E', 'S', 'D', 'C']\n",
      "['A', 'E', 'S', 'D', 'C']\n",
      "{'S': ['aB'], 'A': ['a'], 'B': ['b', 'a'], 'C': ['a'], 'D': ['a'], 'E': ['a']}\n",
      "['B']\n",
      "['S', 'A', 'B', 'C', 'D', 'E']\n",
      "['a', 'a', 'b', 'a', 'a', 'a', 'a']\n",
      "['A', 'C', 'D', 'E']\n",
      "{'S': ['aB'], 'B': ['b', 'a']}\n",
      "\n",
      "\n",
      "\n",
      "S -> aB\n",
      "B -> b | a\n"
     ]
    }
   ],
   "source": [
    "cfg1 = remove_unit(CFG)\n",
    "cfg2 = remove_useless(cfg1)\n",
    "cfg3 = remove_null(cfg2)\n",
    "print(\"\\n\\n\")\n",
    "for nonterm, prods in cfg3.items():\n",
    "    print(nonterm, '->', ' | '.join(prods))"
   ]
  },
  {
   "cell_type": "code",
   "execution_count": null,
   "id": "65bc6bef",
   "metadata": {},
   "outputs": [
    {
     "ename": "",
     "evalue": "",
     "output_type": "error",
     "traceback": [
      "\u001b[1;31mFailed to start the Kernel. \n",
      "\u001b[1;31mTraceback (most recent call last):\n",
      "\u001b[1;31m  File \"c:\\Users\\Owner\\AppData\\Local\\Programs\\Python\\Python310\\lib\\runpy.py\", line 196, in _run_module_as_main\n",
      "\u001b[1;31m    return _run_code(code, main_globals, None,\n",
      "\u001b[1;31m  File \"c:\\Users\\Owner\\AppData\\Local\\Programs\\Python\\Python310\\lib\\runpy.py\", line 86, in _run_code\n",
      "\u001b[1;31m    exec(code, run_globals)\n",
      "\u001b[1;31m  File \"c:\\Users\\Owner\\AppData\\Local\\Programs\\Python\\Python310\\lib\\site-packages\\ipykernel_launcher.py\", line 15, in <module>\n",
      "\u001b[1;31m    from ipykernel import kernelapp as app\n",
      "\u001b[1;31m  File \"c:\\Users\\Owner\\AppData\\Local\\Programs\\Python\\Python310\\lib\\site-packages\\ipykernel\\kernelapp.py\", line 51, in <module>\n",
      "\u001b[1;31m    from .ipkernel import IPythonKernel\n",
      "\u001b[1;31m  File \"c:\\Users\\Owner\\AppData\\Local\\Programs\\Python\\Python310\\lib\\site-packages\\ipykernel\\ipkernel.py\", line 19, in <module>\n",
      "\u001b[1;31m    from .debugger import Debugger, _is_debugpy_available\n",
      "\u001b[1;31m  File \"c:\\Users\\Owner\\AppData\\Local\\Programs\\Python\\Python310\\lib\\site-packages\\ipykernel\\debugger.py\", line 22, in <module>\n",
      "\u001b[1;31m    from debugpy.server import api  # noqa\n",
      "\u001b[1;31m  File \"c:\\Users\\Owner\\AppData\\Local\\Programs\\Python\\Python310\\lib\\site-packages\\debugpy\\server\\__init__.py\", line 7, in <module>\n",
      "\u001b[1;31m    import debugpy._vendored.force_pydevd  # noqa\n",
      "\u001b[1;31m  File \"c:\\Users\\Owner\\AppData\\Local\\Programs\\Python\\Python310\\lib\\site-packages\\debugpy\\_vendored\\force_pydevd.py\", line 28, in <module>\n",
      "\u001b[1;31m    pydevd_constants = import_module('_pydevd_bundle.pydevd_constants')\n",
      "\u001b[1;31m  File \"c:\\Users\\Owner\\AppData\\Local\\Programs\\Python\\Python310\\lib\\importlib\\__init__.py\", line 126, in import_module\n",
      "\u001b[1;31m    return _bootstrap._gcd_import(name[level:], package, level)\n",
      "\u001b[1;31m  File \"c:\\Users\\Owner\\AppData\\Local\\Programs\\Python\\Python310\\lib\\site-packages\\debugpy\\_vendored\\pydevd\\_pydevd_bundle\\pydevd_constants.py\", line 364, in <module>\n",
      "\u001b[1;31m    from _pydev_bundle._pydev_saved_modules import thread, threading\n",
      "\u001b[1;31m  File \"c:\\Users\\Owner\\AppData\\Local\\Programs\\Python\\Python310\\lib\\site-packages\\debugpy\\_vendored\\pydevd\\_pydev_bundle\\_pydev_saved_modules.py\", line 91, in <module>\n",
      "\u001b[1;31m    import code as _code;    verify_shadowed.check(_code, ['compile_command', 'InteractiveInterpreter'])\n",
      "\u001b[1;31m  File \"c:\\Users\\Owner\\AppData\\Local\\Programs\\Python\\Python310\\lib\\site-packages\\debugpy\\_vendored\\pydevd\\_pydev_bundle\\_pydev_saved_modules.py\", line 75, in check\n",
      "\u001b[1;31m    raise DebuggerInitializationError(msg)\n",
      "\u001b[1;31m_pydev_bundle._pydev_saved_modules.DebuggerInitializationError: It was not possible to initialize the debugger due to a module name conflict.\n",
      "\u001b[1;31m\n",
      "\u001b[1;31mi.e.: the module \"code\" could not be imported because it is shadowed by:\n",
      "\u001b[1;31mc:\\Users\\Owner\\Desktop\\SEM 5\\THOC\\code.py\n",
      "\u001b[1;31mPlease rename this file/folder so that the original module from the standard library can be imported. \n",
      "\u001b[1;31mView Jupyter <a href='command:jupyter.viewOutput'>log</a> for further details."
     ]
    }
   ],
   "source": [
    "def cfg_to_cnf(cfg):\n",
    "    # Step 1: Add new start symbol if necessary\n",
    "    if 'S' in cfg and any('S' in rhs for rhs in cfg.values()):\n",
    "        new_start = 'S\\''\n",
    "        while new_start in cfg:\n",
    "            new_start += '\\''\n",
    "        cfg[new_start] = ['S']\n",
    "        del cfg['S']\n",
    "        for symbol, rhs in cfg.items():\n",
    "            cfg[symbol] = [new_start if s == 'S' else s for s in rhs]\n",
    "    \n",
    "    # Step 2: Remove null productions (not needed)\n",
    "    \n",
    "    # Step 3: Remove unit productions (not needed)\n",
    "    \n",
    "    # Step 4: Replace A → aB with A → XB, X → a\n",
    "    new_rules = {}\n",
    "    for symbol, rhs in cfg.items():\n",
    "        new_rhs = []\n",
    "        for prod in rhs:\n",
    "            if len(prod) == 1:\n",
    "                new_rhs.append(prod)\n",
    "            else:\n",
    "                for i, s in enumerate(prod):\n",
    "                    if s.islower():\n",
    "                        new_nonterm = f'{symbol}_{i}'\n",
    "                        if new_nonterm not in new_rules:\n",
    "                            new_rules[new_nonterm] = [s]\n",
    "                        new_rhs.append(new_nonterm)\n",
    "                        break\n",
    "                    elif i == len(prod) - 1:\n",
    "                        new_rhs.append(prod)\n",
    "        cfg[symbol] = new_rhs\n",
    "    for symbol, rhs in new_rules.items():\n",
    "        cfg[symbol] = rhs\n",
    "    \n",
    "    # Step 3: Replace A → B1B2...Bn with A → B1C, C → B2...Bn\n",
    "    new_rules = {}\n",
    "    for symbol, rhs in cfg.items():\n",
    "        new_rhs = []\n",
    "        for prod in rhs:\n",
    "            if len(prod) <= 2:\n",
    "                new_rhs.append(prod)\n",
    "            else:\n",
    "                new_nonterm = f'{symbol}_1'\n",
    "                if new_nonterm not in new_rules:\n",
    "                    new_rules[new_nonterm] = prod[1:]\n",
    "                new_rhs.append(prod[:2] + [new_nonterm])\n",
    "                for i in range(2, len(prod)):\n",
    "                    prev_nonterm, new_nonterm = new_nonterm, f'{symbol}_{i}'\n",
    "                    if new_nonterm not in new_rules:\n",
    "                        new_rules[new_nonterm] = prod[i:]\n",
    "                    new_rhs.append([prev_nonterm, new_nonterm])\n",
    "        cfg[symbol] = new_rhs\n",
    "    for symbol, rhs in new_rules.items():\n",
    "        cfg[symbol] = [rhs]\n",
    "    \n",
    "    return cfg\n",
    "CFG = {'S': ['AB'], 'A': ['a'], 'B': ['C', 'b'], 'C': ['D'], 'D': ['E'], 'E': ['a']}\n",
    "cfg_to_cnf(CFG)"
   ]
  },
  {
   "cell_type": "markdown",
   "id": "529f35ac",
   "metadata": {},
   "source": [
    "# Plot the finite Automata"
   ]
  },
  {
   "cell_type": "code",
   "execution_count": 19,
   "id": "73953019",
   "metadata": {},
   "outputs": [],
   "source": [
    "import graphviz\n",
    "\n",
    "def plot_automaton(grammar):\n",
    "    \"\"\"Plot the finite automaton corresponding to a CFG.\"\"\"\n",
    "    # Create a new graph\n",
    "    graph = graphviz.Digraph(format='png')\n",
    "\n",
    "    # Add states and transitions for each production in the CFG\n",
    "    for var, prods in grammar.items():\n",
    "        # Add the state for the variable\n",
    "        graph.node(var)\n",
    "        for prod in prods:\n",
    "            # If the production is a single terminal symbol, add a transition to a new dummy state\n",
    "            if len(prod) == 1 and prod[0].islower():\n",
    "                graph.edge(var, 'D0', label=prod[0])\n",
    "            else:\n",
    "                # Add a transition for each symbol in the production\n",
    "                for i in range(len(prod)):\n",
    "                    graph.edge(var, prod[i])\n",
    "                    # If the symbol is a nonterminal that produces a single terminal symbol, add a transition to a dummy state\n",
    "                    if len(prod[i]) == 1 and prod[i].islower():\n",
    "                        graph.edge(prod[i], 'D0', label=prod[i])\n",
    "\n",
    "    # Add a dummy state for single-terminal productions\n",
    "    graph.node('D0', shape='diamond')\n",
    "\n",
    "    # Set the graph attributes\n",
    "    graph.attr(rankdir='LR', size='8,5')\n",
    "\n",
    "    # Render and display the graph\n",
    "    graph.render(directory=\"C:\\\\Users\\\\DEVANSH\\\\Downloads\\\\THOC_Innovative\", view=True)  \n",
    "    print(graph)"
   ]
  },
  {
   "cell_type": "code",
   "execution_count": 20,
   "id": "59558491",
   "metadata": {},
   "outputs": [
    {
     "name": "stdout",
     "output_type": "stream",
     "text": [
      "digraph {\n",
      "\tS\n",
      "\tS -> a\n",
      "\ta -> D0 [label=a]\n",
      "\tS -> B\n",
      "\tB\n",
      "\tB -> D0 [label=b]\n",
      "\tB -> D0 [label=a]\n",
      "\tD0 [shape=diamond]\n",
      "\trankdir=LR size=\"8,5\"\n",
      "}\n",
      "\n"
     ]
    }
   ],
   "source": [
    "plot_automaton(cfg)"
   ]
  },
  {
   "cell_type": "code",
   "execution_count": null,
   "id": "7b1e9a95",
   "metadata": {},
   "outputs": [],
   "source": []
  }
 ],
 "metadata": {
  "kernelspec": {
   "display_name": "Python 3 (ipykernel)",
   "language": "python",
   "name": "python3"
  },
  "language_info": {
   "codemirror_mode": {
    "name": "ipython",
    "version": 3
   },
   "file_extension": ".py",
   "mimetype": "text/x-python",
   "name": "python",
   "nbconvert_exporter": "python",
   "pygments_lexer": "ipython3",
   "version": "3.10.5"
  }
 },
 "nbformat": 4,
 "nbformat_minor": 5
}
