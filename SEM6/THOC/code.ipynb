{
  "cells": [
    {
      "cell_type": "code",
      "execution_count": 4,
      "id": "e2226257",
      "metadata": {
        "id": "e2226257"
      },
      "outputs": [],
      "source": [
        "import numpy as np\n",
        "import pandas as pd\n",
        "import matplotlib.pyplot as plt\n",
        "# import graphviz"
      ]
    },
    {
      "cell_type": "code",
      "execution_count": 5,
      "id": "fd65feb4",
      "metadata": {
        "id": "fd65feb4",
        "outputId": "267ba0c0-7f65-4135-8f8b-512bc217182b"
      },
      "outputs": [
        {
          "data": {
            "text/plain": [
              "['S â†’ AB', 'A â†’ a', 'B â†’ C | b', 'C â†’ D', 'D â†’ E', 'E â†’ a']"
            ]
          },
          "execution_count": 5,
          "metadata": {},
          "output_type": "execute_result"
        }
      ],
      "source": [
        "with open('input.txt') as f:\n",
        "    data = f.read().splitlines()\n",
        "data"
      ]
    },
    {
      "cell_type": "code",
      "execution_count": 6,
      "id": "721b545a",
      "metadata": {
        "id": "721b545a",
        "outputId": "85451fce-8b9c-411e-a107-9af166b65bbc"
      },
      "outputs": [
        {
          "name": "stdout",
          "output_type": "stream",
          "text": [
            "S â†’ AB\n",
            "A â†’ a\n",
            "B â†’ C | b\n",
            "C â†’ D\n",
            "D â†’ E\n",
            "E â†’ a\n",
            "{'S': ['AB'], 'A': ['a'], 'B': ['C', 'b'], 'C': ['D'], 'D': ['E'], 'E': ['a']}\n"
          ]
        }
      ],
      "source": [
        "CFG = {}\n",
        "for i in data:\n",
        "    print(i)\n",
        "    var = i[0]\n",
        "    j = i.split(' | ')\n",
        "    t = 1\n",
        "    CFG[var] = []\n",
        "    CFG[var].append(j[0].split(\" â†’ \")[1])\n",
        "    if len(j) > 1:\n",
        "        while (t < len(j)):\n",
        "            CFG[var].append(j[t])\n",
        "            t += 1\n",
        "print(CFG)"
      ]
    },
    {
      "cell_type": "markdown",
      "id": "a7562f64",
      "metadata": {
        "id": "a7562f64"
      },
      "source": [
        "# Eliminate Unit Productions"
      ]
    },
    {
      "cell_type": "code",
      "execution_count": 7,
      "id": "d69f17d1",
      "metadata": {
        "id": "d69f17d1",
        "outputId": "59f69620-11fe-4b58-83ea-eed61243492b"
      },
      "outputs": [
        {
          "name": "stdout",
          "output_type": "stream",
          "text": [
            "['A', 'E']\n"
          ]
        }
      ],
      "source": [
        "#1st finding out all states that have single terminal in RHS\n",
        "single_terminals = []\n",
        "for i in CFG:\n",
        "    if len(CFG[i])==1 and CFG[i][0].islower():\n",
        "        single_terminals.append(i)\n",
        "print(single_terminals)"
      ]
    },
    {
      "cell_type": "code",
      "execution_count": 8,
      "id": "e58a2ca5",
      "metadata": {
        "id": "e58a2ca5",
        "outputId": "c69d46ce-2813-490a-fba8-7be04233d806"
      },
      "outputs": [
        {
          "name": "stdout",
          "output_type": "stream",
          "text": [
            "['A', 'E', 'S']\n",
            "['A', 'E', 'S', 'D']\n",
            "['A', 'E', 'S', 'D', 'C']\n",
            "['A', 'E', 'S', 'D', 'C']\n",
            "{'S': ['aB'], 'A': ['a'], 'B': ['b', 'a'], 'C': ['a'], 'D': ['a'], 'E': ['a']}\n"
          ]
        }
      ],
      "source": [
        "# Now, checking if any of the single terminals are in RHS of any other state\n",
        "while True:\n",
        "    changed = False\n",
        "    for i in CFG:\n",
        "        for j in CFG[i]:\n",
        "            for l in j:\n",
        "                if l in single_terminals:\n",
        "                    k = single_terminals.index(l)\n",
        "                    CFG[i].append(j.replace(single_terminals[k], CFG[single_terminals[k]][0]))\n",
        "                    CFG[i].remove(j)\n",
        "                    if len(CFG[i])==1:\n",
        "                        single_terminals.append(i)\n",
        "                    print(single_terminals)\n",
        "                    changed = True\n",
        "    if not changed:\n",
        "        break\n",
        "print(CFG)"
      ]
    },
    {
      "cell_type": "code",
      "execution_count": 9,
      "id": "6e3702d4",
      "metadata": {
        "id": "6e3702d4",
        "outputId": "7932f60f-1c0c-4c15-dc0b-2a875eff8f71"
      },
      "outputs": [
        {
          "name": "stdout",
          "output_type": "stream",
          "text": [
            "{'S': ['aB'], 'A': ['a'], 'B': ['b', 'a'], 'C': ['a'], 'D': ['a'], 'E': ['a']}\n"
          ]
        }
      ],
      "source": [
        "# Now, checking if any of the single terminals are in RHS of any other state\n",
        "for i in CFG:\n",
        "    for j in CFG[i]:\n",
        "        for k in single_terminals:\n",
        "            if k in j:\n",
        "                #single_terminals.append(k)\n",
        "                CFG[i].append(j.replace(k, CFG[k][0]))\n",
        "                CFG[i].remove(j)\n",
        "print(CFG)"
      ]
    },
    {
      "cell_type": "markdown",
      "id": "eb5a6378",
      "metadata": {
        "id": "eb5a6378"
      },
      "source": [
        "# Elimate Useless Productions"
      ]
    },
    {
      "cell_type": "markdown",
      "id": "c975ad8b",
      "metadata": {
        "id": "c975ad8b"
      },
      "source": [
        "# 1) Unreachable"
      ]
    },
    {
      "cell_type": "code",
      "execution_count": 10,
      "id": "aef649ec",
      "metadata": {
        "id": "aef649ec",
        "outputId": "b1731f3d-5373-48d7-9e64-213d20526aa0"
      },
      "outputs": [
        {
          "name": "stdout",
          "output_type": "stream",
          "text": [
            "['B']\n",
            "['S', 'A', 'B', 'C', 'D', 'E']\n",
            "['a', 'a', 'b', 'a', 'a', 'a', 'a']\n"
          ]
        }
      ],
      "source": [
        "reachable_states = []\n",
        "given_states = []\n",
        "terminals = []\n",
        "for i in CFG:\n",
        "    if i not in given_states:\n",
        "        given_states.append(i)\n",
        "    for j in CFG[i]:\n",
        "        for l in j:\n",
        "            if l not in reachable_states:\n",
        "                if l.isupper():\n",
        "                    reachable_states.append(l)\n",
        "                else:\n",
        "                    terminals.append(l)\n",
        "print(reachable_states)\n",
        "print(given_states)\n",
        "print(terminals)"
      ]
    },
    {
      "cell_type": "code",
      "execution_count": 11,
      "id": "6bee483f",
      "metadata": {
        "id": "6bee483f",
        "outputId": "742e32f8-792e-49f5-af66-4ab9d54cbbcf"
      },
      "outputs": [
        {
          "name": "stdout",
          "output_type": "stream",
          "text": [
            "['A', 'C', 'D', 'E']\n"
          ]
        }
      ],
      "source": [
        "unreachable = []\n",
        "for i in given_states:\n",
        "    if i==\"S\":\n",
        "        continue\n",
        "    elif i not in reachable_states:\n",
        "        unreachable.append(i)\n",
        "print(unreachable)"
      ]
    },
    {
      "cell_type": "code",
      "execution_count": 12,
      "id": "3f577573",
      "metadata": {
        "id": "3f577573",
        "outputId": "06e64548-3a13-4bf6-d7e8-8d6f40c59ce7"
      },
      "outputs": [
        {
          "name": "stdout",
          "output_type": "stream",
          "text": [
            "{'S': ['aB'], 'B': ['b', 'a']}\n"
          ]
        }
      ],
      "source": [
        "for i in unreachable:\n",
        "    CFG.pop(i)\n",
        "print(CFG)"
      ]
    },
    {
      "cell_type": "markdown",
      "id": "b061a5fd",
      "metadata": {
        "id": "b061a5fd"
      },
      "source": []
    },
    {
      "cell_type": "markdown",
      "id": "2577a69a",
      "metadata": {
        "id": "2577a69a"
      },
      "source": [
        "# Eliminate Null Productions"
      ]
    },
    {
      "cell_type": "code",
      "execution_count": null,
      "id": "7dfff322",
      "metadata": {
        "id": "7dfff322"
      },
      "outputs": [],
      "source": []
    },
    {
      "cell_type": "code",
      "execution_count": null,
      "id": "d74fe66b",
      "metadata": {
        "id": "d74fe66b"
      },
      "outputs": [],
      "source": []
    },
    {
      "cell_type": "code",
      "execution_count": null,
      "id": "673b7a9a",
      "metadata": {
        "id": "673b7a9a"
      },
      "outputs": [],
      "source": []
    },
    {
      "attachments": {},
      "cell_type": "markdown",
      "id": "a1419676",
      "metadata": {},
      "source": [
        "# Convert to Chomsky Normal Form"
      ]
    },
    {
      "cell_type": "code",
      "execution_count": null,
      "id": "76ba21d6",
      "metadata": {},
      "outputs": [
        {
          "ename": "",
          "evalue": "",
          "output_type": "error",
          "traceback": [
            "\u001b[1;31mFailed to start the Kernel. \n",
            "\u001b[1;31mTraceback (most recent call last):\n",
            "\u001b[1;31m  File \"c:\\Users\\Owner\\AppData\\Local\\Programs\\Python\\Python310\\lib\\runpy.py\", line 196, in _run_module_as_main\n",
            "\u001b[1;31m    return _run_code(code, main_globals, None,\n",
            "\u001b[1;31m  File \"c:\\Users\\Owner\\AppData\\Local\\Programs\\Python\\Python310\\lib\\runpy.py\", line 86, in _run_code\n",
            "\u001b[1;31m    exec(code, run_globals)\n",
            "\u001b[1;31m  File \"c:\\Users\\Owner\\AppData\\Local\\Programs\\Python\\Python310\\lib\\site-packages\\ipykernel_launcher.py\", line 15, in <module>\n",
            "\u001b[1;31m    from ipykernel import kernelapp as app\n",
            "\u001b[1;31m  File \"c:\\Users\\Owner\\AppData\\Local\\Programs\\Python\\Python310\\lib\\site-packages\\ipykernel\\kernelapp.py\", line 51, in <module>\n",
            "\u001b[1;31m    from .ipkernel import IPythonKernel\n",
            "\u001b[1;31m  File \"c:\\Users\\Owner\\AppData\\Local\\Programs\\Python\\Python310\\lib\\site-packages\\ipykernel\\ipkernel.py\", line 19, in <module>\n",
            "\u001b[1;31m    from .debugger import Debugger, _is_debugpy_available\n",
            "\u001b[1;31m  File \"c:\\Users\\Owner\\AppData\\Local\\Programs\\Python\\Python310\\lib\\site-packages\\ipykernel\\debugger.py\", line 22, in <module>\n",
            "\u001b[1;31m    from debugpy.server import api  # noqa\n",
            "\u001b[1;31m  File \"c:\\Users\\Owner\\AppData\\Local\\Programs\\Python\\Python310\\lib\\site-packages\\debugpy\\server\\__init__.py\", line 7, in <module>\n",
            "\u001b[1;31m    import debugpy._vendored.force_pydevd  # noqa\n",
            "\u001b[1;31m  File \"c:\\Users\\Owner\\AppData\\Local\\Programs\\Python\\Python310\\lib\\site-packages\\debugpy\\_vendored\\force_pydevd.py\", line 28, in <module>\n",
            "\u001b[1;31m    pydevd_constants = import_module('_pydevd_bundle.pydevd_constants')\n",
            "\u001b[1;31m  File \"c:\\Users\\Owner\\AppData\\Local\\Programs\\Python\\Python310\\lib\\importlib\\__init__.py\", line 126, in import_module\n",
            "\u001b[1;31m    return _bootstrap._gcd_import(name[level:], package, level)\n",
            "\u001b[1;31m  File \"c:\\Users\\Owner\\AppData\\Local\\Programs\\Python\\Python310\\lib\\site-packages\\debugpy\\_vendored\\pydevd\\_pydevd_bundle\\pydevd_constants.py\", line 364, in <module>\n",
            "\u001b[1;31m    from _pydev_bundle._pydev_saved_modules import thread, threading\n",
            "\u001b[1;31m  File \"c:\\Users\\Owner\\AppData\\Local\\Programs\\Python\\Python310\\lib\\site-packages\\debugpy\\_vendored\\pydevd\\_pydev_bundle\\_pydev_saved_modules.py\", line 91, in <module>\n",
            "\u001b[1;31m    import code as _code;    verify_shadowed.check(_code, ['compile_command', 'InteractiveInterpreter'])\n",
            "\u001b[1;31m  File \"c:\\Users\\Owner\\AppData\\Local\\Programs\\Python\\Python310\\lib\\site-packages\\debugpy\\_vendored\\pydevd\\_pydev_bundle\\_pydev_saved_modules.py\", line 75, in check\n",
            "\u001b[1;31m    raise DebuggerInitializationError(msg)\n",
            "\u001b[1;31m_pydev_bundle._pydev_saved_modules.DebuggerInitializationError: It was not possible to initialize the debugger due to a module name conflict.\n",
            "\u001b[1;31m\n",
            "\u001b[1;31mi.e.: the module \"code\" could not be imported because it is shadowed by:\n",
            "\u001b[1;31mc:\\Users\\Owner\\Desktop\\SEM 5\\THOC\\code.py\n",
            "\u001b[1;31mPlease rename this file/folder so that the original module from the standard library can be imported. \n",
            "\u001b[1;31mView Jupyter <a href='command:jupyter.viewOutput'>log</a> for further details."
          ]
        }
      ],
      "source": [
        "def cfg_to_cnf(cfg):\n",
        "    # Step 1: Add new start symbol if necessary\n",
        "    if 'S' in cfg and any('S' in rhs for rhs in cfg.values()):\n",
        "        new_start = 'S\\''\n",
        "        while new_start in cfg:\n",
        "            new_start += '\\''\n",
        "        cfg[new_start] = ['S']\n",
        "        del cfg['S']\n",
        "        for symbol, rhs in cfg.items():\n",
        "            cfg[symbol] = [new_start if s == 'S' else s for s in rhs]\n",
        "    \n",
        "    # Step 2: Remove null productions (not needed)\n",
        "    \n",
        "    # Step 3: Remove unit productions (not needed)\n",
        "    \n",
        "    # Step 4: Replace A → aB with A → XB, X → a\n",
        "    new_rules = {}\n",
        "    for symbol, rhs in cfg.items():\n",
        "        new_rhs = []\n",
        "        for prod in rhs:\n",
        "            if len(prod) == 1:\n",
        "                new_rhs.append(prod)\n",
        "            else:\n",
        "                for i, s in enumerate(prod):\n",
        "                    if s.islower():\n",
        "                        new_nonterm = f'{symbol}_{i}'\n",
        "                        if new_nonterm not in new_rules:\n",
        "                            new_rules[new_nonterm] = [s]\n",
        "                        new_rhs.append(new_nonterm)\n",
        "                        break\n",
        "                    elif i == len(prod) - 1:\n",
        "                        new_rhs.append(prod)\n",
        "        cfg[symbol] = new_rhs\n",
        "    for symbol, rhs in new_rules.items():\n",
        "        cfg[symbol] = rhs\n",
        "    \n",
        "    # Step 3: Replace A → B1B2...Bn with A → B1C, C → B2...Bn\n",
        "    new_rules = {}\n",
        "    for symbol, rhs in cfg.items():\n",
        "        new_rhs = []\n",
        "        for prod in rhs:\n",
        "            if len(prod) <= 2:\n",
        "                new_rhs.append(prod)\n",
        "            else:\n",
        "                new_nonterm = f'{symbol}_1'\n",
        "                if new_nonterm not in new_rules:\n",
        "                    new_rules[new_nonterm] = prod[1:]\n",
        "                new_rhs.append(prod[:2] + [new_nonterm])\n",
        "                for i in range(2, len(prod)):\n",
        "                    prev_nonterm, new_nonterm = new_nonterm, f'{symbol}_{i}'\n",
        "                    if new_nonterm not in new_rules:\n",
        "                        new_rules[new_nonterm] = prod[i:]\n",
        "                    new_rhs.append([prev_nonterm, new_nonterm])\n",
        "        cfg[symbol] = new_rhs\n",
        "    for symbol, rhs in new_rules.items():\n",
        "        cfg[symbol] = [rhs]\n",
        "    \n",
        "    return cfg\n",
        "CFG = {'S': ['AB'], 'A': ['a'], 'B': ['C', 'b'], 'C': ['D'], 'D': ['E'], 'E': ['a']}\n",
        "cfg_to_cnf(CFG)"
      ]
    },
    {
      "cell_type": "code",
      "execution_count": 45,
      "id": "b24b6376",
      "metadata": {},
      "outputs": [],
      "source": [
        "def eliminate_mixed_terms(cfg):\n",
        "    cnf = {}\n",
        "    variables = set(cfg.keys())\n",
        "    \n",
        "    # Step 1: Replace mixed terminals and non-terminals with new variables\n",
        "    for variable, productions in cfg.items():\n",
        "        new_productions = []\n",
        "        for production in productions:\n",
        "            new_production = ''\n",
        "            for symbol in production:\n",
        "                if symbol.islower():\n",
        "                    new_var = symbol.upper()\n",
        "                    while new_var in variables:\n",
        "                        new_var += \"'\"\n",
        "                    variables.add(new_var)\n",
        "                    cnf[new_var] = [symbol]\n",
        "                    new_production += new_var\n",
        "                else:\n",
        "                    new_production += symbol\n",
        "            new_productions.append(new_production)\n",
        "        cnf[variable] = new_productions\n",
        "    \n",
        "    # Step 2: Eliminate non-unit productions\n",
        "    for variable, productions in cnf.items():\n",
        "        new_productions = []\n",
        "        for production in productions:\n",
        "            if len(production) > 1:\n",
        "                new_production = ''\n",
        "                for symbol in production:\n",
        "                    new_production += symbol + \"'\"\n",
        "                    while new_production in variables:\n",
        "                        new_production += \"'\"\n",
        "                    variables.add(new_production)\n",
        "                    cnf[new_production] = [symbol]\n",
        "                new_productions.append(new_production)\n",
        "            else:\n",
        "                new_productions.append(production)\n",
        "        cnf[variable] = new_productions\n",
        "    \n",
        "    return cnf\n"
      ]
    },
    {
      "cell_type": "code",
      "execution_count": 46,
      "id": "48a2a64a",
      "metadata": {},
      "outputs": [
        {
          "ename": "RuntimeError",
          "evalue": "dictionary changed size during iteration",
          "output_type": "error",
          "traceback": [
            "\u001b[1;31m---------------------------------------------------------------------------\u001b[0m",
            "\u001b[1;31mRuntimeError\u001b[0m                              Traceback (most recent call last)",
            "\u001b[1;32mc:\\Users\\Owner\\Desktop\\SEM 5\\THOC\\code.ipynb Cell 21\u001b[0m in \u001b[0;36m<cell line: 2>\u001b[1;34m()\u001b[0m\n\u001b[0;32m      <a href='vscode-notebook-cell:/c%3A/Users/Owner/Desktop/SEM%205/THOC/code.ipynb#X34sZmlsZQ%3D%3D?line=0'>1</a>\u001b[0m cfg \u001b[39m=\u001b[39m {\u001b[39m'\u001b[39m\u001b[39mS\u001b[39m\u001b[39m'\u001b[39m: [\u001b[39m'\u001b[39m\u001b[39maSb\u001b[39m\u001b[39m'\u001b[39m, \u001b[39m'\u001b[39m\u001b[39mab\u001b[39m\u001b[39m'\u001b[39m]}\n\u001b[1;32m----> <a href='vscode-notebook-cell:/c%3A/Users/Owner/Desktop/SEM%205/THOC/code.ipynb#X34sZmlsZQ%3D%3D?line=1'>2</a>\u001b[0m cnf \u001b[39m=\u001b[39m eliminate_mixed_terms(cfg)\n\u001b[0;32m      <a href='vscode-notebook-cell:/c%3A/Users/Owner/Desktop/SEM%205/THOC/code.ipynb#X34sZmlsZQ%3D%3D?line=2'>3</a>\u001b[0m \u001b[39mprint\u001b[39m(cnf)\n",
            "\u001b[1;32mc:\\Users\\Owner\\Desktop\\SEM 5\\THOC\\code.ipynb Cell 21\u001b[0m in \u001b[0;36meliminate_mixed_terms\u001b[1;34m(cfg)\u001b[0m\n\u001b[0;32m     <a href='vscode-notebook-cell:/c%3A/Users/Owner/Desktop/SEM%205/THOC/code.ipynb#X34sZmlsZQ%3D%3D?line=20'>21</a>\u001b[0m     cnf[variable] \u001b[39m=\u001b[39m new_productions\n\u001b[0;32m     <a href='vscode-notebook-cell:/c%3A/Users/Owner/Desktop/SEM%205/THOC/code.ipynb#X34sZmlsZQ%3D%3D?line=22'>23</a>\u001b[0m \u001b[39m# Step 2: Eliminate non-unit productions\u001b[39;00m\n\u001b[1;32m---> <a href='vscode-notebook-cell:/c%3A/Users/Owner/Desktop/SEM%205/THOC/code.ipynb#X34sZmlsZQ%3D%3D?line=23'>24</a>\u001b[0m \u001b[39mfor\u001b[39;00m variable, productions \u001b[39min\u001b[39;00m cnf\u001b[39m.\u001b[39mitems():\n\u001b[0;32m     <a href='vscode-notebook-cell:/c%3A/Users/Owner/Desktop/SEM%205/THOC/code.ipynb#X34sZmlsZQ%3D%3D?line=24'>25</a>\u001b[0m     new_productions \u001b[39m=\u001b[39m []\n\u001b[0;32m     <a href='vscode-notebook-cell:/c%3A/Users/Owner/Desktop/SEM%205/THOC/code.ipynb#X34sZmlsZQ%3D%3D?line=25'>26</a>\u001b[0m     \u001b[39mfor\u001b[39;00m production \u001b[39min\u001b[39;00m productions:\n",
            "\u001b[1;31mRuntimeError\u001b[0m: dictionary changed size during iteration"
          ]
        }
      ],
      "source": [
        "cfg = {'S': ['aSb', 'ab']}\n",
        "cnf = eliminate_mixed_terms(cfg)\n",
        "print(cnf)\n"
      ]
    },
    {
      "cell_type": "code",
      "execution_count": 21,
      "id": "a717361c",
      "metadata": {},
      "outputs": [
        {
          "ename": "KeyError",
          "evalue": "'non_terminals'",
          "output_type": "error",
          "traceback": [
            "\u001b[1;31m---------------------------------------------------------------------------\u001b[0m",
            "\u001b[1;31mKeyError\u001b[0m                                  Traceback (most recent call last)",
            "\u001b[1;32mc:\\Users\\Owner\\Desktop\\SEM 5\\THOC\\code.ipynb Cell 20\u001b[0m in \u001b[0;36m<cell line: 7>\u001b[1;34m()\u001b[0m\n\u001b[0;32m      <a href='vscode-notebook-cell:/c%3A/Users/Owner/Desktop/SEM%205/THOC/code.ipynb#X31sZmlsZQ%3D%3D?line=0'>1</a>\u001b[0m cfg \u001b[39m=\u001b[39m {\n\u001b[0;32m      <a href='vscode-notebook-cell:/c%3A/Users/Owner/Desktop/SEM%205/THOC/code.ipynb#X31sZmlsZQ%3D%3D?line=1'>2</a>\u001b[0m     \u001b[39m'\u001b[39m\u001b[39mS\u001b[39m\u001b[39m'\u001b[39m: [\u001b[39m'\u001b[39m\u001b[39maAB\u001b[39m\u001b[39m'\u001b[39m, \u001b[39m'\u001b[39m\u001b[39mbBA\u001b[39m\u001b[39m'\u001b[39m],\n\u001b[0;32m      <a href='vscode-notebook-cell:/c%3A/Users/Owner/Desktop/SEM%205/THOC/code.ipynb#X31sZmlsZQ%3D%3D?line=2'>3</a>\u001b[0m     \u001b[39m'\u001b[39m\u001b[39mA\u001b[39m\u001b[39m'\u001b[39m: [\u001b[39m'\u001b[39m\u001b[39ma\u001b[39m\u001b[39m'\u001b[39m, \u001b[39m'\u001b[39m\u001b[39maS\u001b[39m\u001b[39m'\u001b[39m, \u001b[39m'\u001b[39m\u001b[39mbAA\u001b[39m\u001b[39m'\u001b[39m],\n\u001b[0;32m      <a href='vscode-notebook-cell:/c%3A/Users/Owner/Desktop/SEM%205/THOC/code.ipynb#X31sZmlsZQ%3D%3D?line=3'>4</a>\u001b[0m     \u001b[39m'\u001b[39m\u001b[39mB\u001b[39m\u001b[39m'\u001b[39m: [\u001b[39m'\u001b[39m\u001b[39mb\u001b[39m\u001b[39m'\u001b[39m, \u001b[39m'\u001b[39m\u001b[39mbS\u001b[39m\u001b[39m'\u001b[39m, \u001b[39m'\u001b[39m\u001b[39maBB\u001b[39m\u001b[39m'\u001b[39m]\n\u001b[0;32m      <a href='vscode-notebook-cell:/c%3A/Users/Owner/Desktop/SEM%205/THOC/code.ipynb#X31sZmlsZQ%3D%3D?line=4'>5</a>\u001b[0m }\n\u001b[1;32m----> <a href='vscode-notebook-cell:/c%3A/Users/Owner/Desktop/SEM%205/THOC/code.ipynb#X31sZmlsZQ%3D%3D?line=6'>7</a>\u001b[0m cnf \u001b[39m=\u001b[39m convert_to_cnf(cfg)\n",
            "\u001b[1;32mc:\\Users\\Owner\\Desktop\\SEM 5\\THOC\\code.ipynb Cell 20\u001b[0m in \u001b[0;36mconvert_to_cnf\u001b[1;34m(cfg)\u001b[0m\n\u001b[0;32m      <a href='vscode-notebook-cell:/c%3A/Users/Owner/Desktop/SEM%205/THOC/code.ipynb#X31sZmlsZQ%3D%3D?line=0'>1</a>\u001b[0m \u001b[39mdef\u001b[39;00m \u001b[39mconvert_to_cnf\u001b[39m(cfg):\n\u001b[0;32m      <a href='vscode-notebook-cell:/c%3A/Users/Owner/Desktop/SEM%205/THOC/code.ipynb#X31sZmlsZQ%3D%3D?line=1'>2</a>\u001b[0m     new_rules \u001b[39m=\u001b[39m {}\n\u001b[1;32m----> <a href='vscode-notebook-cell:/c%3A/Users/Owner/Desktop/SEM%205/THOC/code.ipynb#X31sZmlsZQ%3D%3D?line=2'>3</a>\u001b[0m     non_terminals \u001b[39m=\u001b[39m cfg[\u001b[39m'\u001b[39;49m\u001b[39mnon_terminals\u001b[39;49m\u001b[39m'\u001b[39;49m]\n\u001b[0;32m      <a href='vscode-notebook-cell:/c%3A/Users/Owner/Desktop/SEM%205/THOC/code.ipynb#X31sZmlsZQ%3D%3D?line=3'>4</a>\u001b[0m     start_symbol \u001b[39m=\u001b[39m cfg[\u001b[39m'\u001b[39m\u001b[39mstart_symbol\u001b[39m\u001b[39m'\u001b[39m]\n\u001b[0;32m      <a href='vscode-notebook-cell:/c%3A/Users/Owner/Desktop/SEM%205/THOC/code.ipynb#X31sZmlsZQ%3D%3D?line=5'>6</a>\u001b[0m     \u001b[39m# Step 1: Eliminate productions with more than two non-terminals\u001b[39;00m\n",
            "\u001b[1;31mKeyError\u001b[0m: 'non_terminals'"
          ]
        }
      ],
      "source": [
        "cfg = {\n",
        "    'S': ['aAB', 'bBA'],\n",
        "    'A': ['a', 'aS', 'bAA'],\n",
        "    'B': ['b', 'bS', 'aBB']\n",
        "}\n",
        "\n",
        "cnf = convert_to_cnf(cfg)\n",
        "\n",
        "# for lhs, rhs_list in cnf.items():\n",
        "#     for rhs in rhs_list:\n",
        "#         print(f'{lhs} -> {rhs}')"
      ]
    },
    {
      "cell_type": "markdown",
      "id": "0583e2f8",
      "metadata": {
        "id": "0583e2f8"
      },
      "source": [
        "# Plot the finite Automata"
      ]
    },
    {
      "cell_type": "code",
      "execution_count": null,
      "id": "7df366ac",
      "metadata": {
        "id": "7df366ac"
      },
      "outputs": [],
      "source": [
        "import graphviz\n",
        "\n",
        "def plot_automaton(grammar):\n",
        "    \"\"\"Plot the finite automaton corresponding to a CFG.\"\"\"\n",
        "    # Create a new graph\n",
        "    graph = graphviz.Digraph(format='png')\n",
        "\n",
        "    # Add states and transitions for each production in the CFG\n",
        "    for var, prods in grammar.items():\n",
        "        # Add the state for the variable\n",
        "        graph.node(var)\n",
        "        for prod in prods:\n",
        "            # If the production is a single terminal symbol, add a transition to a new dummy state\n",
        "            if len(prod) == 1 and prod[0].islower():\n",
        "                graph.edge(var, 'D0', label=prod[0])\n",
        "            else:\n",
        "                # Add a transition for each symbol in the production\n",
        "                for i in range(len(prod)):\n",
        "                    graph.edge(var, prod[i])\n",
        "                    # If the symbol is a nonterminal that produces a single terminal symbol, add a transition to a dummy state\n",
        "                    if len(prod[i]) == 1 and prod[i].islower():\n",
        "                        graph.edge(prod[i], 'D0', label=prod[i])\n",
        "\n",
        "    # Add a dummy state for single-terminal productions\n",
        "    graph.node('D0', shape='diamond')\n",
        "\n",
        "    # Set the graph attributes\n",
        "    graph.attr(rankdir='LR', size='8,5')\n",
        "\n",
        "    # Render and display the graph\n",
        "    graph.render(directory=\"C:\\\\Users\\\\DEVANSH\\\\Downloads\\\\THOC_Innovative\", view=True)  \n",
        "    print(graph)"
      ]
    },
    {
      "cell_type": "code",
      "execution_count": null,
      "id": "3825d2f1",
      "metadata": {
        "id": "3825d2f1"
      },
      "outputs": [],
      "source": [
        "cfg = {'S': ['AC'], 'A': ['a'], 'C': ['c', 'BC']}\n",
        "plot_automaton(cfg)"
      ]
    }
  ],
  "metadata": {
    "colab": {
      "provenance": []
    },
    "kernelspec": {
      "display_name": "Python 3 (ipykernel)",
      "language": "python",
      "name": "python3"
    },
    "language_info": {
      "codemirror_mode": {
        "name": "ipython",
        "version": 3
      },
      "file_extension": ".py",
      "mimetype": "text/x-python",
      "name": "python",
      "nbconvert_exporter": "python",
      "pygments_lexer": "ipython3",
      "version": "3.10.5"
    }
  },
  "nbformat": 4,
  "nbformat_minor": 5
}
