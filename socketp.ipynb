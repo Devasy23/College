{
 "cells": [
  {
   "cell_type": "code",
   "execution_count": 1,
   "metadata": {},
   "outputs": [
    {
     "name": "stdout",
     "output_type": "stream",
     "text": [
      "Socket successfully created\n",
      "Socket connection failed with error [WinError 10060] A connection attempt failed because the connected party did not properly respond after a period of time, or established connection failed because connected host has failed to respond\n"
     ]
    }
   ],
   "source": [
    "import socket\n",
    "import sys\n",
    "\n",
    "try:\n",
    "    s = socket.socket(socket.AF_INET, socket.SOCK_STREAM)\n",
    "    print(\"Socket successfully created\")\n",
    "except socket.error as err:\n",
    "    print(\"Socket creation failed with error %s\" %(err))\n",
    "    sys.exit()\n",
    "\n",
    "try:\n",
    "    host_name = 'www.python.org'\n",
    "    port = 80\n",
    "    s.connect((host_name, port))\n",
    "    print(\"sockect connected to %s on port %s\" %(host_name, port))\n",
    "    s.shutdown(2)\n",
    "    \n",
    "except socket.error as err:\n",
    "    print(\"Socket connection failed with error %s\" %(err))\n",
    "    # sys.exit()"
   ]
  },
  {
   "cell_type": "code",
   "execution_count": 12,
   "metadata": {},
   "outputs": [
    {
     "name": "stdout",
     "output_type": "stream",
     "text": [
      "IP for www.python.org is 151.101.152.223\n",
      "Socket connected to 151.101.152.223 on port 80\n"
     ]
    }
   ],
   "source": [
    "ip = socket.gethostbyname(host_name)\n",
    "s = socket.socket(socket.AF_INET, socket.SOCK_STREAM)\n",
    "print(\"IP for %s is %s\" %(host_name, ip))\n",
    "s.connect((ip, 80))\n",
    "print(\"Socket connected to %s on port %s\" %(ip, port))\n",
    "\n",
    "s.shutdown(2)"
   ]
  },
  {
   "cell_type": "code",
   "execution_count": 13,
   "metadata": {},
   "outputs": [
    {
     "data": {
      "text/plain": [
       "<socket.socket fd=1804, family=AddressFamily.AF_INET, type=SocketKind.SOCK_STREAM, proto=0, laddr=('192.168.130.18', 52882), raddr=('151.101.152.223', 80)>"
      ]
     },
     "execution_count": 13,
     "metadata": {},
     "output_type": "execute_result"
    }
   ],
   "source": [
    "s"
   ]
  },
  {
   "cell_type": "code",
   "execution_count": 1,
   "metadata": {},
   "outputs": [
    {
     "name": "stdout",
     "output_type": "stream",
     "text": [
      "('127.0.0.1', 53342) tried to connect\n",
      "from connected user: hello \n"
     ]
    }
   ],
   "source": [
    "import socket\n",
    "s = socket.socket(socket.AF_INET, socket.SOCK_STREAM)\n",
    "s.bind(('127.0.0.1', 50000))\n",
    "s.listen(5)\n",
    "while True:\n",
    "    # server is waiting for connection\n",
    "    clientsocket, address = s.accept()\n",
    "    print(address, \"tried to connect\")\n",
    "    data = clientsocket.recv(1024).decode(\"utf-8\")\n",
    "    if not data:\n",
    "        break\n",
    "    \n",
    "    print(\"from connected user: \"+ str(data))\n",
    "    clientsocket.send(bytes(\"Welcome to the server\", \"utf-8\"))\n",
    "    clientsocket.close()\n",
    "    break\n",
    "    "
   ]
  },
  {
   "cell_type": "code",
   "execution_count": 3,
   "metadata": {},
   "outputs": [
    {
     "name": "stdout",
     "output_type": "stream",
     "text": [
      "Socket successfully created\n",
      "b'Hello, world I came via UDP'\n"
     ]
    }
   ],
   "source": [
    "# now UDP\n",
    "import socket\n",
    "s= socket.socket(socket.AF_INET, socket.SOCK_DGRAM)\n",
    "print(\"Socket successfully created\")\n",
    "\n",
    "port = 50000\n",
    "s.bind(('127.0.0.1', port))\n",
    "while True:\n",
    "    data, address = s.recvfrom(4096)\n",
    "    print(str(data))\n",
    "    msg = \"Hello client\".encode(\"utf-8\")\n",
    "    s.sendto(msg, address)\n",
    "    break\n",
    "    "
   ]
  },
  {
   "cell_type": "code",
   "execution_count": 4,
   "metadata": {},
   "outputs": [
    {
     "name": "stdout",
     "output_type": "stream",
     "text": [
      "waiting for connections\n",
      "connected to :  127.0.0.1:54457\n",
      "thread number: 1\n",
      "connected to :  127.0.0.1:54467\n",
      "thread number: 2\n"
     ]
    }
   ],
   "source": [
    "# multi threaded server \n",
    "import socket\n",
    "from _thread import *\n",
    "\n",
    "s = socket.socket()\n",
    "host = '127.0.0.1'\n",
    "port = 50000\n",
    "thread_count =0\n",
    "try:\n",
    "    s.bind((host, port))\n",
    "except socket.error as e:\n",
    "    print(str(e))\n",
    "    \n",
    "s.listen(5)\n",
    "print(\"waiting for connections\")\n",
    "\n",
    "\n",
    "def client_thread(connection):\n",
    "    connection.send(bytes(\"hello from server\", \"utf-8\"))\n",
    "    while True:\n",
    "        data = connection.recv(2048)\n",
    "        reply = \"I am server\" + data.decode('utf-8')\n",
    "        if not data:\n",
    "            break\n",
    "        connection.sendall(str.encode(reply))\n",
    "    connection.close()\n",
    "while True:\n",
    "    client, address = s.accept()\n",
    "    print(\"connected to : \", address[0] + \":\" + str(address[1]))\n",
    "    start_new_thread(client_thread, (client, ))\n",
    "    thread_count+=1\n",
    "    print(f\"thread number: {thread_count}\")\n",
    "        "
   ]
  }
 ],
 "metadata": {
  "kernelspec": {
   "display_name": "Python 3",
   "language": "python",
   "name": "python3"
  },
  "language_info": {
   "codemirror_mode": {
    "name": "ipython",
    "version": 3
   },
   "file_extension": ".py",
   "mimetype": "text/x-python",
   "name": "python",
   "nbconvert_exporter": "python",
   "pygments_lexer": "ipython3",
   "version": "3.10.5"
  },
  "orig_nbformat": 4
 },
 "nbformat": 4,
 "nbformat_minor": 2
}
